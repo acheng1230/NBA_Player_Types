{
 "cells": [
  {
   "cell_type": "markdown",
   "metadata": {},
   "source": [
    "## Web Scraping Basketball-Reference.com"
   ]
  },
  {
   "cell_type": "markdown",
   "metadata": {},
   "source": [
    "### Load Packages"
   ]
  },
  {
   "cell_type": "code",
   "execution_count": 9,
   "metadata": {
    "collapsed": true
   },
   "outputs": [],
   "source": [
    "import pandas as pd\n",
    "import numpy as np\n",
    "from selenium import webdriver\n",
    "from selenium.webdriver.common.keys import Keys\n",
    "from selenium.webdriver.common.action_chains import ActionChains\n",
    "from selenium.webdriver.common.by import By\n",
    "from selenium.webdriver.support.ui import WebDriverWait\n",
    "from selenium.webdriver.support import expected_conditions as EC"
   ]
  },
  {
   "cell_type": "markdown",
   "metadata": {},
   "source": [
    "### Web Scraping"
   ]
  },
  {
   "cell_type": "code",
   "execution_count": 28,
   "metadata": {
    "collapsed": false
   },
   "outputs": [],
   "source": [
    "# Chrome webdriver\n",
    "driver = webdriver.Chrome('/Users/alexcheng/Downloads/chromedriver')"
   ]
  },
  {
   "cell_type": "code",
   "execution_count": 29,
   "metadata": {
    "collapsed": false
   },
   "outputs": [],
   "source": [
    "url = \"http://www.basketball-reference.com/players/a/adamsst01.html\"\n",
    "\n",
    "driver.get(url)\n",
    "\n",
    "assert \"Basketball\" in driver.title"
   ]
  },
  {
   "cell_type": "markdown",
   "metadata": {},
   "source": [
    "### Per Game Table"
   ]
  },
  {
   "cell_type": "markdown",
   "metadata": {},
   "source": [
    "#### Share & More"
   ]
  },
  {
   "cell_type": "code",
   "execution_count": 32,
   "metadata": {
    "collapsed": true
   },
   "outputs": [],
   "source": [
    "driver.find_element_by_xpath(\"\"\"//*[@id=\"all_per_game\"]/div[1]/div/ul/li[1]/span\"\"\").click()"
   ]
  },
  {
   "cell_type": "markdown",
   "metadata": {},
   "source": [
    "#### Get Table as CSV (for Excel)"
   ]
  },
  {
   "cell_type": "code",
   "execution_count": 33,
   "metadata": {
    "collapsed": false
   },
   "outputs": [],
   "source": [
    "driver.find_element_by_xpath(\"\"\"//*[@id=\"all_per_game\"]/div[1]/div/ul/li[1]/div/ul/li[3]/button\"\"\").click()"
   ]
  },
  {
   "cell_type": "markdown",
   "metadata": {},
   "source": [
    "#### Table"
   ]
  },
  {
   "cell_type": "code",
   "execution_count": 34,
   "metadata": {
    "collapsed": true
   },
   "outputs": [],
   "source": [
    "driver.find_element_by_class_name(\"\"\"table_outer_container\"\"\").click()"
   ]
  },
  {
   "cell_type": "markdown",
   "metadata": {},
   "source": [
    "#### Text"
   ]
  },
  {
   "cell_type": "code",
   "execution_count": 37,
   "metadata": {
    "collapsed": false
   },
   "outputs": [],
   "source": [
    "csv = driver.find_element_by_id(\"csv_per_game\")"
   ]
  },
  {
   "cell_type": "code",
   "execution_count": 40,
   "metadata": {
    "collapsed": false
   },
   "outputs": [
    {
     "data": {
      "text/plain": [
       "u'Season,Age,Tm,Lg,Pos,G,GS,MP,FG,FGA,FG%,3P,3PA,3P%,2P,2PA,2P%,eFG%,FT,FTA,FT%,ORB,DRB,TRB,AST,STL,BLK,TOV,PF,PTS\\n2013-14,20,OKC,NBA,C,81,20,14.8,1.1,2.3,.503,0.0,0.0,,1.1,2.3,.503,.503,1.0,1.7,.581,1.8,2.3,4.1,0.5,0.5,0.7,0.9,2.5,3.3\\n2014-15,21,OKC,NBA,C,70,67,25.3,3.1,5.7,.544,0.0,0.0,.000,3.1,5.7,.547,.544,1.5,2.9,.502,2.8,4.6,7.5,0.9,0.5,1.2,1.4,3.2,7.7\\n2015-16,22,OKC,NBA,C,80,80,25.2,3.3,5.3,.613,0.0,0.0,,3.3,5.3,.613,.613,1.4,2.5,.582,2.7,3.9,6.7,0.8,0.5,1.1,1.1,2.8,8.0\\n2016-17,23,OKC,NBA,C,51,51,30.8,5.0,8.7,.576,0.0,0.0,.000,5.0,8.6,.578,.576,2.1,3.1,.686,3.3,4.5,7.9,1.2,1.1,1.1,2.0,2.4,12.1\\nCareer,,,NBA,,282,218,23.2,2.9,5.2,.568,0.0,0.0,.000,2.9,5.1,.570,.568,1.4,2.5,.582,2.6,3.8,6.3,0.8,0.6,1.0,1.3,2.7,7.3'"
      ]
     },
     "execution_count": 40,
     "metadata": {},
     "output_type": "execute_result"
    }
   ],
   "source": [
    "csv = csv.text\n",
    "csv"
   ]
  },
  {
   "cell_type": "code",
   "execution_count": 41,
   "metadata": {
    "collapsed": false
   },
   "outputs": [
    {
     "data": {
      "text/plain": [
       "'Season,Age,Tm,Lg,Pos,G,GS,MP,FG,FGA,FG%,3P,3PA,3P%,2P,2PA,2P%,eFG%,FT,FTA,FT%,ORB,DRB,TRB,AST,STL,BLK,TOV,PF,PTS\\n2013-14,20,OKC,NBA,C,81,20,14.8,1.1,2.3,.503,0.0,0.0,,1.1,2.3,.503,.503,1.0,1.7,.581,1.8,2.3,4.1,0.5,0.5,0.7,0.9,2.5,3.3\\n2014-15,21,OKC,NBA,C,70,67,25.3,3.1,5.7,.544,0.0,0.0,.000,3.1,5.7,.547,.544,1.5,2.9,.502,2.8,4.6,7.5,0.9,0.5,1.2,1.4,3.2,7.7\\n2015-16,22,OKC,NBA,C,80,80,25.2,3.3,5.3,.613,0.0,0.0,,3.3,5.3,.613,.613,1.4,2.5,.582,2.7,3.9,6.7,0.8,0.5,1.1,1.1,2.8,8.0\\n2016-17,23,OKC,NBA,C,51,51,30.8,5.0,8.7,.576,0.0,0.0,.000,5.0,8.6,.578,.576,2.1,3.1,.686,3.3,4.5,7.9,1.2,1.1,1.1,2.0,2.4,12.1\\nCareer,,,NBA,,282,218,23.2,2.9,5.2,.568,0.0,0.0,.000,2.9,5.1,.570,.568,1.4,2.5,.582,2.6,3.8,6.3,0.8,0.6,1.0,1.3,2.7,7.3'"
      ]
     },
     "execution_count": 41,
     "metadata": {},
     "output_type": "execute_result"
    }
   ],
   "source": [
    "csv = csv.encode('ascii')\n",
    "csv"
   ]
  },
  {
   "cell_type": "code",
   "execution_count": 42,
   "metadata": {
    "collapsed": false
   },
   "outputs": [
    {
     "data": {
      "text/plain": [
       "'Career,,,NBA,,282,218,23.2,2.9,5.2,.568,0.0,0.0,.000,2.9,5.1,.570,.568,1.4,2.5,.582,2.6,3.8,6.3,0.8,0.6,1.0,1.3,2.7,7.3'"
      ]
     },
     "execution_count": 42,
     "metadata": {},
     "output_type": "execute_result"
    }
   ],
   "source": [
    "csv = csv.split()[-1]\n",
    "csv"
   ]
  },
  {
   "cell_type": "code",
   "execution_count": 43,
   "metadata": {
    "collapsed": false
   },
   "outputs": [
    {
     "data": {
      "text/plain": [
       "'282,218,23.2,2.9,5.2,.568,0.0,0.0,.000,2.9,5.1,.570,.568,1.4,2.5,.582,2.6,3.8,6.3,0.8,0.6,1.0,1.3,2.7,7.3'"
      ]
     },
     "execution_count": 43,
     "metadata": {},
     "output_type": "execute_result"
    }
   ],
   "source": [
    "csv = csv[14:]\n",
    "csv"
   ]
  },
  {
   "cell_type": "code",
   "execution_count": 44,
   "metadata": {
    "collapsed": false
   },
   "outputs": [],
   "source": [
    "new_list = []\n",
    "for i in csv.split(','):\n",
    "    i = float(i)\n",
    "    new_list.append(i)"
   ]
  },
  {
   "cell_type": "code",
   "execution_count": 45,
   "metadata": {
    "collapsed": false
   },
   "outputs": [
    {
     "data": {
      "text/plain": [
       "[282.0,\n",
       " 218.0,\n",
       " 23.2,\n",
       " 2.9,\n",
       " 5.2,\n",
       " 0.568,\n",
       " 0.0,\n",
       " 0.0,\n",
       " 0.0,\n",
       " 2.9,\n",
       " 5.1,\n",
       " 0.57,\n",
       " 0.568,\n",
       " 1.4,\n",
       " 2.5,\n",
       " 0.582,\n",
       " 2.6,\n",
       " 3.8,\n",
       " 6.3,\n",
       " 0.8,\n",
       " 0.6,\n",
       " 1.0,\n",
       " 1.3,\n",
       " 2.7,\n",
       " 7.3]"
      ]
     },
     "execution_count": 45,
     "metadata": {},
     "output_type": "execute_result"
    }
   ],
   "source": [
    "new_list"
   ]
  },
  {
   "cell_type": "code",
   "execution_count": 46,
   "metadata": {
    "collapsed": true
   },
   "outputs": [],
   "source": [
    "name = driver.find_elements_by_xpath(\"\"\"//*[@id=\"meta\"]/div[2]/h1\"\"\") "
   ]
  },
  {
   "cell_type": "code",
   "execution_count": 47,
   "metadata": {
    "collapsed": true
   },
   "outputs": [],
   "source": [
    "for value in name:\n",
    "    name = value.text\n",
    "    name = str(name.encode('ascii'))"
   ]
  },
  {
   "cell_type": "code",
   "execution_count": 48,
   "metadata": {
    "collapsed": false
   },
   "outputs": [
    {
     "name": "stdout",
     "output_type": "stream",
     "text": [
      "['Steven Adams', 282.0, 218.0, 23.2, 2.9, 5.2, 0.568, 0.0, 0.0, 0.0, 2.9, 5.1, 0.57, 0.568, 1.4, 2.5, 0.582, 2.6, 3.8, 6.3, 0.8, 0.6, 1.0, 1.3, 2.7, 7.3]\n"
     ]
    }
   ],
   "source": [
    "# Combine and flatten dataframe\n",
    "df = [new_list]\n",
    "\n",
    "# Create player stats rows to be joined to dataframe later\n",
    "player_stats = [name]\n",
    "for sublist in df:\n",
    "    for val in sublist:\n",
    "        player_stats.append(val)\n",
    "        \n",
    "print player_stats"
   ]
  },
  {
   "cell_type": "code",
   "execution_count": null,
   "metadata": {
    "collapsed": true
   },
   "outputs": [],
   "source": []
  },
  {
   "cell_type": "code",
   "execution_count": null,
   "metadata": {
    "collapsed": true
   },
   "outputs": [],
   "source": []
  },
  {
   "cell_type": "code",
   "execution_count": null,
   "metadata": {
    "collapsed": true
   },
   "outputs": [],
   "source": []
  },
  {
   "cell_type": "code",
   "execution_count": null,
   "metadata": {
    "collapsed": true
   },
   "outputs": [],
   "source": []
  },
  {
   "cell_type": "code",
   "execution_count": null,
   "metadata": {
    "collapsed": true
   },
   "outputs": [],
   "source": []
  },
  {
   "cell_type": "code",
   "execution_count": null,
   "metadata": {
    "collapsed": true
   },
   "outputs": [],
   "source": []
  },
  {
   "cell_type": "code",
   "execution_count": null,
   "metadata": {
    "collapsed": true
   },
   "outputs": [],
   "source": []
  },
  {
   "cell_type": "code",
   "execution_count": null,
   "metadata": {
    "collapsed": true
   },
   "outputs": [],
   "source": []
  },
  {
   "cell_type": "code",
   "execution_count": null,
   "metadata": {
    "collapsed": true
   },
   "outputs": [],
   "source": []
  },
  {
   "cell_type": "code",
   "execution_count": null,
   "metadata": {
    "collapsed": true
   },
   "outputs": [],
   "source": []
  },
  {
   "cell_type": "code",
   "execution_count": null,
   "metadata": {
    "collapsed": false
   },
   "outputs": [],
   "source": [
    "# get_csv = driver.find_element_by_class_name(\"\"\"tooltip\"\"\")\n",
    "# table = driver.find_element_by_class_name(\"\"\"table_outer_container\"\"\")\n",
    "# csv = driver.find_element_by_id(\"\"\"csv_per_game\"\"\")\n",
    "\n",
    "# actions = ActionChains(driver)\n",
    "# actions.move_to_element(share_more)\n",
    "# actions.move_to_element(get_csv)\n",
    "# actions.move_to_element(table)\n",
    "# actions.move_to_element(csv)"
   ]
  },
  {
   "cell_type": "code",
   "execution_count": null,
   "metadata": {
    "collapsed": false
   },
   "outputs": [],
   "source": [
    "# try:\n",
    "#     element = WebDriverWait(driver, 5).until(\n",
    "#         EC.presence_of_element_located((By.XPATH, \"\"\"//*[@id=\"all_per_game\"]/div[1]/div/ul/li[1]/div/ul/li[3]\"\"\"))).click()\n",
    "    \n",
    "#     table = driver.find_element_by_class_name(\"\"\"table_outer_container\"\"\")\n",
    "#     csv = driver.find_element_by_id(\"\"\"csv_per_game\"\"\")\n",
    "\n",
    "# finally:\n",
    "#     driver.quit()"
   ]
  },
  {
   "cell_type": "code",
   "execution_count": null,
   "metadata": {
    "collapsed": false
   },
   "outputs": [],
   "source": [
    "# # share_more_dropdown = driver.find_element_by_class_name(\"\"\"hasmore dropdown\"\"\")\n",
    "\n",
    "# share_more = driver.find_element_by_xpath(\"\"\"//*[@id=\"all_per_game\"]/div[1]/div/ul/li[1]/span\"\"\")\n",
    "# get_csv = driver.find_element_by_class_name(\"\"\"tooltip\"\"\")\n",
    "# table = driver.find_element_by_class_name(\"\"\"table_outer_container\"\"\")\n",
    "# csv = driver.find_element_by_id(\"\"\"csv_per_game\"\"\")\n",
    "\n",
    "# actions = ActionChains(driver)\n",
    "# actions.move_to_element(share_more)\n",
    "# actions.move_to_element(get_csv)\n",
    "# actions.move_to_element(table)\n",
    "# actions.move_to_element(csv)\n",
    "\n",
    "\n",
    "\n",
    "# # try:\n",
    "# #     element = WebDriverWait(driver, 5).until(\n",
    "# #         EC.presence_of_element_located((By.CLASS_NAME, \"hasmore dropdown\")))\n",
    "    \n",
    "# #     get_csv = driver.find_element_by_class_name(\"\"\"tooltip\"\"\").click()\n",
    "# #     table = driver.find_element_by_class_name(\"\"\"table_outer_container\"\"\")\n",
    "# #     csv = driver.find_element_by_id(\"\"\"csv_per_game\"\"\")\n",
    "\n",
    "# # finally:\n",
    "# #     driver.get(\"https://www.google.com/\")"
   ]
  },
  {
   "cell_type": "code",
   "execution_count": null,
   "metadata": {
    "collapsed": true
   },
   "outputs": [],
   "source": [
    "# for s in share_more:\n",
    "#     share_more = s.text\n",
    "    \n",
    "# print share_more\n",
    "\n",
    "# for c in csv:\n",
    "#     csv = c.text\n",
    "    \n",
    "# print csv"
   ]
  },
  {
   "cell_type": "code",
   "execution_count": null,
   "metadata": {
    "collapsed": false
   },
   "outputs": [],
   "source": [
    "# hidden_submenu = driver.find_element_by_css_selector(\"\"\" \"\"\")\n",
    "\n",
    "# actions = ActionChains(driver)\n",
    "# actions.move_to_element(menu)\n",
    "# actions.click(hidden_submenu)\n",
    "# actions.perform()"
   ]
  },
  {
   "cell_type": "code",
   "execution_count": null,
   "metadata": {
    "collapsed": true
   },
   "outputs": [],
   "source": [
    "# # Web scraping\n",
    "# name = driver.find_elements_by_xpath(\"\"\"//*[@id=\"meta\"]/div[2]/h1\"\"\")\n",
    "# stats = driver.find_elements_by_xpath(\"\"\"//*[@id=\"per_game\"]/tfoot/tr[1]\"\"\")\n",
    "# advanced = driver.find_elements_by_xpath(\"\"\"//*[@id=\"advanced\"]/tfoot/tr[1]\"\"\")\n",
    "# shooting = driver.find_elements_by_xpath(\"\"\"//*[@id=\"shooting\"]/tfoot/tr[1]\"\"\")"
   ]
  },
  {
   "cell_type": "code",
   "execution_count": null,
   "metadata": {
    "collapsed": true
   },
   "outputs": [],
   "source": [
    "# # Instantiate values and clean values\n",
    "# for value in name:\n",
    "#     name = value.text\n",
    "#     name = str(name.encode('ascii'))\n",
    "\n",
    "# for value in stats:\n",
    "#     stats = value.text\n",
    "#     stats = stats[11:].encode('ascii').split()\n",
    "\n",
    "# for value in shooting:\n",
    "#     shoot_stats = value.text\n",
    "#     shoot_stats = shoot_stats.encode('ascii').split()[5:-2]\n",
    "\n",
    "# for value in advanced:\n",
    "#     adv_stats = value.text\n",
    "#     adv_stats = adv_stats.encode('ascii').split()[3:]"
   ]
  },
  {
   "cell_type": "code",
   "execution_count": null,
   "metadata": {
    "collapsed": false
   },
   "outputs": [],
   "source": [
    "# # Combine and flatten dataframe\n",
    "# df = [stats, shoot_stats, adv_stats]\n",
    "\n",
    "# # Create player stats rows to be joined to dataframe later\n",
    "# player_stats = [name]\n",
    "# for sublist in df:\n",
    "#     for val in sublist:\n",
    "#         player_stats.append(val)\n",
    "\n",
    "# # Append to tmp_list\n",
    "# tmp_list.append(player_stats)\n",
    "\n",
    "# # Create dataframe\n",
    "# df = pd.DataFrame(tmp_list, columns=cols)"
   ]
  }
 ],
 "metadata": {
  "anaconda-cloud": {},
  "kernelspec": {
   "display_name": "Python [Root]",
   "language": "python",
   "name": "Python [Root]"
  },
  "language_info": {
   "codemirror_mode": {
    "name": "ipython",
    "version": 2
   },
   "file_extension": ".py",
   "mimetype": "text/x-python",
   "name": "python",
   "nbconvert_exporter": "python",
   "pygments_lexer": "ipython2",
   "version": "2.7.12"
  }
 },
 "nbformat": 4,
 "nbformat_minor": 0
}

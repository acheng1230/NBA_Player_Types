{
 "cells": [
  {
   "cell_type": "markdown",
   "metadata": {},
   "source": [
    "## Web Scraping Basketball-Reference.com"
   ]
  },
  {
   "cell_type": "markdown",
   "metadata": {},
   "source": [
    " "
   ]
  },
  {
   "cell_type": "markdown",
   "metadata": {},
   "source": [
    " "
   ]
  },
  {
   "cell_type": "markdown",
   "metadata": {},
   "source": [
    "### Load Packages"
   ]
  },
  {
   "cell_type": "code",
   "execution_count": 25,
   "metadata": {
    "collapsed": true
   },
   "outputs": [],
   "source": [
    "import re\n",
    "import pandas as pd\n",
    "import numpy as np\n",
    "from selenium import webdriver\n",
    "from selenium.webdriver.common.keys import Keys\n",
    "from selenium.webdriver.common.action_chains import ActionChains\n",
    "from selenium.webdriver.common.by import By\n",
    "from selenium.webdriver.support.ui import WebDriverWait\n",
    "from selenium.webdriver.support import expected_conditions as EC"
   ]
  },
  {
   "cell_type": "markdown",
   "metadata": {},
   "source": [
    "### Web Scraping"
   ]
  },
  {
   "cell_type": "code",
   "execution_count": 2,
   "metadata": {
    "collapsed": false
   },
   "outputs": [],
   "source": [
    "# Chrome webdriver\n",
    "driver = webdriver.Chrome('/Users/alexcheng/Downloads/chromedriver')"
   ]
  },
  {
   "cell_type": "code",
   "execution_count": 3,
   "metadata": {
    "collapsed": false
   },
   "outputs": [],
   "source": [
    "url = \"http://www.basketball-reference.com/players/a/acyqu01.html\"\n",
    "\n",
    "driver.get(url)"
   ]
  },
  {
   "cell_type": "markdown",
   "metadata": {},
   "source": [
    "### Player Name"
   ]
  },
  {
   "cell_type": "code",
   "execution_count": 4,
   "metadata": {
    "collapsed": true
   },
   "outputs": [],
   "source": [
    "name = driver.find_elements_by_xpath(\"\"\"//*[@id=\"meta\"]/div[2]/h1\"\"\") "
   ]
  },
  {
   "cell_type": "markdown",
   "metadata": {},
   "source": [
    "### Per Game Table"
   ]
  },
  {
   "cell_type": "code",
   "execution_count": 5,
   "metadata": {
    "collapsed": false
   },
   "outputs": [],
   "source": [
    "# Share & More\n",
    "driver.find_element_by_xpath(\"\"\"//*[@id=\"all_per_game\"]/div[1]/div/ul/li[1]/span\"\"\").click()"
   ]
  },
  {
   "cell_type": "code",
   "execution_count": 6,
   "metadata": {
    "collapsed": false
   },
   "outputs": [],
   "source": [
    "# Get Table as CSV (for Excel)\n",
    "driver.find_element_by_xpath(\"\"\"//*[@id=\"all_per_game\"]/div[1]/div/ul/li[1]/div/ul/li[3]/button\"\"\").click()"
   ]
  },
  {
   "cell_type": "code",
   "execution_count": 7,
   "metadata": {
    "collapsed": false
   },
   "outputs": [
    {
     "data": {
      "text/plain": [
       "<selenium.webdriver.remote.webelement.WebElement (session=\"c0b023cee44bceb3c4a330d1fe8cc126\", element=\"0.6829268132077315-4\")>"
      ]
     },
     "execution_count": 7,
     "metadata": {},
     "output_type": "execute_result"
    }
   ],
   "source": [
    "# Table\n",
    "driver.find_element_by_class_name(\"\"\"table_outer_container\"\"\")"
   ]
  },
  {
   "cell_type": "code",
   "execution_count": 8,
   "metadata": {
    "collapsed": false
   },
   "outputs": [],
   "source": [
    "# Capture CSV Text\n",
    "per_game = driver.find_element_by_id(\"csv_per_game\")"
   ]
  },
  {
   "cell_type": "markdown",
   "metadata": {},
   "source": [
    "### Shooting Table"
   ]
  },
  {
   "cell_type": "code",
   "execution_count": 9,
   "metadata": {
    "collapsed": false
   },
   "outputs": [],
   "source": [
    "# Share & More\n",
    "driver.find_element_by_xpath(\"\"\"//*[@id=\"all_shooting\"]/div[1]/div/ul/li[2]/span\"\"\").click()"
   ]
  },
  {
   "cell_type": "code",
   "execution_count": 10,
   "metadata": {
    "collapsed": false
   },
   "outputs": [],
   "source": [
    "# Get Table as CSV (for Excel)\n",
    "driver.find_element_by_xpath(\"\"\"//*[@id=\"all_shooting\"]/div[1]/div/ul/li[2]/div/ul/li[3]/button\"\"\").click()"
   ]
  },
  {
   "cell_type": "code",
   "execution_count": 11,
   "metadata": {
    "collapsed": false
   },
   "outputs": [
    {
     "data": {
      "text/plain": [
       "<selenium.webdriver.remote.webelement.WebElement (session=\"c0b023cee44bceb3c4a330d1fe8cc126\", element=\"0.6829268132077315-4\")>"
      ]
     },
     "execution_count": 11,
     "metadata": {},
     "output_type": "execute_result"
    }
   ],
   "source": [
    "# Table\n",
    "driver.find_element_by_class_name(\"\"\"table_outer_container\"\"\")"
   ]
  },
  {
   "cell_type": "code",
   "execution_count": 12,
   "metadata": {
    "collapsed": true
   },
   "outputs": [],
   "source": [
    "# Capture CSV Text\n",
    "shooting = driver.find_element_by_id(\"csv_shooting\")"
   ]
  },
  {
   "cell_type": "markdown",
   "metadata": {},
   "source": [
    "### Advanced Stats Table"
   ]
  },
  {
   "cell_type": "code",
   "execution_count": 13,
   "metadata": {
    "collapsed": true
   },
   "outputs": [],
   "source": [
    "# Share & More\n",
    "driver.find_element_by_xpath(\"\"\"//*[@id=\"all_advanced\"]/div[1]/div/ul/li[1]/span\"\"\").click()"
   ]
  },
  {
   "cell_type": "code",
   "execution_count": 14,
   "metadata": {
    "collapsed": false
   },
   "outputs": [],
   "source": [
    "# Get Table as CSV (for Excel)\n",
    "driver.find_element_by_xpath(\"\"\"//*[@id=\"all_advanced\"]/div[1]/div/ul/li[1]/div/ul/li[3]/button\"\"\").click()"
   ]
  },
  {
   "cell_type": "code",
   "execution_count": 15,
   "metadata": {
    "collapsed": false
   },
   "outputs": [
    {
     "data": {
      "text/plain": [
       "<selenium.webdriver.remote.webelement.WebElement (session=\"c0b023cee44bceb3c4a330d1fe8cc126\", element=\"0.6829268132077315-4\")>"
      ]
     },
     "execution_count": 15,
     "metadata": {},
     "output_type": "execute_result"
    }
   ],
   "source": [
    "# Table\n",
    "driver.find_element_by_class_name(\"\"\"table_outer_container\"\"\")"
   ]
  },
  {
   "cell_type": "code",
   "execution_count": 16,
   "metadata": {
    "collapsed": true
   },
   "outputs": [],
   "source": [
    "# Capture CSV Text\n",
    "advanced = driver.find_element_by_id(\"csv_advanced\")"
   ]
  },
  {
   "cell_type": "markdown",
   "metadata": {},
   "source": [
    "### Data Cleaning"
   ]
  },
  {
   "cell_type": "code",
   "execution_count": 18,
   "metadata": {
    "collapsed": true
   },
   "outputs": [],
   "source": [
    "pg = per_game\n",
    "sht = shooting\n",
    "adv = advanced"
   ]
  },
  {
   "cell_type": "markdown",
   "metadata": {},
   "source": [
    "#### Player Name"
   ]
  },
  {
   "cell_type": "code",
   "execution_count": 17,
   "metadata": {
    "collapsed": false
   },
   "outputs": [],
   "source": [
    "# Cleaning the player name\n",
    "for value in name:\n",
    "    name = value.text\n",
    "    name = str(name.encode('ascii'))"
   ]
  },
  {
   "cell_type": "markdown",
   "metadata": {},
   "source": [
    "#### Per Game Table"
   ]
  },
  {
   "cell_type": "code",
   "execution_count": 32,
   "metadata": {
    "collapsed": false
   },
   "outputs": [
    {
     "data": {
      "text/plain": [
       "'282,218,23.2,2.9,5.2,.568,0.0,0.0,.000,2.9,5.1,.570,.568,1.4,2.5,.582,2.6,3.8,6.3,0.8,0.6,1.0,1.3,2.7,7.3'"
      ]
     },
     "execution_count": 32,
     "metadata": {},
     "output_type": "execute_result"
    }
   ],
   "source": [
    "# # Clean the per_game table\n",
    "# per_game = per_game.text.encode('ascii').split()[-1][14:]\n",
    "# per_game"
   ]
  },
  {
   "cell_type": "code",
   "execution_count": 19,
   "metadata": {
    "collapsed": true
   },
   "outputs": [],
   "source": [
    "pg = pg.text.encode('ascii').split()"
   ]
  },
  {
   "cell_type": "code",
   "execution_count": 20,
   "metadata": {
    "collapsed": false
   },
   "outputs": [
    {
     "data": {
      "text/plain": [
       "['Season,Age,Tm,Lg,Pos,G,GS,MP,FG,FGA,FG%,3P,3PA,3P%,2P,2PA,2P%,eFG%,FT,FTA,FT%,ORB,DRB,TRB,AST,STL,BLK,TOV,PF,PTS',\n",
       " '2012-13,22,TOR,NBA,PF,29,0,11.8,1.4,2.6,.560,0.0,0.1,.500,1.4,2.5,.562,.567,1.1,1.3,.816,1.0,1.6,2.7,0.4,0.4,0.5,0.6,1.8,4.0',\n",
       " '2013-14,23,TOT,NBA,SF,63,0,13.4,1.0,2.2,.468,0.1,0.2,.267,1.0,2.0,.492,.482,0.6,0.8,.660,1.1,2.3,3.4,0.4,0.4,0.4,0.5,1.9,2.7',\n",
       " '2013-14,23,TOR,NBA,SF,7,0,8.7,0.9,2.0,.429,0.3,0.7,.400,0.6,1.3,.444,.500,0.7,1.1,.625,0.7,1.4,2.1,0.6,0.6,0.4,0.3,1.1,2.7',\n",
       " '2013-14,23,SAC,NBA,SF,56,0,14.0,1.1,2.3,.472,0.0,0.2,.200,1.0,2.1,.496,.480,0.5,0.8,.667,1.2,2.4,3.6,0.4,0.3,0.4,0.5,2.0,2.7',\n",
       " '2014-15,24,NYK,NBA,PF,68,22,18.9,2.2,4.9,.459,0.3,0.9,.300,2.0,4.0,.494,.486,1.1,1.4,.784,1.2,3.3,4.4,1.0,0.4,0.3,0.9,2.2,5.9',\n",
       " '2015-16,25,SAC,NBA,PF,59,29,14.8,2.0,3.6,.556,0.3,0.8,.388,1.7,2.8,.606,.600,0.8,1.2,.735,1.1,2.1,3.2,0.5,0.5,0.4,0.5,1.7,5.2',\n",
       " '2016-17,26,TOT,NBA,PF,18,0,10.1,1.7,3.6,.462,0.8,1.7,.467,0.9,1.9,.457,.569,0.9,1.1,.850,0.7,1.4,2.2,0.1,0.2,0.4,0.4,1.4,5.1',\n",
       " '2016-17,26,DAL,NBA,PF,6,0,8.0,0.8,2.8,.294,0.2,1.2,.143,0.7,1.7,.400,.324,0.3,0.5,.667,0.3,1.0,1.3,0.0,0.0,0.0,0.3,1.5,2.2',\n",
       " '2016-17,26,BRK,NBA,PF,12,0,11.2,2.1,4.0,.521,1.1,1.9,.565,1.0,2.1,.480,.656,1.3,1.4,.882,0.9,1.7,2.6,0.2,0.3,0.6,0.4,1.3,6.5',\n",
       " 'Career,,,NBA,,237,51,14.9,1.7,3.5,.495,0.2,0.7,.359,1.5,2.8,.527,.529,0.9,1.2,.757,1.1,2.4,3.5,0.6,0.4,0.4,0.6,1.9,4.6',\n",
       " ',,,,,,,,,,,,,,,,,,,,,,,,,,,,,',\n",
       " '2',\n",
       " 'seasons,,SAC,NBA,,115,29,14.5,1.6,3.0,.525,0.2,0.5,.356,1.4,2.5,.560,.556,0.7,1.0,.708,1.1,2.2,3.4,0.4,0.4,0.4,0.5,1.9,4.0',\n",
       " '1',\n",
       " 'season,,NYK,NBA,,68,22,18.9,2.2,4.9,.459,0.3,0.9,.300,2.0,4.0,.494,.486,1.1,1.4,.784,1.2,3.3,4.4,1.0,0.4,0.3,0.9,2.2,5.9',\n",
       " '2',\n",
       " 'seasons,,TOR,NBA,,36,0,11.2,1.3,2.5,.539,0.1,0.2,.429,1.3,2.3,.549,.556,1.0,1.3,.783,1.0,1.6,2.6,0.4,0.5,0.5,0.5,1.7,3.8',\n",
       " '1',\n",
       " 'season,,BRK,NBA,,12,0,11.2,2.1,4.0,.521,1.1,1.9,.565,1.0,2.1,.480,.656,1.3,1.4,.882,0.9,1.7,2.6,0.2,0.3,0.6,0.4,1.3,6.5',\n",
       " '1',\n",
       " 'season,,DAL,NBA,,6,0,8.0,0.8,2.8,.294,0.2,1.2,.143,0.7,1.7,.400,.324,0.3,0.5,.667,0.3,1.0,1.3,0.0,0.0,0.0,0.3,1.5,2.2']"
      ]
     },
     "execution_count": 20,
     "metadata": {},
     "output_type": "execute_result"
    }
   ],
   "source": [
    "pg"
   ]
  },
  {
   "cell_type": "code",
   "execution_count": 32,
   "metadata": {
    "collapsed": false
   },
   "outputs": [
    {
     "name": "stdout",
     "output_type": "stream",
     "text": [
      "Career,,,NBA,,237,51,14.9,1.7,3.5,.495,0.2,0.7,.359,1.5,2.8,.527,.529,0.9,1.2,.757,1.1,2.4,3.5,0.6,0.4,0.4,0.6,1.9,4.6\n"
     ]
    }
   ],
   "source": [
    "for i in pg:\n",
    "    if i.startswith('Career'):\n",
    "        print i"
   ]
  },
  {
   "cell_type": "code",
   "execution_count": 21,
   "metadata": {
    "collapsed": false
   },
   "outputs": [
    {
     "name": "stdout",
     "output_type": "stream",
     "text": [
      "Season,Age,Tm,Lg,Pos,G,GS,MP,FG,FGA,FG%,3P,3PA,3P%,2P,2PA,2P%,eFG%,FT,FTA,FT%,ORB,DRB,TRB,AST,STL,BLK,TOV,PF,PTS\n",
      "2012-13,22,TOR,NBA,PF,29,0,11.8,1.4,2.6,.560,0.0,0.1,.500,1.4,2.5,.562,.567,1.1,1.3,.816,1.0,1.6,2.7,0.4,0.4,0.5,0.6,1.8,4.0\n",
      "2013-14,23,TOT,NBA,SF,63,0,13.4,1.0,2.2,.468,0.1,0.2,.267,1.0,2.0,.492,.482,0.6,0.8,.660,1.1,2.3,3.4,0.4,0.4,0.4,0.5,1.9,2.7\n",
      "2013-14,23,TOR,NBA,SF,7,0,8.7,0.9,2.0,.429,0.3,0.7,.400,0.6,1.3,.444,.500,0.7,1.1,.625,0.7,1.4,2.1,0.6,0.6,0.4,0.3,1.1,2.7\n",
      "2013-14,23,SAC,NBA,SF,56,0,14.0,1.1,2.3,.472,0.0,0.2,.200,1.0,2.1,.496,.480,0.5,0.8,.667,1.2,2.4,3.6,0.4,0.3,0.4,0.5,2.0,2.7\n",
      "2014-15,24,NYK,NBA,PF,68,22,18.9,2.2,4.9,.459,0.3,0.9,.300,2.0,4.0,.494,.486,1.1,1.4,.784,1.2,3.3,4.4,1.0,0.4,0.3,0.9,2.2,5.9\n",
      "2015-16,25,SAC,NBA,PF,59,29,14.8,2.0,3.6,.556,0.3,0.8,.388,1.7,2.8,.606,.600,0.8,1.2,.735,1.1,2.1,3.2,0.5,0.5,0.4,0.5,1.7,5.2\n",
      "2016-17,26,TOT,NBA,PF,18,0,10.1,1.7,3.6,.462,0.8,1.7,.467,0.9,1.9,.457,.569,0.9,1.1,.850,0.7,1.4,2.2,0.1,0.2,0.4,0.4,1.4,5.1\n",
      "2016-17,26,DAL,NBA,PF,6,0,8.0,0.8,2.8,.294,0.2,1.2,.143,0.7,1.7,.400,.324,0.3,0.5,.667,0.3,1.0,1.3,0.0,0.0,0.0,0.3,1.5,2.2\n",
      "2016-17,26,BRK,NBA,PF,12,0,11.2,2.1,4.0,.521,1.1,1.9,.565,1.0,2.1,.480,.656,1.3,1.4,.882,0.9,1.7,2.6,0.2,0.3,0.6,0.4,1.3,6.5\n",
      ",,,,,,,,,,,,,,,,,,,,,,,,,,,,,\n",
      "2\n",
      "seasons,,SAC,NBA,,115,29,14.5,1.6,3.0,.525,0.2,0.5,.356,1.4,2.5,.560,.556,0.7,1.0,.708,1.1,2.2,3.4,0.4,0.4,0.4,0.5,1.9,4.0\n",
      "1\n",
      "season,,NYK,NBA,,68,22,18.9,2.2,4.9,.459,0.3,0.9,.300,2.0,4.0,.494,.486,1.1,1.4,.784,1.2,3.3,4.4,1.0,0.4,0.3,0.9,2.2,5.9\n",
      "2\n",
      "seasons,,TOR,NBA,,36,0,11.2,1.3,2.5,.539,0.1,0.2,.429,1.3,2.3,.549,.556,1.0,1.3,.783,1.0,1.6,2.6,0.4,0.5,0.5,0.5,1.7,3.8\n",
      "1\n",
      "season,,BRK,NBA,,12,0,11.2,2.1,4.0,.521,1.1,1.9,.565,1.0,2.1,.480,.656,1.3,1.4,.882,0.9,1.7,2.6,0.2,0.3,0.6,0.4,1.3,6.5\n",
      "1\n",
      "season,,DAL,NBA,,6,0,8.0,0.8,2.8,.294,0.2,1.2,.143,0.7,1.7,.400,.324,0.3,0.5,.667,0.3,1.0,1.3,0.0,0.0,0.0,0.3,1.5,2.2\n"
     ]
    }
   ],
   "source": [
    "for i in pg:\n",
    "    if i.find('Career'):\n",
    "        print i"
   ]
  },
  {
   "cell_type": "code",
   "execution_count": 33,
   "metadata": {
    "collapsed": false
   },
   "outputs": [
    {
     "name": "stdout",
     "output_type": "stream",
     "text": [
      "[282.0, 218.0, 23.2, 2.9, 5.2, 0.568, 0.0, 0.0, 0.0, 2.9, 5.1, 0.57, 0.568, 1.4, 2.5, 0.582, 2.6, 3.8, 6.3, 0.8, 0.6, 1.0, 1.3, 2.7, 7.3]\n"
     ]
    }
   ],
   "source": [
    "per_game_list = []\n",
    "for i in per_game.split(','):\n",
    "    i = float(i)\n",
    "    per_game_list.append(i)\n",
    "\n",
    "print per_game_list"
   ]
  },
  {
   "cell_type": "markdown",
   "metadata": {},
   "source": [
    "#### Shooting Table"
   ]
  },
  {
   "cell_type": "code",
   "execution_count": 51,
   "metadata": {
    "collapsed": false
   },
   "outputs": [
    {
     "data": {
      "text/plain": [
       "'Career,,,NBA,,282,6553,.568,3.1,.997,.635,.325,.034,.003,.003,.570,.649,.441,.380,.200,.000,.692,.224,278,,.000,,2,0'"
      ]
     },
     "execution_count": 51,
     "metadata": {},
     "output_type": "execute_result"
    }
   ],
   "source": [
    "# Clean the per_game table\n",
    "#shooting = shooting.text.encode('ascii').split()[-1][14:]\n",
    "shooting = shooting.text.encode('ascii').split()\n",
    "shooting[-1]"
   ]
  },
  {
   "cell_type": "code",
   "execution_count": 35,
   "metadata": {
    "collapsed": false
   },
   "outputs": [
    {
     "name": "stdout",
     "output_type": "stream",
     "text": [
      "[282.0, 6553.0, 0.568, 3.1, 0.997, 0.635, 0.325, 0.034, 0.003, 0.003, 0.57, 0.649, 0.441, 0.38, 0.2, 0.0, 0.692, 0.224, 278.0, 0.0, 0.0, 0.0, 2.0, 0.0]\n"
     ]
    }
   ],
   "source": [
    "shooting_list = []\n",
    "\n",
    "for i in shooting.split(','):\n",
    "    if i == '':\n",
    "        shooting_list.append(0.0)\n",
    "    else:\n",
    "        i = float(i)\n",
    "        shooting_list.append(i)\n",
    "        \n",
    "print shooting_list"
   ]
  },
  {
   "cell_type": "markdown",
   "metadata": {},
   "source": [
    "#### Advanced Stats Table"
   ]
  },
  {
   "cell_type": "code",
   "execution_count": 36,
   "metadata": {
    "collapsed": false
   },
   "outputs": [
    {
     "name": "stdout",
     "output_type": "stream",
     "text": [
      "282,6553,14.7,.585,.003,.479,12.6,17.1,14.9,5.1,1.3,3.4,16.8,13.9,,9.3,8.7,18.0,.132,,-0.7,1.6,0.9,4.8\n"
     ]
    }
   ],
   "source": [
    "advanced = advanced.text.encode('ascii').split()[-1][14:]\n",
    "print advanced"
   ]
  },
  {
   "cell_type": "code",
   "execution_count": 37,
   "metadata": {
    "collapsed": false
   },
   "outputs": [
    {
     "name": "stdout",
     "output_type": "stream",
     "text": [
      "[282.0, 6553.0, 14.7, 0.585, 0.003, 0.479, 12.6, 17.1, 14.9, 5.1, 1.3, 3.4, 16.8, 13.9, 9.3, 8.7, 18.0, 0.132, 0.0, 1.6, 0.9, 4.8]\n"
     ]
    }
   ],
   "source": [
    "advanced_list = []\n",
    "\n",
    "for i in advanced.split(','):\n",
    "    if i == '':\n",
    "        advanced_list.append(0.0)\n",
    "    else:\n",
    "        i = float(i)\n",
    "        advanced_list.append(i)\n",
    "\n",
    "del advanced_list[14]\n",
    "del advanced_list[19]\n",
    "\n",
    "print advanced_list"
   ]
  },
  {
   "cell_type": "markdown",
   "metadata": {},
   "source": [
    "### Combine the Dataframes"
   ]
  },
  {
   "cell_type": "code",
   "execution_count": 38,
   "metadata": {
    "collapsed": false
   },
   "outputs": [
    {
     "name": "stdout",
     "output_type": "stream",
     "text": [
      "['Steven Adams', 282.0, 218.0, 23.2, 2.9, 5.2, 0.568, 0.0, 0.0, 0.0, 2.9, 5.1, 0.57, 0.568, 1.4, 2.5, 0.582, 2.6, 3.8, 6.3, 0.8, 0.6, 1.0, 1.3, 2.7, 7.3, 282.0, 6553.0, 0.568, 3.1, 0.997, 0.635, 0.325, 0.034, 0.003, 0.003, 0.57, 0.649, 0.441, 0.38, 0.2, 0.0, 0.692, 0.224, 278.0, 0.0, 0.0, 0.0, 2.0, 0.0, 282.0, 6553.0, 14.7, 0.585, 0.003, 0.479, 12.6, 17.1, 14.9, 5.1, 1.3, 3.4, 16.8, 13.9, 9.3, 8.7, 18.0, 0.132, 0.0, 1.6, 0.9, 4.8]\n"
     ]
    }
   ],
   "source": [
    "# Combine and flatten dataframe\n",
    "df = [per_game_list, shooting_list, advanced_list]\n",
    "\n",
    "# Create player stats rows to be joined to dataframe later\n",
    "player_stats = [name]\n",
    "for sublist in df:\n",
    "    for val in sublist:\n",
    "        player_stats.append(val)\n",
    "        \n",
    "print player_stats"
   ]
  },
  {
   "cell_type": "markdown",
   "metadata": {
    "collapsed": true
   },
   "source": [
    "#### Columns"
   ]
  },
  {
   "cell_type": "code",
   "execution_count": 39,
   "metadata": {
    "collapsed": false
   },
   "outputs": [],
   "source": [
    "# Column names for the three tables\n",
    "per_game_cols = ['Player', 'G', 'GS', 'MP', 'FG', 'FGA', 'FG%', '3P', '3PA', '3P%',\n",
    "                 '2P', '2PA', '2P%', 'eFG%', 'FT', 'FTA', 'FT%', 'ORB', 'DRB', \n",
    "                 'TRB', 'AST', 'STL', 'BLK', 'TOV', 'PF', 'PTS']\n",
    "\n",
    "shooting_cols = ['G', 'MP', 'FG%', 'AVG_DIST_FGA', '%FGA_2P', '%FGA_0-3ft', \n",
    "                 '%FGA_3-10ft','%FGA_10-16ft', '%FGA_16ft<3', '%FGA_3P', '2P%',\n",
    "                 '0-3_FG%', '3-10_FG%', '10-16_FG%', '16<3_FG%', '3P%', '%ASTd_2P', \n",
    "                 '%FGA_DUNK', 'DUNKS', '%ASTd_3P', '%_CORNER3PA', '3P%_CORNER3', \n",
    "                 'HEAVE_ATT', 'HEAVE_MD']\n",
    "\n",
    "advanced_cols = ['G', 'MP', 'PER', 'TS%', '3PAr', 'FTr', 'ORB%', 'DRB%', 'TRB%',\n",
    "                 'AST%', 'STL%', 'BLK%', 'TOV%', 'USG%', 'OWS', 'DWS', 'WS',\n",
    "                 'WS/48', 'OBPM', 'DPM', 'BPM', 'VORP']\n",
    "\n",
    "# Join lists together\n",
    "cols = per_game_cols + shooting_cols + advanced_cols"
   ]
  },
  {
   "cell_type": "code",
   "execution_count": 40,
   "metadata": {
    "collapsed": true
   },
   "outputs": [],
   "source": [
    "# Temporary List\n",
    "tmp_list = []"
   ]
  },
  {
   "cell_type": "code",
   "execution_count": 41,
   "metadata": {
    "collapsed": false
   },
   "outputs": [],
   "source": [
    "# Append to tmp_list\n",
    "tmp_list.append(player_stats)\n",
    "\n",
    "# Create dataframe\n",
    "nba_player_stats = pd.DataFrame(tmp_list, columns=cols)"
   ]
  },
  {
   "cell_type": "markdown",
   "metadata": {},
   "source": [
    "### Final Dataframe"
   ]
  },
  {
   "cell_type": "code",
   "execution_count": 42,
   "metadata": {
    "collapsed": false
   },
   "outputs": [
    {
     "data": {
      "text/html": [
       "<div>\n",
       "<table border=\"1\" class=\"dataframe\">\n",
       "  <thead>\n",
       "    <tr style=\"text-align: right;\">\n",
       "      <th></th>\n",
       "      <th>Player</th>\n",
       "      <th>G</th>\n",
       "      <th>GS</th>\n",
       "      <th>MP</th>\n",
       "      <th>FG</th>\n",
       "      <th>FGA</th>\n",
       "      <th>FG%</th>\n",
       "      <th>3P</th>\n",
       "      <th>3PA</th>\n",
       "      <th>3P%</th>\n",
       "      <th>...</th>\n",
       "      <th>TOV%</th>\n",
       "      <th>USG%</th>\n",
       "      <th>OWS</th>\n",
       "      <th>DWS</th>\n",
       "      <th>WS</th>\n",
       "      <th>WS/48</th>\n",
       "      <th>OBPM</th>\n",
       "      <th>DPM</th>\n",
       "      <th>BPM</th>\n",
       "      <th>VORP</th>\n",
       "    </tr>\n",
       "  </thead>\n",
       "  <tbody>\n",
       "    <tr>\n",
       "      <th>0</th>\n",
       "      <td>Steven Adams</td>\n",
       "      <td>282.0</td>\n",
       "      <td>218.0</td>\n",
       "      <td>23.2</td>\n",
       "      <td>2.9</td>\n",
       "      <td>5.2</td>\n",
       "      <td>0.568</td>\n",
       "      <td>0.0</td>\n",
       "      <td>0.0</td>\n",
       "      <td>0.0</td>\n",
       "      <td>...</td>\n",
       "      <td>16.8</td>\n",
       "      <td>13.9</td>\n",
       "      <td>9.3</td>\n",
       "      <td>8.7</td>\n",
       "      <td>18.0</td>\n",
       "      <td>0.132</td>\n",
       "      <td>0.0</td>\n",
       "      <td>1.6</td>\n",
       "      <td>0.9</td>\n",
       "      <td>4.8</td>\n",
       "    </tr>\n",
       "  </tbody>\n",
       "</table>\n",
       "<p>1 rows × 72 columns</p>\n",
       "</div>"
      ],
      "text/plain": [
       "         Player      G     GS    MP   FG  FGA    FG%   3P  3PA  3P%  ...   \\\n",
       "0  Steven Adams  282.0  218.0  23.2  2.9  5.2  0.568  0.0  0.0  0.0  ...    \n",
       "\n",
       "   TOV%  USG%  OWS  DWS    WS  WS/48  OBPM  DPM  BPM  VORP  \n",
       "0  16.8  13.9  9.3  8.7  18.0  0.132   0.0  1.6  0.9   4.8  \n",
       "\n",
       "[1 rows x 72 columns]"
      ]
     },
     "execution_count": 42,
     "metadata": {},
     "output_type": "execute_result"
    }
   ],
   "source": [
    "nba_player_stats"
   ]
  },
  {
   "cell_type": "code",
   "execution_count": null,
   "metadata": {
    "collapsed": true
   },
   "outputs": [],
   "source": []
  },
  {
   "cell_type": "code",
   "execution_count": null,
   "metadata": {
    "collapsed": true
   },
   "outputs": [],
   "source": []
  },
  {
   "cell_type": "code",
   "execution_count": null,
   "metadata": {
    "collapsed": true
   },
   "outputs": [],
   "source": []
  },
  {
   "cell_type": "code",
   "execution_count": null,
   "metadata": {
    "collapsed": true
   },
   "outputs": [],
   "source": []
  },
  {
   "cell_type": "code",
   "execution_count": null,
   "metadata": {
    "collapsed": true
   },
   "outputs": [],
   "source": []
  }
 ],
 "metadata": {
  "anaconda-cloud": {},
  "kernelspec": {
   "display_name": "Python [Root]",
   "language": "python",
   "name": "Python [Root]"
  },
  "language_info": {
   "codemirror_mode": {
    "name": "ipython",
    "version": 2
   },
   "file_extension": ".py",
   "mimetype": "text/x-python",
   "name": "python",
   "nbconvert_exporter": "python",
   "pygments_lexer": "ipython2",
   "version": "2.7.12"
  }
 },
 "nbformat": 4,
 "nbformat_minor": 0
}

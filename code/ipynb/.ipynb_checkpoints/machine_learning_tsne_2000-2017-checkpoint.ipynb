{
 "cells": [
  {
   "cell_type": "markdown",
   "metadata": {},
   "source": [
    "### Import Packages"
   ]
  },
  {
   "cell_type": "code",
   "execution_count": 4,
   "metadata": {
    "collapsed": false
   },
   "outputs": [
    {
     "ename": "ImportError",
     "evalue": "No module named lib",
     "output_type": "error",
     "traceback": [
      "\u001b[0;31m---------------------------------------------------------------------------\u001b[0m",
      "\u001b[0;31mImportError\u001b[0m                               Traceback (most recent call last)",
      "\u001b[0;32m<ipython-input-4-1f0d2bd786e1>\u001b[0m in \u001b[0;36m<module>\u001b[0;34m()\u001b[0m\n\u001b[1;32m     13\u001b[0m \u001b[0;32mfrom\u001b[0m \u001b[0msklearn\u001b[0m\u001b[0;34m.\u001b[0m\u001b[0mpreprocessing\u001b[0m \u001b[0;32mimport\u001b[0m \u001b[0mStandardScaler\u001b[0m\u001b[0;34m\u001b[0m\u001b[0m\n\u001b[1;32m     14\u001b[0m \u001b[0;34m\u001b[0m\u001b[0m\n\u001b[0;32m---> 15\u001b[0;31m \u001b[0;32mfrom\u001b[0m \u001b[0mlib\u001b[0m \u001b[0;32mimport\u001b[0m \u001b[0mrenders\u001b[0m \u001b[0;32mas\u001b[0m \u001b[0mrs\u001b[0m\u001b[0;34m\u001b[0m\u001b[0m\n\u001b[0m\u001b[1;32m     16\u001b[0m \u001b[0;32mfrom\u001b[0m \u001b[0mlib\u001b[0m\u001b[0;34m.\u001b[0m\u001b[0mcluster\u001b[0m \u001b[0;32mimport\u001b[0m \u001b[0mkmeans\u001b[0m\u001b[0;34m,\u001b[0m \u001b[0mfind_best_cluster\u001b[0m\u001b[0;34m,\u001b[0m \u001b[0mfeature_importance\u001b[0m\u001b[0;34m,\u001b[0m \u001b[0mplot_kmeans_cluster\u001b[0m\u001b[0;34m\u001b[0m\u001b[0m\n",
      "\u001b[0;31mImportError\u001b[0m: No module named lib"
     ]
    }
   ],
   "source": [
    "import os\n",
    "import re\n",
    "import glob\n",
    "import numpy as np\n",
    "import pandas as pd\n",
    "import seaborn as sns\n",
    "import matplotlib.pyplot as plt\n",
    "%matplotlib inline\n",
    "\n",
    "from sklearn.manifold import TSNE\n",
    "from sklearn.cluster import KMeans\n",
    "from sklearn.decomposition import PCA\n",
    "from sklearn.preprocessing import StandardScaler\n",
    "\n",
    "from lib import renders as rs\n",
    "from lib.cluster import kmeans, find_best_cluster, feature_importance, plot_kmeans_cluster"
   ]
  },
  {
   "cell_type": "markdown",
   "metadata": {},
   "source": [
    " "
   ]
  },
  {
   "cell_type": "markdown",
   "metadata": {},
   "source": [
    "### Import Data"
   ]
  },
  {
   "cell_type": "code",
   "execution_count": 1,
   "metadata": {
    "collapsed": true
   },
   "outputs": [],
   "source": [
    "file_loc = \"/Users/alexcheng/Desktop/stats_14-17_100.csv\""
   ]
  },
  {
   "cell_type": "code",
   "execution_count": 2,
   "metadata": {
    "collapsed": false
   },
   "outputs": [
    {
     "ename": "NameError",
     "evalue": "name 'pd' is not defined",
     "output_type": "error",
     "traceback": [
      "\u001b[0;31m---------------------------------------------------------------------------\u001b[0m",
      "\u001b[0;31mNameError\u001b[0m                                 Traceback (most recent call last)",
      "\u001b[0;32m<ipython-input-2-01ab29e09ca0>\u001b[0m in \u001b[0;36m<module>\u001b[0;34m()\u001b[0m\n\u001b[0;32m----> 1\u001b[0;31m \u001b[0mdata\u001b[0m \u001b[0;34m=\u001b[0m \u001b[0mpd\u001b[0m\u001b[0;34m.\u001b[0m\u001b[0mread_csv\u001b[0m\u001b[0;34m(\u001b[0m\u001b[0mfile_loc\u001b[0m\u001b[0;34m)\u001b[0m\u001b[0;34m\u001b[0m\u001b[0m\n\u001b[0m\u001b[1;32m      2\u001b[0m \u001b[0mdata\u001b[0m\u001b[0;34m.\u001b[0m\u001b[0mhead\u001b[0m\u001b[0;34m(\u001b[0m\u001b[0;34m)\u001b[0m\u001b[0;34m\u001b[0m\u001b[0m\n",
      "\u001b[0;31mNameError\u001b[0m: name 'pd' is not defined"
     ]
    }
   ],
   "source": [
    "data = pd.read_csv(file_loc)\n",
    "data.head()"
   ]
  },
  {
   "cell_type": "code",
   "execution_count": 4,
   "metadata": {
    "collapsed": false
   },
   "outputs": [
    {
     "data": {
      "text/plain": [
       "Index([u'Unnamed: 0', u'Season', u'Player', u'Player_ID', u'url',\n",
       "       u'Player_ID1', u'Games_', u'Minutes_Played', u'PER', u'TS%', u'3PAr',\n",
       "       u'FTr', u'ORB%', u'DRB%', u'TRB%', u'AST%', u'STL%', u'BLK%', u'TOV%',\n",
       "       u'USG%', u'OWS', u'DWS', u'WS', u'WS/48', u'OBPM', u'DPM', u'BPM',\n",
       "       u'VORP', u'Games', u'Min_Played', u'FG%', u'AVG_DIST_FGA', u'%FGA_2P',\n",
       "       u'%FGA_0-3ft', u'%FGA_3-10ft', u'%FGA_10-16ft', u'%FGA_16ft<3',\n",
       "       u'%FGA_3P', u'2P%', u'0-3_FG%', u'3-10_FG%', u'10-16_FG%', u'16<3_FG%',\n",
       "       u'3P%', u'%ASTd_2P', u'%FGA_DUNK', u'DUNKS', u'%ASTd_3P',\n",
       "       u'%_CORNER3PA', u'3P%_CORNER3', u'HEAVE_ATT', u'HEAVE_MD'],\n",
       "      dtype='object')"
      ]
     },
     "execution_count": 4,
     "metadata": {},
     "output_type": "execute_result"
    }
   ],
   "source": [
    "data.columns"
   ]
  },
  {
   "cell_type": "markdown",
   "metadata": {},
   "source": [
    " "
   ]
  },
  {
   "cell_type": "markdown",
   "metadata": {},
   "source": [
    "### Data Cleaning"
   ]
  },
  {
   "cell_type": "code",
   "execution_count": 5,
   "metadata": {
    "collapsed": false
   },
   "outputs": [],
   "source": [
    "# Drop unwanted columns\n",
    "data.drop(['Unnamed: 0', 'Player_ID', 'Player_ID1', 'url', 'Games_', 'Minutes_Played', \n",
    "           '3PAr', 'Min_Played', 'DUNKS', 'HEAVE_ATT', 'HEAVE_MD', '3PAr'], \n",
    "           axis=1, inplace=True)"
   ]
  },
  {
   "cell_type": "code",
   "execution_count": 6,
   "metadata": {
    "collapsed": false
   },
   "outputs": [],
   "source": [
    "# Filter out players who have played less than 20 games\n",
    "data = data[data['Games']>20]"
   ]
  },
  {
   "cell_type": "code",
   "execution_count": 7,
   "metadata": {
    "collapsed": false
   },
   "outputs": [
    {
     "data": {
      "text/plain": [
       "(751, 41)"
      ]
     },
     "execution_count": 7,
     "metadata": {},
     "output_type": "execute_result"
    }
   ],
   "source": [
    "data.shape"
   ]
  },
  {
   "cell_type": "markdown",
   "metadata": {},
   "source": [
    " "
   ]
  },
  {
   "cell_type": "markdown",
   "metadata": {},
   "source": [
    "### Data Preprocessing"
   ]
  },
  {
   "cell_type": "code",
   "execution_count": 8,
   "metadata": {
    "collapsed": false
   },
   "outputs": [],
   "source": [
    "X = data.drop(['Player', 'Season', 'Games'], axis=1)"
   ]
  },
  {
   "cell_type": "code",
   "execution_count": 9,
   "metadata": {
    "collapsed": false
   },
   "outputs": [],
   "source": [
    "# Scale the data\n",
    "scaler = StandardScaler()\n",
    "X_scaled = scaler.fit_transform(X)"
   ]
  },
  {
   "cell_type": "markdown",
   "metadata": {},
   "source": [
    " "
   ]
  },
  {
   "cell_type": "markdown",
   "metadata": {},
   "source": [
    "### Dimensionality Reduction with t-SNE"
   ]
  },
  {
   "cell_type": "code",
   "execution_count": 10,
   "metadata": {
    "collapsed": true
   },
   "outputs": [],
   "source": [
    "model = TSNE(n_components=2, random_state=0)\n",
    "#np.set_printoptions(suppress=True)\n",
    "\n",
    "X_tsne = model.fit_transform(X_scaled)"
   ]
  },
  {
   "cell_type": "markdown",
   "metadata": {},
   "source": [
    " "
   ]
  },
  {
   "cell_type": "markdown",
   "metadata": {},
   "source": [
    "### Find Best Cluster for KMeans Clustering"
   ]
  },
  {
   "cell_type": "code",
   "execution_count": 11,
   "metadata": {
    "collapsed": false
   },
   "outputs": [
    {
     "name": "stdout",
     "output_type": "stream",
     "text": [
      "best silhouette score: 0.431241160499\n"
     ]
    },
    {
     "data": {
      "image/png": "[encoded data removed]",
      "text/plain": [
       "<matplotlib.figure.Figure at 0x1060cc450>"
      ]
     },
     "metadata": {},
     "output_type": "display_data"
    }
   ],
   "source": [
    "find_best_cluster(X_tsne,5,20)"
   ]
  },
  {
   "cell_type": "markdown",
   "metadata": {},
   "source": [
    " "
   ]
  },
  {
   "cell_type": "markdown",
   "metadata": {},
   "source": [
    "### KMeans Clustering"
   ]
  },
  {
   "cell_type": "code",
   "execution_count": 12,
   "metadata": {
    "collapsed": false
   },
   "outputs": [],
   "source": [
    "kmeans = kmeans(X_tsne, 9)"
   ]
  },
  {
   "cell_type": "code",
   "execution_count": 13,
   "metadata": {
    "collapsed": false
   },
   "outputs": [
    {
     "name": "stdout",
     "output_type": "stream",
     "text": [
      "silhouette score: 0.409594024949\n"
     ]
    }
   ],
   "source": [
    "# Assign labels\n",
    "data['Cluster'] = kmeans['labels']\n",
    "\n",
    "# Print silhouette score\n",
    "print \"silhouette score:\", kmeans['silhouette_score']"
   ]
  },
  {
   "cell_type": "markdown",
   "metadata": {},
   "source": [
    "#### Visualize the Scatter Plot"
   ]
  },
  {
   "cell_type": "code",
   "execution_count": 14,
   "metadata": {
    "collapsed": false
   },
   "outputs": [
    {
     "data": {
      "image/png": "[encoded data removed]",
      "text/plain": [
       "<matplotlib.figure.Figure at 0x11ae42050>"
      ]
     },
     "metadata": {},
     "output_type": "display_data"
    }
   ],
   "source": [
    "# Target labels\n",
    "y = kmeans['labels']\n",
    "df = pd.DataFrame({'X1':X_tsne[:,0],'X2':X_tsne[:,1], 'labels':y})\n",
    "\n",
    "# Graph with Seaborn\n",
    "sns.set_context(\"poster\", font_scale=1)\n",
    "graph = sns.lmplot('X1', 'X2', data=df, fit_reg=False, hue=\"labels\", size=10, palette=\"deep\", markers='s')"
   ]
  },
  {
   "cell_type": "code",
   "execution_count": 15,
   "metadata": {
    "collapsed": false
   },
   "outputs": [
    {
     "data": {
      "image/png": "[encoded data removed]",
      "text/plain": [
       "<matplotlib.figure.Figure at 0x11a814090>"
      ]
     },
     "metadata": {},
     "output_type": "display_data"
    }
   ],
   "source": [
    "plot_kmeans_cluster(X_tsne, k_clusters=9, plot_title=\"\"\"KMeans Clustering on NBA Players in 2000-2017\"\"\")"
   ]
  },
  {
   "cell_type": "markdown",
   "metadata": {},
   "source": [
    "#### Investigate Clusters"
   ]
  },
  {
   "cell_type": "code",
   "execution_count": 16,
   "metadata": {
    "collapsed": false
   },
   "outputs": [
    {
     "data": {
      "text/html": [
       "<div>\n",
       "<table border=\"1\" class=\"dataframe\">\n",
       "  <thead>\n",
       "    <tr style=\"text-align: right;\">\n",
       "      <th></th>\n",
       "      <th>Season</th>\n",
       "      <th>Player</th>\n",
       "      <th>PER</th>\n",
       "      <th>TS%</th>\n",
       "      <th>FTr</th>\n",
       "      <th>ORB%</th>\n",
       "      <th>DRB%</th>\n",
       "      <th>TRB%</th>\n",
       "      <th>AST%</th>\n",
       "      <th>STL%</th>\n",
       "      <th>...</th>\n",
       "      <th>3-10_FG%</th>\n",
       "      <th>10-16_FG%</th>\n",
       "      <th>16&lt;3_FG%</th>\n",
       "      <th>3P%</th>\n",
       "      <th>%ASTd_2P</th>\n",
       "      <th>%FGA_DUNK</th>\n",
       "      <th>%ASTd_3P</th>\n",
       "      <th>%_CORNER3PA</th>\n",
       "      <th>3P%_CORNER3</th>\n",
       "      <th>Cluster</th>\n",
       "    </tr>\n",
       "  </thead>\n",
       "  <tbody>\n",
       "    <tr>\n",
       "      <th>1</th>\n",
       "      <td>Active</td>\n",
       "      <td>Aaron Brooks</td>\n",
       "      <td>13.5</td>\n",
       "      <td>0.525</td>\n",
       "      <td>0.201</td>\n",
       "      <td>2.1</td>\n",
       "      <td>6.9</td>\n",
       "      <td>4.5</td>\n",
       "      <td>23.8</td>\n",
       "      <td>1.4</td>\n",
       "      <td>...</td>\n",
       "      <td>0.392</td>\n",
       "      <td>0.427</td>\n",
       "      <td>0.393</td>\n",
       "      <td>0.368</td>\n",
       "      <td>0.167</td>\n",
       "      <td>0.001</td>\n",
       "      <td>0.663</td>\n",
       "      <td>0.141</td>\n",
       "      <td>0.413</td>\n",
       "      <td>0</td>\n",
       "    </tr>\n",
       "    <tr>\n",
       "      <th>2</th>\n",
       "      <td>Active</td>\n",
       "      <td>Aaron Gordon</td>\n",
       "      <td>14.3</td>\n",
       "      <td>0.522</td>\n",
       "      <td>0.290</td>\n",
       "      <td>7.1</td>\n",
       "      <td>17.7</td>\n",
       "      <td>12.3</td>\n",
       "      <td>9.9</td>\n",
       "      <td>1.4</td>\n",
       "      <td>...</td>\n",
       "      <td>0.351</td>\n",
       "      <td>0.333</td>\n",
       "      <td>0.315</td>\n",
       "      <td>0.289</td>\n",
       "      <td>0.490</td>\n",
       "      <td>0.111</td>\n",
       "      <td>0.919</td>\n",
       "      <td>0.346</td>\n",
       "      <td>0.301</td>\n",
       "      <td>8</td>\n",
       "    </tr>\n",
       "    <tr>\n",
       "      <th>3</th>\n",
       "      <td>Active</td>\n",
       "      <td>Aaron Harrison</td>\n",
       "      <td>3.3</td>\n",
       "      <td>0.326</td>\n",
       "      <td>0.609</td>\n",
       "      <td>3.9</td>\n",
       "      <td>14.0</td>\n",
       "      <td>8.9</td>\n",
       "      <td>6.1</td>\n",
       "      <td>2.7</td>\n",
       "      <td>...</td>\n",
       "      <td>0.000</td>\n",
       "      <td>0.000</td>\n",
       "      <td>0.000</td>\n",
       "      <td>0.250</td>\n",
       "      <td>1.000</td>\n",
       "      <td>0.000</td>\n",
       "      <td>0.667</td>\n",
       "      <td>0.417</td>\n",
       "      <td>0.200</td>\n",
       "      <td>4</td>\n",
       "    </tr>\n",
       "    <tr>\n",
       "      <th>4</th>\n",
       "      <td>Active</td>\n",
       "      <td>Adreian Payne</td>\n",
       "      <td>7.4</td>\n",
       "      <td>0.444</td>\n",
       "      <td>0.215</td>\n",
       "      <td>6.4</td>\n",
       "      <td>19.4</td>\n",
       "      <td>12.8</td>\n",
       "      <td>7.4</td>\n",
       "      <td>1.5</td>\n",
       "      <td>...</td>\n",
       "      <td>0.370</td>\n",
       "      <td>0.362</td>\n",
       "      <td>0.393</td>\n",
       "      <td>0.235</td>\n",
       "      <td>0.631</td>\n",
       "      <td>0.082</td>\n",
       "      <td>0.917</td>\n",
       "      <td>0.196</td>\n",
       "      <td>0.200</td>\n",
       "      <td>8</td>\n",
       "    </tr>\n",
       "    <tr>\n",
       "      <th>5</th>\n",
       "      <td>Active</td>\n",
       "      <td>Al Horford</td>\n",
       "      <td>19.0</td>\n",
       "      <td>0.568</td>\n",
       "      <td>0.216</td>\n",
       "      <td>8.0</td>\n",
       "      <td>22.0</td>\n",
       "      <td>15.1</td>\n",
       "      <td>14.7</td>\n",
       "      <td>1.3</td>\n",
       "      <td>...</td>\n",
       "      <td>0.439</td>\n",
       "      <td>0.436</td>\n",
       "      <td>0.469</td>\n",
       "      <td>0.344</td>\n",
       "      <td>0.714</td>\n",
       "      <td>0.091</td>\n",
       "      <td>0.977</td>\n",
       "      <td>0.254</td>\n",
       "      <td>0.328</td>\n",
       "      <td>5</td>\n",
       "    </tr>\n",
       "  </tbody>\n",
       "</table>\n",
       "<p>5 rows × 42 columns</p>\n",
       "</div>"
      ],
      "text/plain": [
       "   Season          Player   PER    TS%    FTr  ORB%  DRB%  TRB%  AST%  STL%  \\\n",
       "1  Active    Aaron Brooks  13.5  0.525  0.201   2.1   6.9   4.5  23.8   1.4   \n",
       "2  Active    Aaron Gordon  14.3  0.522  0.290   7.1  17.7  12.3   9.9   1.4   \n",
       "3  Active  Aaron Harrison   3.3  0.326  0.609   3.9  14.0   8.9   6.1   2.7   \n",
       "4  Active   Adreian Payne   7.4  0.444  0.215   6.4  19.4  12.8   7.4   1.5   \n",
       "5  Active      Al Horford  19.0  0.568  0.216   8.0  22.0  15.1  14.7   1.3   \n",
       "\n",
       "    ...     3-10_FG%  10-16_FG%  16<3_FG%    3P%  %ASTd_2P  %FGA_DUNK  \\\n",
       "1   ...        0.392      0.427     0.393  0.368     0.167      0.001   \n",
       "2   ...        0.351      0.333     0.315  0.289     0.490      0.111   \n",
       "3   ...        0.000      0.000     0.000  0.250     1.000      0.000   \n",
       "4   ...        0.370      0.362     0.393  0.235     0.631      0.082   \n",
       "5   ...        0.439      0.436     0.469  0.344     0.714      0.091   \n",
       "\n",
       "   %ASTd_3P  %_CORNER3PA  3P%_CORNER3  Cluster  \n",
       "1     0.663        0.141        0.413        0  \n",
       "2     0.919        0.346        0.301        8  \n",
       "3     0.667        0.417        0.200        4  \n",
       "4     0.917        0.196        0.200        8  \n",
       "5     0.977        0.254        0.328        5  \n",
       "\n",
       "[5 rows x 42 columns]"
      ]
     },
     "execution_count": 16,
     "metadata": {},
     "output_type": "execute_result"
    }
   ],
   "source": [
    "data.head()"
   ]
  },
  {
   "cell_type": "code",
   "execution_count": 17,
   "metadata": {
    "collapsed": false
   },
   "outputs": [
    {
     "data": {
      "text/html": [
       "<div>\n",
       "<table border=\"1\" class=\"dataframe\">\n",
       "  <thead>\n",
       "    <tr style=\"text-align: right;\">\n",
       "      <th></th>\n",
       "      <th>Player</th>\n",
       "    </tr>\n",
       "  </thead>\n",
       "  <tbody>\n",
       "    <tr>\n",
       "      <th>5</th>\n",
       "      <td>Al Horford</td>\n",
       "    </tr>\n",
       "    <tr>\n",
       "      <th>19</th>\n",
       "      <td>Andre Iguodala</td>\n",
       "    </tr>\n",
       "    <tr>\n",
       "      <th>27</th>\n",
       "      <td>Anthony Davis</td>\n",
       "    </tr>\n",
       "    <tr>\n",
       "      <th>28</th>\n",
       "      <td>Anthony Morrow</td>\n",
       "    </tr>\n",
       "    <tr>\n",
       "      <th>33</th>\n",
       "      <td>Arron Afflalo</td>\n",
       "    </tr>\n",
       "    <tr>\n",
       "      <th>39</th>\n",
       "      <td>Blake Griffin</td>\n",
       "    </tr>\n",
       "    <tr>\n",
       "      <th>44</th>\n",
       "      <td>Boris Diaw</td>\n",
       "    </tr>\n",
       "    <tr>\n",
       "      <th>65</th>\n",
       "      <td>Chandler Parsons</td>\n",
       "    </tr>\n",
       "    <tr>\n",
       "      <th>66</th>\n",
       "      <td>Channing Frye</td>\n",
       "    </tr>\n",
       "    <tr>\n",
       "      <th>88</th>\n",
       "      <td>Danny Green</td>\n",
       "    </tr>\n",
       "    <tr>\n",
       "      <th>97</th>\n",
       "      <td>David West</td>\n",
       "    </tr>\n",
       "    <tr>\n",
       "      <th>104</th>\n",
       "      <td>DeMarre Carroll</td>\n",
       "    </tr>\n",
       "    <tr>\n",
       "      <th>137</th>\n",
       "      <td>Eric Gordon</td>\n",
       "    </tr>\n",
       "    <tr>\n",
       "      <th>138</th>\n",
       "      <td>Ersan Ilyasova</td>\n",
       "    </tr>\n",
       "    <tr>\n",
       "      <th>139</th>\n",
       "      <td>Evan Fournier</td>\n",
       "    </tr>\n",
       "    <tr>\n",
       "      <th>146</th>\n",
       "      <td>George Hill</td>\n",
       "    </tr>\n",
       "    <tr>\n",
       "      <th>171</th>\n",
       "      <td>J.J. Redick</td>\n",
       "    </tr>\n",
       "    <tr>\n",
       "      <th>172</th>\n",
       "      <td>J.R. Smith</td>\n",
       "    </tr>\n",
       "    <tr>\n",
       "      <th>176</th>\n",
       "      <td>Jae Crowder</td>\n",
       "    </tr>\n",
       "    <tr>\n",
       "      <th>189</th>\n",
       "      <td>Jared Dudley</td>\n",
       "    </tr>\n",
       "  </tbody>\n",
       "</table>\n",
       "</div>"
      ],
      "text/plain": [
       "               Player\n",
       "5          Al Horford\n",
       "19     Andre Iguodala\n",
       "27      Anthony Davis\n",
       "28     Anthony Morrow\n",
       "33      Arron Afflalo\n",
       "39      Blake Griffin\n",
       "44         Boris Diaw\n",
       "65   Chandler Parsons\n",
       "66      Channing Frye\n",
       "88        Danny Green\n",
       "97         David West\n",
       "104   DeMarre Carroll\n",
       "137       Eric Gordon\n",
       "138    Ersan Ilyasova\n",
       "139     Evan Fournier\n",
       "146       George Hill\n",
       "171       J.J. Redick\n",
       "172        J.R. Smith\n",
       "176       Jae Crowder\n",
       "189      Jared Dudley"
      ]
     },
     "execution_count": 17,
     "metadata": {},
     "output_type": "execute_result"
    }
   ],
   "source": [
    "mask = (data['Cluster'] == 5)\n",
    "data[mask][['Player']].head(20)"
   ]
  },
  {
   "cell_type": "code",
   "execution_count": 18,
   "metadata": {
    "collapsed": true
   },
   "outputs": [],
   "source": [
    "# save_mask = (data['Cluster'] == 1)\n",
    "# data[save_mask].to_csv('/Users/alexcheng/Desktop/cluster_1.csv')"
   ]
  },
  {
   "cell_type": "markdown",
   "metadata": {},
   "source": [
    " "
   ]
  },
  {
   "cell_type": "markdown",
   "metadata": {},
   "source": [
    "### Feature Importance for each Cluster"
   ]
  },
  {
   "cell_type": "code",
   "execution_count": 19,
   "metadata": {
    "collapsed": false
   },
   "outputs": [
    {
     "data": {
      "text/html": [
       "<div>\n",
       "<table border=\"1\" class=\"dataframe\">\n",
       "  <thead>\n",
       "    <tr style=\"text-align: right;\">\n",
       "      <th></th>\n",
       "      <th>Feature</th>\n",
       "      <th>Importance</th>\n",
       "      <th>Cluster Average</th>\n",
       "      <th>League Average</th>\n",
       "    </tr>\n",
       "  </thead>\n",
       "  <tbody>\n",
       "    <tr>\n",
       "      <th>0</th>\n",
       "      <td>%FGA_2P</td>\n",
       "      <td>0.222431</td>\n",
       "      <td>0.707457</td>\n",
       "      <td>0.752666</td>\n",
       "    </tr>\n",
       "    <tr>\n",
       "      <th>1</th>\n",
       "      <td>PER</td>\n",
       "      <td>0.221659</td>\n",
       "      <td>16.131429</td>\n",
       "      <td>13.223835</td>\n",
       "    </tr>\n",
       "    <tr>\n",
       "      <th>2</th>\n",
       "      <td>FG%</td>\n",
       "      <td>0.216004</td>\n",
       "      <td>0.457743</td>\n",
       "      <td>0.444723</td>\n",
       "    </tr>\n",
       "    <tr>\n",
       "      <th>3</th>\n",
       "      <td>TRB%</td>\n",
       "      <td>0.215507</td>\n",
       "      <td>10.078571</td>\n",
       "      <td>10.034088</td>\n",
       "    </tr>\n",
       "    <tr>\n",
       "      <th>4</th>\n",
       "      <td>ORB%</td>\n",
       "      <td>0.209276</td>\n",
       "      <td>4.960000</td>\n",
       "      <td>5.521971</td>\n",
       "    </tr>\n",
       "    <tr>\n",
       "      <th>5</th>\n",
       "      <td>WS</td>\n",
       "      <td>0.208999</td>\n",
       "      <td>54.692857</td>\n",
       "      <td>21.220373</td>\n",
       "    </tr>\n",
       "    <tr>\n",
       "      <th>6</th>\n",
       "      <td>VORP</td>\n",
       "      <td>0.203928</td>\n",
       "      <td>18.268571</td>\n",
       "      <td>5.715979</td>\n",
       "    </tr>\n",
       "    <tr>\n",
       "      <th>7</th>\n",
       "      <td>DRB%</td>\n",
       "      <td>0.202627</td>\n",
       "      <td>15.157143</td>\n",
       "      <td>14.567377</td>\n",
       "    </tr>\n",
       "    <tr>\n",
       "      <th>8</th>\n",
       "      <td>WS/48</td>\n",
       "      <td>0.200832</td>\n",
       "      <td>0.121271</td>\n",
       "      <td>0.079040</td>\n",
       "    </tr>\n",
       "    <tr>\n",
       "      <th>9</th>\n",
       "      <td>%FGA_3-10ft</td>\n",
       "      <td>0.199859</td>\n",
       "      <td>0.133214</td>\n",
       "      <td>0.159771</td>\n",
       "    </tr>\n",
       "  </tbody>\n",
       "</table>\n",
       "</div>"
      ],
      "text/plain": [
       "       Feature  Importance  Cluster Average  League Average\n",
       "0      %FGA_2P    0.222431         0.707457        0.752666\n",
       "1          PER    0.221659        16.131429       13.223835\n",
       "2          FG%    0.216004         0.457743        0.444723\n",
       "3         TRB%    0.215507        10.078571       10.034088\n",
       "4         ORB%    0.209276         4.960000        5.521971\n",
       "5           WS    0.208999        54.692857       21.220373\n",
       "6         VORP    0.203928        18.268571        5.715979\n",
       "7         DRB%    0.202627        15.157143       14.567377\n",
       "8        WS/48    0.200832         0.121271        0.079040\n",
       "9  %FGA_3-10ft    0.199859         0.133214        0.159771"
      ]
     },
     "execution_count": 19,
     "metadata": {},
     "output_type": "execute_result"
    }
   ],
   "source": [
    "np.set_printoptions(precision=4)\n",
    "cluster_data = data[mask].drop(['Player', 'Season', 'Cluster'], axis=1)\n",
    "league_data = data.drop(['Player', 'Season', 'Cluster'], axis=1)\n",
    "\n",
    "feature_importance(cluster_data, league_data).reset_index().drop('index', axis=1)"
   ]
  },
  {
   "cell_type": "markdown",
   "metadata": {},
   "source": [
    " "
   ]
  },
  {
   "cell_type": "markdown",
   "metadata": {},
   "source": [
    "### Cluster Descriptions\n",
    "- Cluster 0: \n",
    "- Cluster 1:\n",
    "- Cluster 2: \n",
    "- Cluster 3:\n",
    "- Cluster 4:\n",
    "- Cluster 5:\n",
    "- Cluster 6:\n",
    "- Cluster 7: "
   ]
  },
  {
   "cell_type": "code",
   "execution_count": null,
   "metadata": {
    "collapsed": true
   },
   "outputs": [],
   "source": []
  }
 ],
 "metadata": {
  "anaconda-cloud": {},
  "kernelspec": {
   "display_name": "Python [Root]",
   "language": "python",
   "name": "Python [Root]"
  },
  "language_info": {
   "codemirror_mode": {
    "name": "ipython",
    "version": 2
   },
   "file_extension": ".py",
   "mimetype": "text/x-python",
   "name": "python",
   "nbconvert_exporter": "python",
   "pygments_lexer": "ipython2",
   "version": "2.7.12"
  }
 },
 "nbformat": 4,
 "nbformat_minor": 0
}

{
 "cells": [
  {
   "cell_type": "markdown",
   "metadata": {},
   "source": [
    "### Load Packages"
   ]
  },
  {
   "cell_type": "code",
   "execution_count": 1,
   "metadata": {
    "collapsed": true
   },
   "outputs": [],
   "source": [
    "import pandas as pd\n",
    "import numpy as np\n",
    "from selenium import webdriver\n",
    "from selenium.webdriver.common.keys import Keys\n",
    "\n",
    "# Chrome webdriver\n",
    "driver = webdriver.Chrome('/Users/alexcheng/Downloads/chromedriver')"
   ]
  },
  {
   "cell_type": "markdown",
   "metadata": {},
   "source": [
    "#### Columns"
   ]
  },
  {
   "cell_type": "code",
   "execution_count": 11,
   "metadata": {
    "collapsed": true
   },
   "outputs": [],
   "source": [
    "# Column names for the three tables\n",
    "stat_cols = ['G', 'GS', 'MP', 'FG', 'FGA', 'FG%', '3P', '3PA', '3P%',\n",
    "             '2P', '2PA', '2P%', 'eFG%', 'FT', 'FTA', 'FT%', 'ORB', \n",
    "             'DRB', 'TRB', 'AST', 'STL', 'BLK', 'TOV', 'PF', 'PTS']\n",
    "\n",
    "shoot_cols = ['G', 'MP', 'FG%', 'AVG_DIST_FGA', '%FGA_2P', '%FGA_0-3ft', \n",
    "              '%FGA_3-10ft','%FGA_10-16ft', '%FGA_16ft<3', '%FGA_3P', '2P%',\n",
    "              '0-3_FG%', '3-10_FG%', '10-16_FG%', '16<3_FG%', '3P%', '%ASTd_2P', \n",
    "              '%FGA_DUNK', 'DUNKS', '%ASTd_3P', '%_CORNER3PA', '3P%_CORNER3',\n",
    "              'HEAVE_ATT', 'HEAVE_MD']\n",
    "\n",
    "adv_cols = ['G', 'MP', 'PER', 'TS%', '3PAr', 'FTr', 'ORB%', 'DRB%', 'TRB%',\n",
    "            'AST%', 'STL%', 'BLK%', 'TOV%', 'USG%', 'OWS', 'DWS', 'WS',\n",
    "            'WS/48', 'OBPM', 'DPM', 'BPM', 'VORP']\n",
    "\n",
    "# Join lists together\n",
    "cols = stat_cols + shoot_cols + adv_cols"
   ]
  },
  {
   "cell_type": "markdown",
   "metadata": {},
   "source": [
    "#### Load Player List"
   ]
  },
  {
   "cell_type": "code",
   "execution_count": 5,
   "metadata": {
    "collapsed": true
   },
   "outputs": [],
   "source": [
    "# Part 1\n",
    "player_df = pd.read_csv('/Users/alexcheng/Desktop/player_df.csv')\n",
    "player_list = list(player_df['url'])\n",
    "\n",
    "# Part 2\n",
    "player_df_part2 = pd.read_csv('/Users/alexcheng/Desktop/player_df_part2.csv')\n",
    "player_list_part2 = list(player_df_part2['url'])\n",
    "\n",
    "# Test list\n",
    "test_players = pd.read_csv('/Users/alexcheng/Desktop/test_players.csv')\n",
    "test_list = list(test_players['url'])"
   ]
  },
  {
   "cell_type": "markdown",
   "metadata": {},
   "source": [
    "#### Temporary"
   ]
  },
  {
   "cell_type": "code",
   "execution_count": 6,
   "metadata": {
    "collapsed": true
   },
   "outputs": [],
   "source": [
    "# Temporary list\n",
    "tmp_list = []"
   ]
  },
  {
   "cell_type": "markdown",
   "metadata": {},
   "source": [
    "### Web Scraping"
   ]
  },
  {
   "cell_type": "code",
   "execution_count": 7,
   "metadata": {
    "collapsed": false
   },
   "outputs": [],
   "source": [
    "for url in test_list:\n",
    "    # Navigate to URL\n",
    "    driver.get(url)\n",
    "\n",
    "    # Check page title has \"Basketball\" in it\n",
    "    assert \"Basketball\" in driver.title\n",
    "\n",
    "    # Web scraping\n",
    "    name = driver.find_elements_by_xpath(\"\"\"//*[@id=\"meta\"]/div[2]/h1\"\"\")\n",
    "    stats = driver.find_elements_by_xpath(\"\"\"//*[@id=\"per_game\"]/tfoot/tr[1]\"\"\")\n",
    "    advanced = driver.find_elements_by_xpath(\"\"\"//*[@id=\"advanced\"]/tfoot/tr[1]\"\"\")\n",
    "    \n",
    "\n",
    "    # Instantiate values and clean values\n",
    "    for value in name:\n",
    "        name = value.text\n",
    "        name = str(name.encode('ascii'))\n",
    "\n",
    "    for value in stats:\n",
    "        stats = value.text\n",
    "        stats = stats[11:].encode('ascii').split()\n",
    "\n",
    "    for value in shooting:\n",
    "        shoot_stats = value.text\n",
    "        shoot_stats = shoot_stats.encode('ascii').split()[5:-2]\n",
    "\n",
    "    for value in advanced:\n",
    "        adv_stats = value.text\n",
    "        adv_stats = adv_stats.encode('ascii').split()[3:]\n",
    "\n",
    "    # Combine and flatten dataframe\n",
    "    df = [stats, shoot_stats, adv_stats]\n",
    "\n",
    "    # Create player stats rows to be joined to dataframe later\n",
    "    player_stats = [name]\n",
    "    for sublist in df:\n",
    "        for val in sublist:\n",
    "            player_stats.append(val)\n",
    "\n",
    "    # Append to tmp_list\n",
    "    tmp_list.append(player_stats)\n",
    "\n",
    "    # Create dataframe\n",
    "    df = pd.DataFrame(tmp_list, columns=cols)"
   ]
  },
  {
   "cell_type": "markdown",
   "metadata": {},
   "source": [
    "### Final Output"
   ]
  },
  {
   "cell_type": "code",
   "execution_count": 8,
   "metadata": {
    "collapsed": false
   },
   "outputs": [
    {
     "data": {
      "text/html": [
       "<div>\n",
       "<table border=\"1\" class=\"dataframe\">\n",
       "  <thead>\n",
       "    <tr style=\"text-align: right;\">\n",
       "      <th></th>\n",
       "      <th>Player</th>\n",
       "      <th>G</th>\n",
       "      <th>GS</th>\n",
       "      <th>MP</th>\n",
       "      <th>FG</th>\n",
       "      <th>FGA</th>\n",
       "      <th>FG%</th>\n",
       "      <th>3P</th>\n",
       "      <th>3PA</th>\n",
       "      <th>3P%</th>\n",
       "      <th>...</th>\n",
       "      <th>TOV%</th>\n",
       "      <th>USG%</th>\n",
       "      <th>OWS</th>\n",
       "      <th>DWS</th>\n",
       "      <th>WS</th>\n",
       "      <th>WS/48</th>\n",
       "      <th>OBPM</th>\n",
       "      <th>DPM</th>\n",
       "      <th>BPM</th>\n",
       "      <th>VORP</th>\n",
       "    </tr>\n",
       "  </thead>\n",
       "  <tbody>\n",
       "    <tr>\n",
       "      <th>0</th>\n",
       "      <td>[]</td>\n",
       "      <td>42</td>\n",
       "      <td>0</td>\n",
       "      <td>14.0</td>\n",
       "      <td>1.8</td>\n",
       "      <td>4.5</td>\n",
       "      <td>.396</td>\n",
       "      <td>1.2</td>\n",
       "      <td>3.2</td>\n",
       "      <td>.378</td>\n",
       "      <td>...</td>\n",
       "      <td>10.2</td>\n",
       "      <td>16.4</td>\n",
       "      <td>0.6</td>\n",
       "      <td>0.5</td>\n",
       "      <td>1.1</td>\n",
       "      <td>.088</td>\n",
       "      <td>-0.6</td>\n",
       "      <td>-2.6</td>\n",
       "      <td>-3.2</td>\n",
       "      <td>-0.2</td>\n",
       "    </tr>\n",
       "    <tr>\n",
       "      <th>1</th>\n",
       "      <td>Quincy Acy</td>\n",
       "      <td>237</td>\n",
       "      <td>51</td>\n",
       "      <td>14.9</td>\n",
       "      <td>1.7</td>\n",
       "      <td>3.5</td>\n",
       "      <td>.495</td>\n",
       "      <td>0.2</td>\n",
       "      <td>0.7</td>\n",
       "      <td>.359</td>\n",
       "      <td>...</td>\n",
       "      <td>13.0</td>\n",
       "      <td>13.8</td>\n",
       "      <td>4.5</td>\n",
       "      <td>2.8</td>\n",
       "      <td>7.3</td>\n",
       "      <td>.099</td>\n",
       "      <td>-1.5</td>\n",
       "      <td>0.0</td>\n",
       "      <td>-1.5</td>\n",
       "      <td>0.5</td>\n",
       "    </tr>\n",
       "    <tr>\n",
       "      <th>2</th>\n",
       "      <td>Steven Adams</td>\n",
       "      <td>282</td>\n",
       "      <td>218</td>\n",
       "      <td>23.2</td>\n",
       "      <td>2.9</td>\n",
       "      <td>5.2</td>\n",
       "      <td>.568</td>\n",
       "      <td>0.0</td>\n",
       "      <td>0.0</td>\n",
       "      <td>.000</td>\n",
       "      <td>...</td>\n",
       "      <td>9.3</td>\n",
       "      <td>8.7</td>\n",
       "      <td>18.0</td>\n",
       "      <td>.132</td>\n",
       "      <td>-0.7</td>\n",
       "      <td>1.6</td>\n",
       "      <td>0.9</td>\n",
       "      <td>4.8</td>\n",
       "      <td>None</td>\n",
       "      <td>None</td>\n",
       "    </tr>\n",
       "    <tr>\n",
       "      <th>3</th>\n",
       "      <td>Arron Afflalo</td>\n",
       "      <td>692</td>\n",
       "      <td>518</td>\n",
       "      <td>28.4</td>\n",
       "      <td>4.1</td>\n",
       "      <td>9.2</td>\n",
       "      <td>.451</td>\n",
       "      <td>1.2</td>\n",
       "      <td>3.0</td>\n",
       "      <td>.385</td>\n",
       "      <td>...</td>\n",
       "      <td>10.4</td>\n",
       "      <td>18.0</td>\n",
       "      <td>23.5</td>\n",
       "      <td>9.2</td>\n",
       "      <td>32.8</td>\n",
       "      <td>.080</td>\n",
       "      <td>0.4</td>\n",
       "      <td>-1.3</td>\n",
       "      <td>-1.0</td>\n",
       "      <td>5.2</td>\n",
       "    </tr>\n",
       "    <tr>\n",
       "      <th>4</th>\n",
       "      <td>Alexis Ajinca</td>\n",
       "      <td>275</td>\n",
       "      <td>71</td>\n",
       "      <td>13.2</td>\n",
       "      <td>2.2</td>\n",
       "      <td>4.3</td>\n",
       "      <td>.500</td>\n",
       "      <td>0.0</td>\n",
       "      <td>0.1</td>\n",
       "      <td>.293</td>\n",
       "      <td>...</td>\n",
       "      <td>15.1</td>\n",
       "      <td>19.4</td>\n",
       "      <td>2.7</td>\n",
       "      <td>4.2</td>\n",
       "      <td>6.9</td>\n",
       "      <td>.091</td>\n",
       "      <td>-2.8</td>\n",
       "      <td>0.4</td>\n",
       "      <td>-2.5</td>\n",
       "      <td>-0.4</td>\n",
       "    </tr>\n",
       "    <tr>\n",
       "      <th>5</th>\n",
       "      <td>Cole Aldrich</td>\n",
       "      <td>303</td>\n",
       "      <td>23</td>\n",
       "      <td>10.8</td>\n",
       "      <td>1.4</td>\n",
       "      <td>2.6</td>\n",
       "      <td>.531</td>\n",
       "      <td>0.0</td>\n",
       "      <td>0.0</td>\n",
       "      <td>1.4</td>\n",
       "      <td>...</td>\n",
       "      <td>.141</td>\n",
       "      <td>-2.2</td>\n",
       "      <td>3.5</td>\n",
       "      <td>1.3</td>\n",
       "      <td>2.7</td>\n",
       "      <td>None</td>\n",
       "      <td>None</td>\n",
       "      <td>None</td>\n",
       "      <td>None</td>\n",
       "      <td>None</td>\n",
       "    </tr>\n",
       "  </tbody>\n",
       "</table>\n",
       "<p>6 rows × 66 columns</p>\n",
       "</div>"
      ],
      "text/plain": [
       "          Player    G   GS    MP   FG  FGA   FG%   3P  3PA   3P%  ...   TOV%  \\\n",
       "0             []   42    0  14.0  1.8  4.5  .396  1.2  3.2  .378  ...   10.2   \n",
       "1     Quincy Acy  237   51  14.9  1.7  3.5  .495  0.2  0.7  .359  ...   13.0   \n",
       "2   Steven Adams  282  218  23.2  2.9  5.2  .568  0.0  0.0  .000  ...    9.3   \n",
       "3  Arron Afflalo  692  518  28.4  4.1  9.2  .451  1.2  3.0  .385  ...   10.4   \n",
       "4  Alexis Ajinca  275   71  13.2  2.2  4.3  .500  0.0  0.1  .293  ...   15.1   \n",
       "5   Cole Aldrich  303   23  10.8  1.4  2.6  .531  0.0  0.0   1.4  ...   .141   \n",
       "\n",
       "   USG%   OWS   DWS    WS WS/48  OBPM   DPM   BPM  VORP  \n",
       "0  16.4   0.6   0.5   1.1  .088  -0.6  -2.6  -3.2  -0.2  \n",
       "1  13.8   4.5   2.8   7.3  .099  -1.5   0.0  -1.5   0.5  \n",
       "2   8.7  18.0  .132  -0.7   1.6   0.9   4.8  None  None  \n",
       "3  18.0  23.5   9.2  32.8  .080   0.4  -1.3  -1.0   5.2  \n",
       "4  19.4   2.7   4.2   6.9  .091  -2.8   0.4  -2.5  -0.4  \n",
       "5  -2.2   3.5   1.3   2.7  None  None  None  None  None  \n",
       "\n",
       "[6 rows x 66 columns]"
      ]
     },
     "execution_count": 8,
     "metadata": {},
     "output_type": "execute_result"
    }
   ],
   "source": [
    "df"
   ]
  },
  {
   "cell_type": "code",
   "execution_count": null,
   "metadata": {
    "collapsed": true
   },
   "outputs": [],
   "source": []
  }
 ],
 "metadata": {
  "kernelspec": {
   "display_name": "Python [Root]",
   "language": "python",
   "name": "Python [Root]"
  },
  "language_info": {
   "codemirror_mode": {
    "name": "ipython",
    "version": 2
   },
   "file_extension": ".py",
   "mimetype": "text/x-python",
   "name": "python",
   "nbconvert_exporter": "python",
   "pygments_lexer": "ipython2",
   "version": "2.7.12"
  }
 },
 "nbformat": 4,
 "nbformat_minor": 0
}

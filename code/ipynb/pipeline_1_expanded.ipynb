{
 "cells": [
  {
   "cell_type": "markdown",
   "metadata": {},
   "source": [
    "## Web Scraping Basketball-Reference.com"
   ]
  },
  {
   "cell_type": "markdown",
   "metadata": {},
   "source": [
    " "
   ]
  },
  {
   "cell_type": "markdown",
   "metadata": {},
   "source": [
    " "
   ]
  },
  {
   "cell_type": "markdown",
   "metadata": {},
   "source": [
    "### Load Selenium and Packages"
   ]
  },
  {
   "cell_type": "code",
   "execution_count": 3,
   "metadata": {
    "collapsed": true
   },
   "outputs": [],
   "source": [
    "import pandas as pd\n",
    "import numpy as np\n",
    "from selenium import webdriver\n",
    "from selenium.webdriver.common.keys import Keys\n",
    "from selenium.webdriver.common.action_chains import ActionChains\n",
    "from selenium.webdriver.common.by import By\n",
    "from selenium.webdriver.support.ui import WebDriverWait\n",
    "from selenium.webdriver.support import expected_conditions as EC"
   ]
  },
  {
   "cell_type": "code",
   "execution_count": 2,
   "metadata": {
    "collapsed": false
   },
   "outputs": [],
   "source": [
    "# Chrome webdriver\n",
    "driver = webdriver.Chrome('/Users/alexcheng/Downloads/chromedriver')"
   ]
  },
  {
   "cell_type": "markdown",
   "metadata": {},
   "source": [
    "#### Player List"
   ]
  },
  {
   "cell_type": "code",
   "execution_count": 4,
   "metadata": {
    "collapsed": false
   },
   "outputs": [],
   "source": [
    "part_1 = \"/Users/alexcheng/dsi/dsi_workspace/projects/project-captsone/workspace/web_scraping/player_list/player_df_part1.csv\"\n",
    "part_2 = \"/Users/alexcheng/dsi/dsi_workspace/projects/project-captsone/workspace/web_scraping/player_list/player_df_part2.csv\"\n",
    "test = \"/Users/alexcheng/dsi/dsi_workspace/projects/project-captsone/workspace/web_scraping/player_list/test_players.csv\"\n",
    "\n",
    "\n",
    "part_1_df = pd.read_csv(part_1)\n",
    "part_1_list = list(part_1_df['url'])\n",
    "\n",
    "part_2_df = pd.read_csv(part_2)\n",
    "part_2_list = list(part_2_df['url'])\n",
    "\n",
    "test_df = pd.read_csv(test)\n",
    "test_list = list(test_df['url'])"
   ]
  },
  {
   "cell_type": "code",
   "execution_count": 5,
   "metadata": {
    "collapsed": false
   },
   "outputs": [
    {
     "data": {
      "text/plain": [
       "['http://www.basketball-reference.com/players/a/abrinal01.html',\n",
       " 'http://www.basketball-reference.com/players/a/acyqu01.html',\n",
       " 'http://www.basketball-reference.com/players/a/adamsst01.html',\n",
       " 'http://www.basketball-reference.com/players/a/afflaar01.html',\n",
       " 'http://www.basketball-reference.com/players/a/ajincal01.html',\n",
       " 'http://www.basketball-reference.com/players/a/aldrico01.html']"
      ]
     },
     "execution_count": 5,
     "metadata": {},
     "output_type": "execute_result"
    }
   ],
   "source": [
    "test_list"
   ]
  },
  {
   "cell_type": "markdown",
   "metadata": {},
   "source": [
    "### Web Scraping"
   ]
  },
  {
   "cell_type": "code",
   "execution_count": 4,
   "metadata": {
    "collapsed": true
   },
   "outputs": [],
   "source": [
    "tmp_list = []"
   ]
  },
  {
   "cell_type": "code",
   "execution_count": 5,
   "metadata": {
    "collapsed": false
   },
   "outputs": [
    {
     "ename": "ValueError",
     "evalue": "could not convert string to float: A",
     "output_type": "error",
     "traceback": [
      "\u001b[0;31m---------------------------------------------------------------------------\u001b[0m",
      "\u001b[0;31mValueError\u001b[0m                                Traceback (most recent call last)",
      "\u001b[0;32m<ipython-input-5-e993d48f7c5f>\u001b[0m in \u001b[0;36m<module>\u001b[0;34m()\u001b[0m\n\u001b[1;32m     61\u001b[0m     \u001b[0mper_game_list\u001b[0m \u001b[0;34m=\u001b[0m \u001b[0;34m[\u001b[0m\u001b[0;34m]\u001b[0m\u001b[0;34m\u001b[0m\u001b[0m\n\u001b[1;32m     62\u001b[0m     \u001b[0;32mfor\u001b[0m \u001b[0mi\u001b[0m \u001b[0;32min\u001b[0m \u001b[0mper_game\u001b[0m\u001b[0;34m.\u001b[0m\u001b[0msplit\u001b[0m\u001b[0;34m(\u001b[0m\u001b[0;34m','\u001b[0m\u001b[0;34m)\u001b[0m\u001b[0;34m:\u001b[0m\u001b[0;34m\u001b[0m\u001b[0m\n\u001b[0;32m---> 63\u001b[0;31m         \u001b[0mi\u001b[0m \u001b[0;34m=\u001b[0m \u001b[0mfloat\u001b[0m\u001b[0;34m(\u001b[0m\u001b[0mi\u001b[0m\u001b[0;34m)\u001b[0m\u001b[0;34m\u001b[0m\u001b[0m\n\u001b[0m\u001b[1;32m     64\u001b[0m         \u001b[0mper_game_list\u001b[0m\u001b[0;34m.\u001b[0m\u001b[0mappend\u001b[0m\u001b[0;34m(\u001b[0m\u001b[0mi\u001b[0m\u001b[0;34m)\u001b[0m\u001b[0;34m\u001b[0m\u001b[0m\n\u001b[1;32m     65\u001b[0m \u001b[0;34m\u001b[0m\u001b[0m\n",
      "\u001b[0;31mValueError\u001b[0m: could not convert string to float: A"
     ]
    }
   ],
   "source": [
    "for url in test_list:\n",
    "    \n",
    "    ##################################################\n",
    "    ############### web scraping #####################\n",
    "    ##################################################\n",
    "    driver.get(url)\n",
    "    \n",
    "    # player name\n",
    "    name = driver.find_elements_by_xpath(\"\"\"//*[@id=\"meta\"]/div[2]/h1\"\"\") \n",
    "    \n",
    "    # scraping per_game table\n",
    "    driver.find_element_by_xpath(\"\"\"//*[@id=\"all_per_game\"]/div[1]/div/ul/li[1]/span\"\"\").click()\n",
    "    \n",
    "    WebDriverWait(driver, 10).until(EC.element_to_be_clickable(\n",
    "            (By.XPATH, \"\"\"//*[@id=\"all_per_game\"]/div[1]/div/ul/li[1]/div/ul/li[3]/button\"\"\"))).click()\n",
    "    \n",
    "    WebDriverWait(driver, 10).until(EC.element_to_be_clickable(\n",
    "            (By.CLASS_NAME, \"\"\"table_outer_container\"\"\")))\n",
    "    \n",
    "    # capture csv text\n",
    "    per_game = driver.find_element_by_id(\"csv_per_game\")\n",
    "    \n",
    "    \n",
    "    # scraping advanced table\n",
    "    driver.find_element_by_xpath(\"\"\"//*[@id=\"all_advanced\"]/div[1]/div/ul/li[1]/span\"\"\").click()\n",
    "    \n",
    "    WebDriverWait(driver, 10).until(EC.element_to_be_clickable(\n",
    "            (By.XPATH, \"\"\"//*[@id=\"all_advanced\"]/div[1]/div/ul/li[1]/div/ul/li[3]/button\"\"\"))).click()\n",
    "    \n",
    "    WebDriverWait(driver, 10).until(EC.element_to_be_clickable(\n",
    "            (By.CLASS_NAME, \"\"\"table_outer_container\"\"\")))\n",
    "    \n",
    "    # capture csv text\n",
    "    advanced = driver.find_element_by_id(\"csv_advanced\")\n",
    "    \n",
    "    \n",
    "    # scraping shooting table\n",
    "    driver.find_element_by_xpath(\"\"\"//*[@id=\"all_shooting\"]/div[1]/div/ul/li[2]/span\"\"\").click()\n",
    "    \n",
    "    WebDriverWait(driver, 10).until(EC.element_to_be_clickable(\n",
    "            (By.XPATH, \"\"\"//*[@id=\"all_shooting\"]/div[1]/div/ul/li[2]/div/ul/li[3]/button\"\"\"))).click()\n",
    "    \n",
    "    WebDriverWait(driver, 10).until(EC.element_to_be_clickable(\n",
    "            (By.CLASS_NAME, \"\"\"table_outer_container\"\"\")))\n",
    "    \n",
    "    # capture csv text\n",
    "    shooting = driver.find_element_by_id(\"csv_shooting\")\n",
    "\n",
    "    \n",
    "    ##################################################\n",
    "    ############### data cleaning ####################\n",
    "    ##################################################\n",
    "    \n",
    "    # clean the player name\n",
    "    for value in name:\n",
    "        name = value.text\n",
    "        name = str(name.encode('ascii'))\n",
    "    \n",
    "    # clean the per_game table\n",
    "    per_game = per_game.text.encode('ascii').split()[-1][14:]\n",
    "    \n",
    "    per_game_list = []\n",
    "    for i in per_game.split(','):\n",
    "        i = float(i)\n",
    "        per_game_list.append(i)\n",
    "        \n",
    "    # clean the advanced table\n",
    "    advanced = advanced.text.encode('ascii').split()[-1][14:]\n",
    "    \n",
    "    advanced_list = []\n",
    "    for i in advanced.split(','):\n",
    "        if i == '':\n",
    "            advanced_list.append(0.0)\n",
    "        else:\n",
    "            i = float(i)\n",
    "            advanced_list.append(i)\n",
    "\n",
    "    del advanced_list[14]\n",
    "    del advanced_list[19]\n",
    "    \n",
    "    # clean the shooting table\n",
    "    shooting = shooting.text.encode('ascii').split()[-1][14:]\n",
    "    \n",
    "    shooting_list = []\n",
    "    for i in shooting.split(','):\n",
    "        if i == '':\n",
    "            shooting_list.append(0.0)\n",
    "    else:\n",
    "        i = float(i)\n",
    "        shooting_list.append(i)\n",
    "\n",
    "        \n",
    "    ##################################################\n",
    "    ############### build dataframe ##################\n",
    "    ##################################################\n",
    "    \n",
    "    # combine and flatten dataframe\n",
    "    df = [per_game_list, shooting_list, advanced_list]\n",
    "\n",
    "    # create player stats rows to be joined to dataframe later\n",
    "    player_stats = [name]\n",
    "    for sublist in df:\n",
    "        for val in sublist:\n",
    "            player_stats.append(val)\n",
    "            \n",
    "    # append to tmp_list\n",
    "    tmp_list.append(player_stats)"
   ]
  },
  {
   "cell_type": "markdown",
   "metadata": {
    "collapsed": true
   },
   "source": [
    "#### Columns"
   ]
  },
  {
   "cell_type": "code",
   "execution_count": null,
   "metadata": {
    "collapsed": false
   },
   "outputs": [],
   "source": [
    "# Column names for the three tables\n",
    "per_game_cols = ['Player', 'G', 'GS', 'MP', 'FG', 'FGA', 'FG%', '3P', '3PA', '3P%',\n",
    "                 '2P', '2PA', '2P%', 'eFG%', 'FT', 'FTA', 'FT%', 'ORB', 'DRB', \n",
    "                 'TRB', 'AST', 'STL', 'BLK', 'TOV', 'PF', 'PTS']\n",
    "\n",
    "shooting_cols = ['G', 'MP', 'FG%', 'AVG_DIST_FGA', '%FGA_2P', '%FGA_0-3ft', \n",
    "                 '%FGA_3-10ft','%FGA_10-16ft', '%FGA_16ft<3', '%FGA_3P', '2P%',\n",
    "                 '0-3_FG%', '3-10_FG%', '10-16_FG%', '16<3_FG%', '3P%', '%ASTd_2P', \n",
    "                 '%FGA_DUNK', 'DUNKS', '%ASTd_3P', '%_CORNER3PA', '3P%_CORNER3', \n",
    "                 'HEAVE_ATT', 'HEAVE_MD']\n",
    "\n",
    "advanced_cols = ['G', 'MP', 'PER', 'TS%', '3PAr', 'FTr', 'ORB%', 'DRB%', 'TRB%',\n",
    "                 'AST%', 'STL%', 'BLK%', 'TOV%', 'USG%', 'OWS', 'DWS', 'WS',\n",
    "                 'WS/48', 'OBPM', 'DPM', 'BPM', 'VORP']\n",
    "\n",
    "# Join lists together\n",
    "cols = per_game_cols + shooting_cols + advanced_cols"
   ]
  },
  {
   "cell_type": "code",
   "execution_count": null,
   "metadata": {
    "collapsed": false
   },
   "outputs": [],
   "source": [
    "# Create dataframe\n",
    "nba_player_stats = pd.DataFrame(tmp_list, columns=cols)"
   ]
  },
  {
   "cell_type": "markdown",
   "metadata": {},
   "source": [
    "### Final Dataframe"
   ]
  },
  {
   "cell_type": "code",
   "execution_count": null,
   "metadata": {
    "collapsed": false
   },
   "outputs": [],
   "source": [
    "nba_player_stats"
   ]
  },
  {
   "cell_type": "code",
   "execution_count": null,
   "metadata": {
    "collapsed": true
   },
   "outputs": [],
   "source": []
  },
  {
   "cell_type": "code",
   "execution_count": null,
   "metadata": {
    "collapsed": true
   },
   "outputs": [],
   "source": []
  },
  {
   "cell_type": "code",
   "execution_count": null,
   "metadata": {
    "collapsed": true
   },
   "outputs": [],
   "source": []
  },
  {
   "cell_type": "code",
   "execution_count": null,
   "metadata": {
    "collapsed": true
   },
   "outputs": [],
   "source": []
  },
  {
   "cell_type": "code",
   "execution_count": null,
   "metadata": {
    "collapsed": true
   },
   "outputs": [],
   "source": []
  }
 ],
 "metadata": {
  "anaconda-cloud": {},
  "kernelspec": {
   "display_name": "Python [Root]",
   "language": "python",
   "name": "Python [Root]"
  },
  "language_info": {
   "codemirror_mode": {
    "name": "ipython",
    "version": 2
   },
   "file_extension": ".py",
   "mimetype": "text/x-python",
   "name": "python",
   "nbconvert_exporter": "python",
   "pygments_lexer": "ipython2",
   "version": "2.7.12"
  }
 },
 "nbformat": 4,
 "nbformat_minor": 0
}

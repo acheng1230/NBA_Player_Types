{
 "cells": [
  {
   "cell_type": "markdown",
   "metadata": {},
   "source": [
    "### Import Packages"
   ]
  },
  {
   "cell_type": "code",
   "execution_count": 14,
   "metadata": {
    "collapsed": false
   },
   "outputs": [],
   "source": [
    "import goldsberry\n",
    "import pandas as pd\n",
    "import matplotlib.pyplot as plt\n",
    "import seaborn as sns\n",
    "%matplotlib inline"
   ]
  },
  {
   "cell_type": "markdown",
   "metadata": {},
   "source": [
    "### Show Player List"
   ]
  },
  {
   "cell_type": "code",
   "execution_count": 18,
   "metadata": {
    "collapsed": false
   },
   "outputs": [
    {
     "data": {
      "text/html": [
       "<div>\n",
       "<table border=\"1\" class=\"dataframe\">\n",
       "  <thead>\n",
       "    <tr style=\"text-align: right;\">\n",
       "      <th></th>\n",
       "      <th>DISPLAY_FIRST_LAST</th>\n",
       "      <th>DISPLAY_LAST_COMMA_FIRST</th>\n",
       "      <th>FROM_YEAR</th>\n",
       "      <th>GAMES_PLAYED_FLAG</th>\n",
       "      <th>PERSON_ID</th>\n",
       "      <th>PLAYERCODE</th>\n",
       "      <th>ROSTERSTATUS</th>\n",
       "      <th>TEAM_ABBREVIATION</th>\n",
       "      <th>TEAM_CITY</th>\n",
       "      <th>TEAM_CODE</th>\n",
       "      <th>TEAM_ID</th>\n",
       "      <th>TEAM_NAME</th>\n",
       "      <th>TO_YEAR</th>\n",
       "    </tr>\n",
       "  </thead>\n",
       "  <tbody>\n",
       "    <tr>\n",
       "      <th>0</th>\n",
       "      <td>Jordan Adams</td>\n",
       "      <td>Adams, Jordan</td>\n",
       "      <td>2014</td>\n",
       "      <td>Y</td>\n",
       "      <td>203919</td>\n",
       "      <td>jordan_adams</td>\n",
       "      <td>1</td>\n",
       "      <td>MEM</td>\n",
       "      <td>Memphis</td>\n",
       "      <td>grizzlies</td>\n",
       "      <td>1610612763</td>\n",
       "      <td>Grizzlies</td>\n",
       "      <td>2015</td>\n",
       "    </tr>\n",
       "    <tr>\n",
       "      <th>1</th>\n",
       "      <td>Cliff Alexander</td>\n",
       "      <td>Alexander, Cliff</td>\n",
       "      <td>2015</td>\n",
       "      <td>Y</td>\n",
       "      <td>1626146</td>\n",
       "      <td>cliff_alexander</td>\n",
       "      <td>1</td>\n",
       "      <td>POR</td>\n",
       "      <td>Portland</td>\n",
       "      <td>blazers</td>\n",
       "      <td>1610612757</td>\n",
       "      <td>Trail Blazers</td>\n",
       "      <td>2015</td>\n",
       "    </tr>\n",
       "    <tr>\n",
       "      <th>2</th>\n",
       "      <td>Lou Amundson</td>\n",
       "      <td>Amundson, Lou</td>\n",
       "      <td>2006</td>\n",
       "      <td>Y</td>\n",
       "      <td>200811</td>\n",
       "      <td>lou_amundson</td>\n",
       "      <td>1</td>\n",
       "      <td>NYK</td>\n",
       "      <td>New York</td>\n",
       "      <td>knicks</td>\n",
       "      <td>1610612752</td>\n",
       "      <td>Knicks</td>\n",
       "      <td>2015</td>\n",
       "    </tr>\n",
       "    <tr>\n",
       "      <th>3</th>\n",
       "      <td>James Anderson</td>\n",
       "      <td>Anderson, James</td>\n",
       "      <td>2010</td>\n",
       "      <td>Y</td>\n",
       "      <td>202341</td>\n",
       "      <td>james_anderson</td>\n",
       "      <td>1</td>\n",
       "      <td>SAC</td>\n",
       "      <td>Sacramento</td>\n",
       "      <td>kings</td>\n",
       "      <td>1610612758</td>\n",
       "      <td>Kings</td>\n",
       "      <td>2015</td>\n",
       "    </tr>\n",
       "    <tr>\n",
       "      <th>4</th>\n",
       "      <td>Thanasis Antetokounmpo</td>\n",
       "      <td>Antetokounmpo, Thanasis</td>\n",
       "      <td>2015</td>\n",
       "      <td>Y</td>\n",
       "      <td>203648</td>\n",
       "      <td>thanasis_antetokounmpo</td>\n",
       "      <td>0</td>\n",
       "      <td></td>\n",
       "      <td></td>\n",
       "      <td></td>\n",
       "      <td>0</td>\n",
       "      <td></td>\n",
       "      <td>2015</td>\n",
       "    </tr>\n",
       "  </tbody>\n",
       "</table>\n",
       "</div>"
      ],
      "text/plain": [
       "       DISPLAY_FIRST_LAST DISPLAY_LAST_COMMA_FIRST FROM_YEAR  \\\n",
       "0            Jordan Adams            Adams, Jordan      2014   \n",
       "1         Cliff Alexander         Alexander, Cliff      2015   \n",
       "2            Lou Amundson            Amundson, Lou      2006   \n",
       "3          James Anderson          Anderson, James      2010   \n",
       "4  Thanasis Antetokounmpo  Antetokounmpo, Thanasis      2015   \n",
       "\n",
       "  GAMES_PLAYED_FLAG  PERSON_ID              PLAYERCODE  ROSTERSTATUS  \\\n",
       "0                 Y     203919            jordan_adams             1   \n",
       "1                 Y    1626146         cliff_alexander             1   \n",
       "2                 Y     200811            lou_amundson             1   \n",
       "3                 Y     202341          james_anderson             1   \n",
       "4                 Y     203648  thanasis_antetokounmpo             0   \n",
       "\n",
       "  TEAM_ABBREVIATION   TEAM_CITY  TEAM_CODE     TEAM_ID      TEAM_NAME TO_YEAR  \n",
       "0               MEM     Memphis  grizzlies  1610612763      Grizzlies    2015  \n",
       "1               POR    Portland    blazers  1610612757  Trail Blazers    2015  \n",
       "2               NYK    New York     knicks  1610612752         Knicks    2015  \n",
       "3               SAC  Sacramento      kings  1610612758          Kings    2015  \n",
       "4                                                    0                   2015  "
      ]
     },
     "execution_count": 18,
     "metadata": {},
     "output_type": "execute_result"
    }
   ],
   "source": [
    "players1516 = goldsberry.PlayerList()\n",
    "players1516 = pd.DataFrame(players1516.players())\n",
    "players1516.head()"
   ]
  },
  {
   "cell_type": "markdown",
   "metadata": {},
   "source": [
    "### Seach for Specific Player"
   ]
  },
  {
   "cell_type": "code",
   "execution_count": 19,
   "metadata": {
    "collapsed": false
   },
   "outputs": [
    {
     "data": {
      "text/html": [
       "<div>\n",
       "<table border=\"1\" class=\"dataframe\">\n",
       "  <thead>\n",
       "    <tr style=\"text-align: right;\">\n",
       "      <th></th>\n",
       "      <th>DISPLAY_FIRST_LAST</th>\n",
       "      <th>DISPLAY_LAST_COMMA_FIRST</th>\n",
       "      <th>FROM_YEAR</th>\n",
       "      <th>GAMES_PLAYED_FLAG</th>\n",
       "      <th>PERSON_ID</th>\n",
       "      <th>PLAYERCODE</th>\n",
       "      <th>ROSTERSTATUS</th>\n",
       "      <th>TEAM_ABBREVIATION</th>\n",
       "      <th>TEAM_CITY</th>\n",
       "      <th>TEAM_CODE</th>\n",
       "      <th>TEAM_ID</th>\n",
       "      <th>TEAM_NAME</th>\n",
       "      <th>TO_YEAR</th>\n",
       "    </tr>\n",
       "  </thead>\n",
       "  <tbody>\n",
       "  </tbody>\n",
       "</table>\n",
       "</div>"
      ],
      "text/plain": [
       "Empty DataFrame\n",
       "Columns: [DISPLAY_FIRST_LAST, DISPLAY_LAST_COMMA_FIRST, FROM_YEAR, GAMES_PLAYED_FLAG, PERSON_ID, PLAYERCODE, ROSTERSTATUS, TEAM_ABBREVIATION, TEAM_CITY, TEAM_CODE, TEAM_ID, TEAM_NAME, TO_YEAR]\n",
       "Index: []"
      ]
     },
     "execution_count": 19,
     "metadata": {},
     "output_type": "execute_result"
    }
   ],
   "source": [
    "players1516.ix[players1516['DISPLAY_LAST_COMMA_FIRST'].str.contains(\"Curry\")]"
   ]
  },
  {
   "cell_type": "code",
   "execution_count": 20,
   "metadata": {
    "collapsed": true
   },
   "outputs": [],
   "source": [
    "curry_id = '201939'"
   ]
  },
  {
   "cell_type": "markdown",
   "metadata": {},
   "source": [
    "### Player Game Logs"
   ]
  },
  {
   "cell_type": "code",
   "execution_count": 21,
   "metadata": {
    "collapsed": false
   },
   "outputs": [],
   "source": [
    "curry_logs = goldsberry.player.game_logs(curry_id)"
   ]
  },
  {
   "cell_type": "code",
   "execution_count": 6,
   "metadata": {
    "collapsed": false
   },
   "outputs": [
    {
     "data": {
      "text/plain": [
       "{'LeagueID': '00',\n",
       " 'PlayerID': '201939',\n",
       " 'Season': '2015-16',\n",
       " 'SeasonType': 'Regular Season'}"
      ]
     },
     "execution_count": 6,
     "metadata": {},
     "output_type": "execute_result"
    }
   ],
   "source": [
    "curry_game_logs_2015 = pd.DataFrame(curry_game_logs.logs())"
   ]
  },
  {
   "cell_type": "code",
   "execution_count": 7,
   "metadata": {
    "collapsed": false
   },
   "outputs": [
    {
     "data": {
      "text/html": [
       "<div>\n",
       "<table border=\"1\" class=\"dataframe\">\n",
       "  <thead>\n",
       "    <tr style=\"text-align: right;\">\n",
       "      <th></th>\n",
       "      <th>SEASON_ID</th>\n",
       "      <th>Player_ID</th>\n",
       "      <th>Game_ID</th>\n",
       "      <th>GAME_DATE</th>\n",
       "      <th>MATCHUP</th>\n",
       "      <th>WL</th>\n",
       "      <th>MIN</th>\n",
       "      <th>FGM</th>\n",
       "      <th>FGA</th>\n",
       "      <th>FG_PCT</th>\n",
       "      <th>...</th>\n",
       "      <th>DREB</th>\n",
       "      <th>REB</th>\n",
       "      <th>AST</th>\n",
       "      <th>STL</th>\n",
       "      <th>BLK</th>\n",
       "      <th>TOV</th>\n",
       "      <th>PF</th>\n",
       "      <th>PTS</th>\n",
       "      <th>PLUS_MINUS</th>\n",
       "      <th>VIDEO_AVAILABLE</th>\n",
       "    </tr>\n",
       "  </thead>\n",
       "  <tbody>\n",
       "    <tr>\n",
       "      <th>0</th>\n",
       "      <td>22015</td>\n",
       "      <td>201939</td>\n",
       "      <td>0021501227</td>\n",
       "      <td>2016-04-13</td>\n",
       "      <td>GSW vs. MEM</td>\n",
       "      <td>W</td>\n",
       "      <td>30</td>\n",
       "      <td>15</td>\n",
       "      <td>24</td>\n",
       "      <td>0.625</td>\n",
       "      <td>...</td>\n",
       "      <td>3</td>\n",
       "      <td>4</td>\n",
       "      <td>6</td>\n",
       "      <td>2</td>\n",
       "      <td>0</td>\n",
       "      <td>2</td>\n",
       "      <td>2</td>\n",
       "      <td>46</td>\n",
       "      <td>19</td>\n",
       "      <td>1</td>\n",
       "    </tr>\n",
       "    <tr>\n",
       "      <th>1</th>\n",
       "      <td>22015</td>\n",
       "      <td>201939</td>\n",
       "      <td>0021501201</td>\n",
       "      <td>2016-04-10</td>\n",
       "      <td>GSW @ SAS</td>\n",
       "      <td>W</td>\n",
       "      <td>35</td>\n",
       "      <td>13</td>\n",
       "      <td>22</td>\n",
       "      <td>0.591</td>\n",
       "      <td>...</td>\n",
       "      <td>5</td>\n",
       "      <td>5</td>\n",
       "      <td>5</td>\n",
       "      <td>2</td>\n",
       "      <td>0</td>\n",
       "      <td>4</td>\n",
       "      <td>4</td>\n",
       "      <td>37</td>\n",
       "      <td>7</td>\n",
       "      <td>1</td>\n",
       "    </tr>\n",
       "    <tr>\n",
       "      <th>2</th>\n",
       "      <td>22015</td>\n",
       "      <td>201939</td>\n",
       "      <td>0021501190</td>\n",
       "      <td>2016-04-09</td>\n",
       "      <td>GSW @ MEM</td>\n",
       "      <td>W</td>\n",
       "      <td>34</td>\n",
       "      <td>7</td>\n",
       "      <td>22</td>\n",
       "      <td>0.318</td>\n",
       "      <td>...</td>\n",
       "      <td>9</td>\n",
       "      <td>9</td>\n",
       "      <td>8</td>\n",
       "      <td>1</td>\n",
       "      <td>0</td>\n",
       "      <td>2</td>\n",
       "      <td>1</td>\n",
       "      <td>17</td>\n",
       "      <td>10</td>\n",
       "      <td>1</td>\n",
       "    </tr>\n",
       "    <tr>\n",
       "      <th>3</th>\n",
       "      <td>22015</td>\n",
       "      <td>201939</td>\n",
       "      <td>0021501177</td>\n",
       "      <td>2016-04-07</td>\n",
       "      <td>GSW vs. SAS</td>\n",
       "      <td>W</td>\n",
       "      <td>36</td>\n",
       "      <td>11</td>\n",
       "      <td>19</td>\n",
       "      <td>0.579</td>\n",
       "      <td>...</td>\n",
       "      <td>5</td>\n",
       "      <td>5</td>\n",
       "      <td>9</td>\n",
       "      <td>2</td>\n",
       "      <td>0</td>\n",
       "      <td>3</td>\n",
       "      <td>2</td>\n",
       "      <td>27</td>\n",
       "      <td>14</td>\n",
       "      <td>1</td>\n",
       "    </tr>\n",
       "    <tr>\n",
       "      <th>4</th>\n",
       "      <td>22015</td>\n",
       "      <td>201939</td>\n",
       "      <td>0021501163</td>\n",
       "      <td>2016-04-05</td>\n",
       "      <td>GSW vs. MIN</td>\n",
       "      <td>L</td>\n",
       "      <td>43</td>\n",
       "      <td>7</td>\n",
       "      <td>25</td>\n",
       "      <td>0.280</td>\n",
       "      <td>...</td>\n",
       "      <td>4</td>\n",
       "      <td>6</td>\n",
       "      <td>15</td>\n",
       "      <td>3</td>\n",
       "      <td>0</td>\n",
       "      <td>3</td>\n",
       "      <td>4</td>\n",
       "      <td>21</td>\n",
       "      <td>3</td>\n",
       "      <td>1</td>\n",
       "    </tr>\n",
       "  </tbody>\n",
       "</table>\n",
       "<p>5 rows × 27 columns</p>\n",
       "</div>"
      ],
      "text/plain": [
       "  SEASON_ID  Player_ID     Game_ID  GAME_DATE      MATCHUP WL  MIN  FGM  FGA  \\\n",
       "0     22015     201939  0021501227 2016-04-13  GSW vs. MEM  W   30   15   24   \n",
       "1     22015     201939  0021501201 2016-04-10    GSW @ SAS  W   35   13   22   \n",
       "2     22015     201939  0021501190 2016-04-09    GSW @ MEM  W   34    7   22   \n",
       "3     22015     201939  0021501177 2016-04-07  GSW vs. SAS  W   36   11   19   \n",
       "4     22015     201939  0021501163 2016-04-05  GSW vs. MIN  L   43    7   25   \n",
       "\n",
       "   FG_PCT       ...         DREB  REB  AST  STL  BLK  TOV  PF  PTS  \\\n",
       "0   0.625       ...            3    4    6    2    0    2   2   46   \n",
       "1   0.591       ...            5    5    5    2    0    4   4   37   \n",
       "2   0.318       ...            9    9    8    1    0    2   1   17   \n",
       "3   0.579       ...            5    5    9    2    0    3   2   27   \n",
       "4   0.280       ...            4    6   15    3    0    3   4   21   \n",
       "\n",
       "   PLUS_MINUS  VIDEO_AVAILABLE  \n",
       "0          19                1  \n",
       "1           7                1  \n",
       "2          10                1  \n",
       "3          14                1  \n",
       "4           3                1  \n",
       "\n",
       "[5 rows x 27 columns]"
      ]
     },
     "execution_count": 7,
     "metadata": {},
     "output_type": "execute_result"
    }
   ],
   "source": [
    "curry_logs_df = curry_logs.get_game_logs()\n",
    "curry_logs_df.head()"
   ]
  },
  {
   "cell_type": "markdown",
   "metadata": {},
   "source": [
    "### Team IDs"
   ]
  },
  {
   "cell_type": "code",
   "execution_count": 8,
   "metadata": {
    "collapsed": false
   },
   "outputs": [
    {
     "data": {
      "text/html": [
       "<div>\n",
       "<table border=\"1\" class=\"dataframe\">\n",
       "  <thead>\n",
       "    <tr style=\"text-align: right;\">\n",
       "      <th></th>\n",
       "      <th>TEAM_ID</th>\n",
       "      <th>TEAM_NAME</th>\n",
       "    </tr>\n",
       "  </thead>\n",
       "  <tbody>\n",
       "    <tr>\n",
       "      <th>0</th>\n",
       "      <td>0</td>\n",
       "      <td></td>\n",
       "    </tr>\n",
       "    <tr>\n",
       "      <th>1</th>\n",
       "      <td>1610612758</td>\n",
       "      <td>Kings</td>\n",
       "    </tr>\n",
       "    <tr>\n",
       "      <th>2</th>\n",
       "      <td>1610612763</td>\n",
       "      <td>Grizzlies</td>\n",
       "    </tr>\n",
       "    <tr>\n",
       "      <th>3</th>\n",
       "      <td>1610612760</td>\n",
       "      <td>Thunder</td>\n",
       "    </tr>\n",
       "    <tr>\n",
       "      <th>4</th>\n",
       "      <td>1610612752</td>\n",
       "      <td>Knicks</td>\n",
       "    </tr>\n",
       "  </tbody>\n",
       "</table>\n",
       "</div>"
      ],
      "text/plain": [
       "      TEAM_ID  TEAM_NAME\n",
       "0           0           \n",
       "1  1610612758      Kings\n",
       "2  1610612763  Grizzlies\n",
       "3  1610612760    Thunder\n",
       "4  1610612752     Knicks"
      ]
     },
     "execution_count": 8,
     "metadata": {},
     "output_type": "execute_result"
    }
   ],
   "source": [
    "all_team_ids = nba.get_all_team_ids()\n",
    "all_team_ids.head()"
   ]
  },
  {
   "cell_type": "markdown",
   "metadata": {},
   "source": [
    "#### Golden State Warriors 2015-2016"
   ]
  },
  {
   "cell_type": "code",
   "execution_count": 9,
   "metadata": {
    "collapsed": false
   },
   "outputs": [
    {
     "data": {
      "text/plain": [
       "1610612744"
      ]
     },
     "execution_count": 9,
     "metadata": {},
     "output_type": "execute_result"
    }
   ],
   "source": [
    "warriors_id = nba.get_team_id(\"Warriors\")\n",
    "warriors_id"
   ]
  },
  {
   "cell_type": "code",
   "execution_count": 10,
   "metadata": {
    "collapsed": false
   },
   "outputs": [],
   "source": [
    "# Create a Team log object\n",
    "warriors_logs = nba.TeamLog(warriors_id)"
   ]
  },
  {
   "cell_type": "code",
   "execution_count": 11,
   "metadata": {
    "collapsed": false
   },
   "outputs": [
    {
     "data": {
      "text/html": [
       "<div>\n",
       "<table border=\"1\" class=\"dataframe\">\n",
       "  <thead>\n",
       "    <tr style=\"text-align: right;\">\n",
       "      <th></th>\n",
       "      <th>Team_ID</th>\n",
       "      <th>Game_ID</th>\n",
       "      <th>GAME_DATE</th>\n",
       "      <th>MATCHUP</th>\n",
       "      <th>WL</th>\n",
       "      <th>W</th>\n",
       "      <th>L</th>\n",
       "      <th>W_PCT</th>\n",
       "      <th>MIN</th>\n",
       "      <th>FGM</th>\n",
       "      <th>...</th>\n",
       "      <th>FT_PCT</th>\n",
       "      <th>OREB</th>\n",
       "      <th>DREB</th>\n",
       "      <th>REB</th>\n",
       "      <th>AST</th>\n",
       "      <th>STL</th>\n",
       "      <th>BLK</th>\n",
       "      <th>TOV</th>\n",
       "      <th>PF</th>\n",
       "      <th>PTS</th>\n",
       "    </tr>\n",
       "  </thead>\n",
       "  <tbody>\n",
       "    <tr>\n",
       "      <th>0</th>\n",
       "      <td>1610612744</td>\n",
       "      <td>0021501227</td>\n",
       "      <td>2016-04-13</td>\n",
       "      <td>GSW vs. MEM</td>\n",
       "      <td>W</td>\n",
       "      <td>73</td>\n",
       "      <td>9</td>\n",
       "      <td>0.890</td>\n",
       "      <td>240</td>\n",
       "      <td>46</td>\n",
       "      <td>...</td>\n",
       "      <td>0.813</td>\n",
       "      <td>12</td>\n",
       "      <td>39</td>\n",
       "      <td>51</td>\n",
       "      <td>35</td>\n",
       "      <td>7</td>\n",
       "      <td>7</td>\n",
       "      <td>17</td>\n",
       "      <td>14</td>\n",
       "      <td>125</td>\n",
       "    </tr>\n",
       "    <tr>\n",
       "      <th>1</th>\n",
       "      <td>1610612744</td>\n",
       "      <td>0021501201</td>\n",
       "      <td>2016-04-10</td>\n",
       "      <td>GSW @ SAS</td>\n",
       "      <td>W</td>\n",
       "      <td>72</td>\n",
       "      <td>9</td>\n",
       "      <td>0.889</td>\n",
       "      <td>240</td>\n",
       "      <td>34</td>\n",
       "      <td>...</td>\n",
       "      <td>0.778</td>\n",
       "      <td>7</td>\n",
       "      <td>39</td>\n",
       "      <td>46</td>\n",
       "      <td>19</td>\n",
       "      <td>7</td>\n",
       "      <td>6</td>\n",
       "      <td>13</td>\n",
       "      <td>18</td>\n",
       "      <td>92</td>\n",
       "    </tr>\n",
       "    <tr>\n",
       "      <th>2</th>\n",
       "      <td>1610612744</td>\n",
       "      <td>0021501190</td>\n",
       "      <td>2016-04-09</td>\n",
       "      <td>GSW @ MEM</td>\n",
       "      <td>W</td>\n",
       "      <td>71</td>\n",
       "      <td>9</td>\n",
       "      <td>0.888</td>\n",
       "      <td>240</td>\n",
       "      <td>39</td>\n",
       "      <td>...</td>\n",
       "      <td>0.923</td>\n",
       "      <td>7</td>\n",
       "      <td>41</td>\n",
       "      <td>48</td>\n",
       "      <td>20</td>\n",
       "      <td>3</td>\n",
       "      <td>7</td>\n",
       "      <td>11</td>\n",
       "      <td>14</td>\n",
       "      <td>100</td>\n",
       "    </tr>\n",
       "    <tr>\n",
       "      <th>3</th>\n",
       "      <td>1610612744</td>\n",
       "      <td>0021501177</td>\n",
       "      <td>2016-04-07</td>\n",
       "      <td>GSW vs. SAS</td>\n",
       "      <td>W</td>\n",
       "      <td>70</td>\n",
       "      <td>9</td>\n",
       "      <td>0.886</td>\n",
       "      <td>240</td>\n",
       "      <td>45</td>\n",
       "      <td>...</td>\n",
       "      <td>0.909</td>\n",
       "      <td>7</td>\n",
       "      <td>36</td>\n",
       "      <td>43</td>\n",
       "      <td>33</td>\n",
       "      <td>8</td>\n",
       "      <td>2</td>\n",
       "      <td>15</td>\n",
       "      <td>22</td>\n",
       "      <td>112</td>\n",
       "    </tr>\n",
       "    <tr>\n",
       "      <th>4</th>\n",
       "      <td>1610612744</td>\n",
       "      <td>0021501163</td>\n",
       "      <td>2016-04-05</td>\n",
       "      <td>GSW vs. MIN</td>\n",
       "      <td>L</td>\n",
       "      <td>69</td>\n",
       "      <td>9</td>\n",
       "      <td>0.885</td>\n",
       "      <td>265</td>\n",
       "      <td>49</td>\n",
       "      <td>...</td>\n",
       "      <td>0.875</td>\n",
       "      <td>9</td>\n",
       "      <td>37</td>\n",
       "      <td>46</td>\n",
       "      <td>35</td>\n",
       "      <td>9</td>\n",
       "      <td>5</td>\n",
       "      <td>23</td>\n",
       "      <td>29</td>\n",
       "      <td>117</td>\n",
       "    </tr>\n",
       "  </tbody>\n",
       "</table>\n",
       "<p>5 rows × 27 columns</p>\n",
       "</div>"
      ],
      "text/plain": [
       "      Team_ID     Game_ID  GAME_DATE      MATCHUP WL   W  L  W_PCT  MIN  FGM  \\\n",
       "0  1610612744  0021501227 2016-04-13  GSW vs. MEM  W  73  9  0.890  240   46   \n",
       "1  1610612744  0021501201 2016-04-10    GSW @ SAS  W  72  9  0.889  240   34   \n",
       "2  1610612744  0021501190 2016-04-09    GSW @ MEM  W  71  9  0.888  240   39   \n",
       "3  1610612744  0021501177 2016-04-07  GSW vs. SAS  W  70  9  0.886  240   45   \n",
       "4  1610612744  0021501163 2016-04-05  GSW vs. MIN  L  69  9  0.885  265   49   \n",
       "\n",
       "  ...   FT_PCT  OREB  DREB  REB  AST  STL  BLK  TOV  PF  PTS  \n",
       "0 ...    0.813    12    39   51   35    7    7   17  14  125  \n",
       "1 ...    0.778     7    39   46   19    7    6   13  18   92  \n",
       "2 ...    0.923     7    41   48   20    3    7   11  14  100  \n",
       "3 ...    0.909     7    36   43   33    8    2   15  22  112  \n",
       "4 ...    0.875     9    37   46   35    9    5   23  29  117  \n",
       "\n",
       "[5 rows x 27 columns]"
      ]
     },
     "execution_count": 11,
     "metadata": {},
     "output_type": "execute_result"
    }
   ],
   "source": [
    "# Create a Dataframe containing the game logs data\n",
    "warriors_logs_df = warriors_logs.get_game_logs()\n",
    "warriors_logs_df.head()"
   ]
  },
  {
   "cell_type": "markdown",
   "metadata": {},
   "source": [
    "### Shot Chart Data"
   ]
  },
  {
   "cell_type": "code",
   "execution_count": 13,
   "metadata": {
    "collapsed": false
   },
   "outputs": [
    {
     "ename": "AttributeError",
     "evalue": "'module' object has no attribute 'get_shots'",
     "output_type": "error",
     "traceback": [
      "\u001b[0;31m---------------------------------------------------------------------------\u001b[0m",
      "\u001b[0;31mAttributeError\u001b[0m                            Traceback (most recent call last)",
      "\u001b[0;32m<ipython-input-13-034e1c6a43af>\u001b[0m in \u001b[0;36m<module>\u001b[0;34m()\u001b[0m\n\u001b[0;32m----> 1\u001b[0;31m \u001b[0mcurrent_season_shots\u001b[0m \u001b[0;34m=\u001b[0m \u001b[0mnba\u001b[0m\u001b[0;34m.\u001b[0m\u001b[0mget_shots\u001b[0m\u001b[0;34m(\u001b[0m\u001b[0;34m)\u001b[0m\u001b[0;34m\u001b[0m\u001b[0m\n\u001b[0m",
      "\u001b[0;31mAttributeError\u001b[0m: 'module' object has no attribute 'get_shots'"
     ]
    }
   ],
   "source": [
    "current_season_shots = nba.get_shots()"
   ]
  },
  {
   "cell_type": "code",
   "execution_count": null,
   "metadata": {
    "collapsed": true
   },
   "outputs": [],
   "source": []
  }
 ],
 "metadata": {
  "anaconda-cloud": {},
  "kernelspec": {
   "display_name": "Python [Root]",
   "language": "python",
   "name": "Python [Root]"
  },
  "language_info": {
   "codemirror_mode": {
    "name": "ipython",
    "version": 2
   },
   "file_extension": ".py",
   "mimetype": "text/x-python",
   "name": "python",
   "nbconvert_exporter": "python",
   "pygments_lexer": "ipython2",
   "version": "2.7.12"
  }
 },
 "nbformat": 4,
 "nbformat_minor": 0
}

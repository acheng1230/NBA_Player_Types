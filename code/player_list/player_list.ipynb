{
 "cells": [
  {
   "cell_type": "markdown",
   "metadata": {},
   "source": [
    "### Load Packages"
   ]
  },
  {
   "cell_type": "code",
   "execution_count": 1,
   "metadata": {
    "collapsed": true
   },
   "outputs": [],
   "source": [
    "import pandas as pd\n",
    "import numpy as np\n",
    "import string"
   ]
  },
  {
   "cell_type": "markdown",
   "metadata": {},
   "source": [
    "### Web Scraping Individual Player Pages"
   ]
  },
  {
   "cell_type": "code",
   "execution_count": 2,
   "metadata": {
    "collapsed": false
   },
   "outputs": [],
   "source": [
    "# Load the data\n",
    "player_df = pd.read_csv('/Users/alexcheng/Desktop/2000_2017_players.csv')"
   ]
  },
  {
   "cell_type": "code",
   "execution_count": 3,
   "metadata": {
    "collapsed": false
   },
   "outputs": [],
   "source": [
    "# Drop duplicates\n",
    "player_df = player_df.drop_duplicates()\n",
    "\n",
    "player_df.sort_values(by='Players', axis=0, ascending=True)\n",
    "\n",
    "# Reset index\n",
    "player_df = player_df.reset_index(drop=True)"
   ]
  },
  {
   "cell_type": "code",
   "execution_count": 4,
   "metadata": {
    "collapsed": false
   },
   "outputs": [
    {
     "data": {
      "text/html": [
       "<div>\n",
       "<table border=\"1\" class=\"dataframe\">\n",
       "  <thead>\n",
       "    <tr style=\"text-align: right;\">\n",
       "      <th></th>\n",
       "      <th>Players</th>\n",
       "    </tr>\n",
       "  </thead>\n",
       "  <tbody>\n",
       "    <tr>\n",
       "      <th>0</th>\n",
       "      <td>Mahmoud Abdul-Rauf</td>\n",
       "    </tr>\n",
       "    <tr>\n",
       "      <th>1</th>\n",
       "      <td>Tariq Abdul-Wahad</td>\n",
       "    </tr>\n",
       "    <tr>\n",
       "      <th>2</th>\n",
       "      <td>Shareef Abdur-Rahim</td>\n",
       "    </tr>\n",
       "    <tr>\n",
       "      <th>3</th>\n",
       "      <td>Cory Alexander</td>\n",
       "    </tr>\n",
       "    <tr>\n",
       "      <th>4</th>\n",
       "      <td>Courtney Alexander</td>\n",
       "    </tr>\n",
       "  </tbody>\n",
       "</table>\n",
       "</div>"
      ],
      "text/plain": [
       "               Players\n",
       "0   Mahmoud Abdul-Rauf\n",
       "1    Tariq Abdul-Wahad\n",
       "2  Shareef Abdur-Rahim\n",
       "3       Cory Alexander\n",
       "4   Courtney Alexander"
      ]
     },
     "execution_count": 4,
     "metadata": {},
     "output_type": "execute_result"
    }
   ],
   "source": [
    "player_df.head()"
   ]
  },
  {
   "cell_type": "code",
   "execution_count": 5,
   "metadata": {
    "collapsed": false
   },
   "outputs": [],
   "source": [
    "cleaned_player = []\n",
    "\n",
    "for player in player_df['Players']:\n",
    "    player = player.lower()\n",
    "    player = player.strip()\n",
    "    player = (player.replace(',','').replace('.','').replace(\"'\",\"\").replace('*',''))\n",
    "    cleaned_player.append(player)\n",
    "    \n",
    "player_df['Players'] = cleaned_player"
   ]
  },
  {
   "cell_type": "code",
   "execution_count": 6,
   "metadata": {
    "collapsed": false
   },
   "outputs": [
    {
     "data": {
      "text/html": [
       "<div>\n",
       "<table border=\"1\" class=\"dataframe\">\n",
       "  <thead>\n",
       "    <tr style=\"text-align: right;\">\n",
       "      <th></th>\n",
       "      <th>Players</th>\n",
       "    </tr>\n",
       "  </thead>\n",
       "  <tbody>\n",
       "    <tr>\n",
       "      <th>0</th>\n",
       "      <td>mahmoud abdul-rauf</td>\n",
       "    </tr>\n",
       "    <tr>\n",
       "      <th>1</th>\n",
       "      <td>tariq abdul-wahad</td>\n",
       "    </tr>\n",
       "    <tr>\n",
       "      <th>2</th>\n",
       "      <td>shareef abdur-rahim</td>\n",
       "    </tr>\n",
       "    <tr>\n",
       "      <th>3</th>\n",
       "      <td>cory alexander</td>\n",
       "    </tr>\n",
       "    <tr>\n",
       "      <th>4</th>\n",
       "      <td>courtney alexander</td>\n",
       "    </tr>\n",
       "  </tbody>\n",
       "</table>\n",
       "</div>"
      ],
      "text/plain": [
       "               Players\n",
       "0   mahmoud abdul-rauf\n",
       "1    tariq abdul-wahad\n",
       "2  shareef abdur-rahim\n",
       "3       cory alexander\n",
       "4   courtney alexander"
      ]
     },
     "execution_count": 6,
     "metadata": {},
     "output_type": "execute_result"
    }
   ],
   "source": [
    "player_df.head()"
   ]
  },
  {
   "cell_type": "code",
   "execution_count": 7,
   "metadata": {
    "collapsed": false
   },
   "outputs": [],
   "source": [
    "# Change to list\n",
    "player_list = list(player_df.values.flatten())\n",
    "\n",
    "# Lowercase names, remove punctuation\n",
    "# player_list = [player.translate(None, string.punctuation).lower() for player in player_list]"
   ]
  },
  {
   "cell_type": "code",
   "execution_count": 8,
   "metadata": {
    "collapsed": false
   },
   "outputs": [
    {
     "data": {
      "text/plain": [
       "1609"
      ]
     },
     "execution_count": 8,
     "metadata": {},
     "output_type": "execute_result"
    }
   ],
   "source": [
    "len(player_list)"
   ]
  },
  {
   "cell_type": "code",
   "execution_count": 9,
   "metadata": {
    "collapsed": true
   },
   "outputs": [],
   "source": [
    "# Create new columns\n",
    "temp_first_name = []\n",
    "last_name = []\n",
    "last_letter = []\n",
    "player_id = []\n",
    "first_two_first_name = []\n",
    "player_num = []\n",
    "\n",
    "for name in player_list:    \n",
    "    temp = []\n",
    "    temp = name.split()\n",
    "    temp_first_name.append(temp[0])\n",
    "    last_name.append(temp[1])\n",
    "    last_letter.append(temp[1][0])\n",
    "    player_id.append(temp[1][:5])\n",
    "    first_two_first_name.append(temp[0][:2])\n",
    "    player_num.append(\"01\")"
   ]
  },
  {
   "cell_type": "code",
   "execution_count": 10,
   "metadata": {
    "collapsed": true
   },
   "outputs": [],
   "source": [
    "first_name = []\n",
    "\n",
    "for name in temp_first_name:\n",
    "    first_name.append(name.title())"
   ]
  },
  {
   "cell_type": "code",
   "execution_count": 11,
   "metadata": {
    "collapsed": false
   },
   "outputs": [],
   "source": [
    "player_df['first_name'] = first_name\n",
    "player_df['last_name'] = last_name\n",
    "player_df['last_letter'] = last_letter\n",
    "player_df['player_id'] = player_id\n",
    "player_df['first_two_first_name'] = first_two_first_name\n",
    "player_df['player_num'] = player_num"
   ]
  },
  {
   "cell_type": "code",
   "execution_count": 12,
   "metadata": {
    "collapsed": false
   },
   "outputs": [],
   "source": [
    "# Create 'player_id' column\n",
    "player_df['player_id'] = player_df['player_id'] + player_df['first_two_first_name'] + player_df['player_num']\n",
    "\n",
    "# Clean up the columns\n",
    "player_df = player_df.drop(['last_name', 'first_two_first_name', 'player_num'], axis=1)"
   ]
  },
  {
   "cell_type": "code",
   "execution_count": 13,
   "metadata": {
    "collapsed": false
   },
   "outputs": [
    {
     "data": {
      "text/html": [
       "<div>\n",
       "<table border=\"1\" class=\"dataframe\">\n",
       "  <thead>\n",
       "    <tr style=\"text-align: right;\">\n",
       "      <th></th>\n",
       "      <th>Players</th>\n",
       "      <th>first_name</th>\n",
       "      <th>last_letter</th>\n",
       "      <th>player_id</th>\n",
       "    </tr>\n",
       "  </thead>\n",
       "  <tbody>\n",
       "    <tr>\n",
       "      <th>0</th>\n",
       "      <td>mahmoud abdul-rauf</td>\n",
       "      <td>Mahmoud</td>\n",
       "      <td>a</td>\n",
       "      <td>abdulma01</td>\n",
       "    </tr>\n",
       "    <tr>\n",
       "      <th>1</th>\n",
       "      <td>tariq abdul-wahad</td>\n",
       "      <td>Tariq</td>\n",
       "      <td>a</td>\n",
       "      <td>abdulta01</td>\n",
       "    </tr>\n",
       "    <tr>\n",
       "      <th>2</th>\n",
       "      <td>shareef abdur-rahim</td>\n",
       "      <td>Shareef</td>\n",
       "      <td>a</td>\n",
       "      <td>abdursh01</td>\n",
       "    </tr>\n",
       "    <tr>\n",
       "      <th>3</th>\n",
       "      <td>cory alexander</td>\n",
       "      <td>Cory</td>\n",
       "      <td>a</td>\n",
       "      <td>alexaco01</td>\n",
       "    </tr>\n",
       "    <tr>\n",
       "      <th>4</th>\n",
       "      <td>courtney alexander</td>\n",
       "      <td>Courtney</td>\n",
       "      <td>a</td>\n",
       "      <td>alexaco01</td>\n",
       "    </tr>\n",
       "  </tbody>\n",
       "</table>\n",
       "</div>"
      ],
      "text/plain": [
       "               Players first_name last_letter  player_id\n",
       "0   mahmoud abdul-rauf    Mahmoud           a  abdulma01\n",
       "1    tariq abdul-wahad      Tariq           a  abdulta01\n",
       "2  shareef abdur-rahim    Shareef           a  abdursh01\n",
       "3       cory alexander       Cory           a  alexaco01\n",
       "4   courtney alexander   Courtney           a  alexaco01"
      ]
     },
     "execution_count": 13,
     "metadata": {},
     "output_type": "execute_result"
    }
   ],
   "source": [
    "player_df.head()"
   ]
  },
  {
   "cell_type": "markdown",
   "metadata": {
    "collapsed": true
   },
   "source": [
    "base_url = \"http://www.basketball-reference.com/players/j/jamesle01.html\""
   ]
  },
  {
   "cell_type": "code",
   "execution_count": 14,
   "metadata": {
    "collapsed": false
   },
   "outputs": [],
   "source": [
    "for i in player_df:\n",
    "    url = \"http://www.basketball-reference.com/players/\" + player_df['last_letter'] + \"/\" + player_df['player_id'] + \".html\""
   ]
  },
  {
   "cell_type": "code",
   "execution_count": 15,
   "metadata": {
    "collapsed": true
   },
   "outputs": [],
   "source": [
    "player_df['url'] = url"
   ]
  },
  {
   "cell_type": "code",
   "execution_count": 16,
   "metadata": {
    "collapsed": false
   },
   "outputs": [
    {
     "data": {
      "text/plain": [
       "0    http://www.basketball-reference.com/players/a/...\n",
       "1    http://www.basketball-reference.com/players/a/...\n",
       "2    http://www.basketball-reference.com/players/a/...\n",
       "3    http://www.basketball-reference.com/players/a/...\n",
       "4    http://www.basketball-reference.com/players/a/...\n",
       "Name: url, dtype: object"
      ]
     },
     "execution_count": 16,
     "metadata": {},
     "output_type": "execute_result"
    }
   ],
   "source": [
    "player_df['url'].head()"
   ]
  },
  {
   "cell_type": "code",
   "execution_count": 17,
   "metadata": {
    "collapsed": false
   },
   "outputs": [],
   "source": [
    "player_df.to_csv('/Users/alexcheng/Desktop/2000_2017_cleaned_players.csv', sep=',')"
   ]
  }
 ],
 "metadata": {
  "anaconda-cloud": {},
  "kernelspec": {
   "display_name": "Python [Root]",
   "language": "python",
   "name": "Python [Root]"
  },
  "language_info": {
   "codemirror_mode": {
    "name": "ipython",
    "version": 2
   },
   "file_extension": ".py",
   "mimetype": "text/x-python",
   "name": "python",
   "nbconvert_exporter": "python",
   "pygments_lexer": "ipython2",
   "version": "2.7.12"
  }
 },
 "nbformat": 4,
 "nbformat_minor": 0
}

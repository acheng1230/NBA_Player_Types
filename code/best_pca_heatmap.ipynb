{
 "cells": [
  {
   "cell_type": "code",
   "execution_count": 1,
   "metadata": {
    "collapsed": true
   },
   "outputs": [],
   "source": [
    "import pandas as pd"
   ]
  },
  {
   "cell_type": "code",
   "execution_count": 2,
   "metadata": {
    "collapsed": false
   },
   "outputs": [],
   "source": [
    "customer_df = pd.read_csv('../../../data/customers.csv')"
   ]
  },
  {
   "cell_type": "code",
   "execution_count": 3,
   "metadata": {
    "collapsed": false
   },
   "outputs": [
    {
     "data": {
      "text/html": [
       "<div>\n",
       "<table border=\"1\" class=\"dataframe\">\n",
       "  <thead>\n",
       "    <tr style=\"text-align: right;\">\n",
       "      <th></th>\n",
       "      <th>Player</th>\n",
       "      <th>Age</th>\n",
       "      <th>Height</th>\n",
       "      <th>Weight</th>\n",
       "      <th>Pos</th>\n",
       "      <th>MP</th>\n",
       "      <th>FG</th>\n",
       "      <th>FGA</th>\n",
       "      <th>FG%</th>\n",
       "      <th>3P</th>\n",
       "      <th>...</th>\n",
       "      <th>DRB%</th>\n",
       "      <th>TRB%</th>\n",
       "      <th>AST%</th>\n",
       "      <th>STL%</th>\n",
       "      <th>BLK%</th>\n",
       "      <th>TOV%</th>\n",
       "      <th>USG%</th>\n",
       "      <th>OBPM</th>\n",
       "      <th>DPM</th>\n",
       "      <th>BPM</th>\n",
       "    </tr>\n",
       "  </thead>\n",
       "  <tbody>\n",
       "    <tr>\n",
       "      <th>0</th>\n",
       "      <td>aaron brooks</td>\n",
       "      <td>32</td>\n",
       "      <td>73</td>\n",
       "      <td>161</td>\n",
       "      <td>PG</td>\n",
       "      <td>21.9</td>\n",
       "      <td>3.7</td>\n",
       "      <td>9.0</td>\n",
       "      <td>0.413</td>\n",
       "      <td>1.3</td>\n",
       "      <td>...</td>\n",
       "      <td>6.9</td>\n",
       "      <td>4.5</td>\n",
       "      <td>23.8</td>\n",
       "      <td>1.4</td>\n",
       "      <td>0.5</td>\n",
       "      <td>14.4</td>\n",
       "      <td>23.3</td>\n",
       "      <td>0</td>\n",
       "      <td>-2.4</td>\n",
       "      <td>-1.7</td>\n",
       "    </tr>\n",
       "    <tr>\n",
       "      <th>1</th>\n",
       "      <td>aaron gordon</td>\n",
       "      <td>21</td>\n",
       "      <td>81</td>\n",
       "      <td>220</td>\n",
       "      <td>SF</td>\n",
       "      <td>23.2</td>\n",
       "      <td>3.4</td>\n",
       "      <td>7.4</td>\n",
       "      <td>0.451</td>\n",
       "      <td>0.6</td>\n",
       "      <td>...</td>\n",
       "      <td>17.8</td>\n",
       "      <td>12.3</td>\n",
       "      <td>9.8</td>\n",
       "      <td>1.4</td>\n",
       "      <td>2.0</td>\n",
       "      <td>9.6</td>\n",
       "      <td>17.8</td>\n",
       "      <td>0</td>\n",
       "      <td>0.4</td>\n",
       "      <td>-0.2</td>\n",
       "    </tr>\n",
       "    <tr>\n",
       "      <th>2</th>\n",
       "      <td>aaron harrison</td>\n",
       "      <td>22</td>\n",
       "      <td>78</td>\n",
       "      <td>210</td>\n",
       "      <td>SG</td>\n",
       "      <td>4.2</td>\n",
       "      <td>0.2</td>\n",
       "      <td>0.9</td>\n",
       "      <td>0.217</td>\n",
       "      <td>0.1</td>\n",
       "      <td>...</td>\n",
       "      <td>14.0</td>\n",
       "      <td>8.9</td>\n",
       "      <td>6.0</td>\n",
       "      <td>2.7</td>\n",
       "      <td>0.0</td>\n",
       "      <td>12.1</td>\n",
       "      <td>13.6</td>\n",
       "      <td>0</td>\n",
       "      <td>-0.2</td>\n",
       "      <td>-6.4</td>\n",
       "    </tr>\n",
       "    <tr>\n",
       "      <th>3</th>\n",
       "      <td>adreian payne</td>\n",
       "      <td>25</td>\n",
       "      <td>82</td>\n",
       "      <td>237</td>\n",
       "      <td>PF</td>\n",
       "      <td>13.7</td>\n",
       "      <td>1.7</td>\n",
       "      <td>4.2</td>\n",
       "      <td>0.399</td>\n",
       "      <td>0.1</td>\n",
       "      <td>...</td>\n",
       "      <td>19.4</td>\n",
       "      <td>12.8</td>\n",
       "      <td>7.4</td>\n",
       "      <td>1.5</td>\n",
       "      <td>1.5</td>\n",
       "      <td>16.4</td>\n",
       "      <td>17.8</td>\n",
       "      <td>0</td>\n",
       "      <td>-0.8</td>\n",
       "      <td>-5.8</td>\n",
       "    </tr>\n",
       "    <tr>\n",
       "      <th>4</th>\n",
       "      <td>al horford</td>\n",
       "      <td>30</td>\n",
       "      <td>82</td>\n",
       "      <td>245</td>\n",
       "      <td>C</td>\n",
       "      <td>33.4</td>\n",
       "      <td>6.1</td>\n",
       "      <td>11.6</td>\n",
       "      <td>0.529</td>\n",
       "      <td>0.3</td>\n",
       "      <td>...</td>\n",
       "      <td>22.1</td>\n",
       "      <td>15.1</td>\n",
       "      <td>14.7</td>\n",
       "      <td>1.3</td>\n",
       "      <td>2.9</td>\n",
       "      <td>11.1</td>\n",
       "      <td>19.6</td>\n",
       "      <td>0</td>\n",
       "      <td>2.2</td>\n",
       "      <td>3.0</td>\n",
       "    </tr>\n",
       "  </tbody>\n",
       "</table>\n",
       "<p>5 rows × 59 columns</p>\n",
       "</div>"
      ],
      "text/plain": [
       "           Player  Age  Height  Weight Pos    MP   FG   FGA    FG%   3P ...   \\\n",
       "0    aaron brooks   32      73     161  PG  21.9  3.7   9.0  0.413  1.3 ...    \n",
       "1    aaron gordon   21      81     220  SF  23.2  3.4   7.4  0.451  0.6 ...    \n",
       "2  aaron harrison   22      78     210  SG   4.2  0.2   0.9  0.217  0.1 ...    \n",
       "3   adreian payne   25      82     237  PF  13.7  1.7   4.2  0.399  0.1 ...    \n",
       "4      al horford   30      82     245   C  33.4  6.1  11.6  0.529  0.3 ...    \n",
       "\n",
       "   DRB%  TRB%  AST%  STL%  BLK%  TOV%  USG%  OBPM  DPM  BPM  \n",
       "0   6.9   4.5  23.8   1.4   0.5  14.4  23.3     0 -2.4 -1.7  \n",
       "1  17.8  12.3   9.8   1.4   2.0   9.6  17.8     0  0.4 -0.2  \n",
       "2  14.0   8.9   6.0   2.7   0.0  12.1  13.6     0 -0.2 -6.4  \n",
       "3  19.4  12.8   7.4   1.5   1.5  16.4  17.8     0 -0.8 -5.8  \n",
       "4  22.1  15.1  14.7   1.3   2.9  11.1  19.6     0  2.2  3.0  \n",
       "\n",
       "[5 rows x 59 columns]"
      ]
     },
     "execution_count": 3,
     "metadata": {},
     "output_type": "execute_result"
    }
   ],
   "source": [
    "file_loc = \"data/player_stats_final.csv\"\n",
    "\n",
    "df = pd.read_csv(file_loc)\n",
    "df.head()"
   ]
  },
  {
   "cell_type": "code",
   "execution_count": 4,
   "metadata": {
    "collapsed": true
   },
   "outputs": [],
   "source": [
    "test_df = df.drop(['Player', 'Pos'], axis=1)"
   ]
  },
  {
   "cell_type": "code",
   "execution_count": 5,
   "metadata": {
    "collapsed": true
   },
   "outputs": [],
   "source": [
    "from sklearn.decomposition import PCA\n",
    "\n",
    "def fit_trans_pca(components, data):\n",
    "    this_pca = PCA(components)\n",
    "    this_pca.fit(data)\n",
    "    return this_pca.transform(data)"
   ]
  },
  {
   "cell_type": "code",
   "execution_count": 6,
   "metadata": {
    "collapsed": true
   },
   "outputs": [],
   "source": [
    "import numpy as np\n",
    "import matplotlib.pyplot as plt\n",
    "from sklearn import cluster, metrics, datasets\n",
    "\n",
    "def kmeans_sil_score(reduced_data, n_clusters):\n",
    "    \"\"\"\n",
    "    performs kmeans clustering and returns labels, centroids, inertia, and silhouette score\n",
    "    \"\"\"\n",
    "    kmeans = cluster.KMeans(n_clusters=n_clusters, random_state=42)\n",
    "    kmeans = kmeans.fit(reduced_data)\n",
    "    labels = kmeans.labels_\n",
    "    centroids = kmeans.cluster_centers_\n",
    "    inertia = kmeans.inertia_\n",
    "    sil_score = metrics.silhouette_score(reduced_data, kmeans.labels_, metric='euclidean')\n",
    "\n",
    "    data_dictionary = {\n",
    "        \"labels\": labels,\n",
    "        \"centroids\": centroids,\n",
    "        \"inertia\" : inertia,\n",
    "        \"silhouette_score\": sil_score\n",
    "    }\n",
    "\n",
    "    return sil_score"
   ]
  },
  {
   "cell_type": "code",
   "execution_count": 7,
   "metadata": {
    "collapsed": false
   },
   "outputs": [
    {
     "data": {
      "text/plain": [
       "0.54260629274290462"
      ]
     },
     "execution_count": 7,
     "metadata": {},
     "output_type": "execute_result"
    }
   ],
   "source": [
    "kmeans_sil_score(fit_trans_pca(2, customer_df), 2)"
   ]
  },
  {
   "cell_type": "code",
   "execution_count": 8,
   "metadata": {
    "collapsed": true
   },
   "outputs": [],
   "source": [
    "def find_best_cluster(data,a,b):\n",
    "    \"\"\"\n",
    "    plots and finds the best silhouette score for range(a,b)\n",
    "    \"\"\"\n",
    "    scores = []\n",
    "    for i in range(a,b):\n",
    "        i_clusters = kmeans(data, i)\n",
    "        sil_score_i = i_clusters['silhouette_score']\n",
    "        scores.append(sil_score_i)\n",
    "\n",
    "    plt.plot(range(a,b), scores)\n",
    "    print \"best silhouette score:\", np.max(scores)"
   ]
  },
  {
   "cell_type": "code",
   "execution_count": 12,
   "metadata": {
    "collapsed": false
   },
   "outputs": [
    {
     "data": {
      "text/plain": [
       "<matplotlib.figure.Figure at 0x122b33e10>"
      ]
     },
     "execution_count": 12,
     "metadata": {},
     "output_type": "execute_result"
    },
    {
     "data": {
      "image/png": "[encoded data removed]",
      "text/plain": [
       "<matplotlib.figure.Figure at 0x122808050>"
      ]
     },
     "metadata": {},
     "output_type": "display_data"
    },
    {
     "data": {
      "text/plain": [
       "<matplotlib.figure.Figure at 0x122b33e10>"
      ]
     },
     "metadata": {},
     "output_type": "display_data"
    }
   ],
   "source": [
    "import numpy as np\n",
    "import matplotlib.pyplot as plt\n",
    "%matplotlib inline\n",
    "\n",
    "list_of_n_components = np.arange(2,15,1)\n",
    "list_of_k_clusters = np.arange(2,15,1)\n",
    "\n",
    "F_X = [[ kmeans_sil_score(fit_trans_pca(n, test_df), k)\n",
    "            for n in list_of_n_components] \n",
    "            for k in list_of_k_clusters]\n",
    "\n",
    "plt.pcolormesh(list_of_n_components, list_of_k_clusters, F_X, cmap='YlOrRd')\n",
    "plt.colorbar() #need a colorbar to show the intensity scale\n",
    "plt.xlabel('n_components')\n",
    "plt.ylabel('k_clusters')\n",
    "plt.figure(figsize=(20,10))"
   ]
  },
  {
   "cell_type": "code",
   "execution_count": null,
   "metadata": {
    "collapsed": true
   },
   "outputs": [],
   "source": []
  }
 ],
 "metadata": {
  "kernelspec": {
   "display_name": "Python [Root]",
   "language": "python",
   "name": "Python [Root]"
  },
  "language_info": {
   "codemirror_mode": {
    "name": "ipython",
    "version": 2
   },
   "file_extension": ".py",
   "mimetype": "text/x-python",
   "name": "python",
   "nbconvert_exporter": "python",
   "pygments_lexer": "ipython2",
   "version": "2.7.12"
  },
  "widgets": {
   "state": {},
   "version": "1.1.2"
  }
 },
 "nbformat": 4,
 "nbformat_minor": 0
}

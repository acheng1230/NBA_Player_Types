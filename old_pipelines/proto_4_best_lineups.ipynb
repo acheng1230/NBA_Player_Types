{
 "cells": [
  {
   "cell_type": "code",
   "execution_count": 1,
   "metadata": {
    "collapsed": true
   },
   "outputs": [],
   "source": [
    "import numpy as np\n",
    "import pandas as pd"
   ]
  },
  {
   "cell_type": "code",
   "execution_count": 2,
   "metadata": {
    "collapsed": true
   },
   "outputs": [],
   "source": [
    "file_loc = \"/Users/alexcheng/Desktop/best_five_combos/step_3_14-17.csv\""
   ]
  },
  {
   "cell_type": "code",
   "execution_count": 3,
   "metadata": {
    "collapsed": false
   },
   "outputs": [
    {
     "data": {
      "text/html": [
       "<div>\n",
       "<table border=\"1\" class=\"dataframe\">\n",
       "  <thead>\n",
       "    <tr style=\"text-align: right;\">\n",
       "      <th></th>\n",
       "      <th>unique_id</th>\n",
       "      <th>GP</th>\n",
       "      <th>MIN</th>\n",
       "      <th>OFFRTG</th>\n",
       "      <th>DEFRTG</th>\n",
       "      <th>NETRTG</th>\n",
       "      <th>AST%</th>\n",
       "      <th>AST/TO</th>\n",
       "      <th>AST RATIO</th>\n",
       "      <th>OREB%</th>\n",
       "      <th>DREB%</th>\n",
       "      <th>REB%</th>\n",
       "      <th>TO RATIO</th>\n",
       "      <th>EFG%</th>\n",
       "      <th>TS%</th>\n",
       "      <th>PACE</th>\n",
       "      <th>PIE</th>\n",
       "    </tr>\n",
       "  </thead>\n",
       "  <tbody>\n",
       "    <tr>\n",
       "      <th>0</th>\n",
       "      <td>10111.001</td>\n",
       "      <td>60</td>\n",
       "      <td>1217</td>\n",
       "      <td>117.8</td>\n",
       "      <td>100.0</td>\n",
       "      <td>17.7</td>\n",
       "      <td>69.2</td>\n",
       "      <td>2.51</td>\n",
       "      <td>21.7</td>\n",
       "      <td>27.1</td>\n",
       "      <td>76.0</td>\n",
       "      <td>52.8</td>\n",
       "      <td>0.1</td>\n",
       "      <td>57.1</td>\n",
       "      <td>59.5</td>\n",
       "      <td>97.03</td>\n",
       "      <td>60.8</td>\n",
       "    </tr>\n",
       "    <tr>\n",
       "      <th>1</th>\n",
       "      <td>20010.020</td>\n",
       "      <td>57</td>\n",
       "      <td>915</td>\n",
       "      <td>109.8</td>\n",
       "      <td>101.6</td>\n",
       "      <td>8.1</td>\n",
       "      <td>72.5</td>\n",
       "      <td>2.01</td>\n",
       "      <td>21.8</td>\n",
       "      <td>21.2</td>\n",
       "      <td>72.6</td>\n",
       "      <td>47.8</td>\n",
       "      <td>0.2</td>\n",
       "      <td>55.4</td>\n",
       "      <td>58.7</td>\n",
       "      <td>96.89</td>\n",
       "      <td>55.7</td>\n",
       "    </tr>\n",
       "    <tr>\n",
       "      <th>2</th>\n",
       "      <td>1001.021</td>\n",
       "      <td>58</td>\n",
       "      <td>813</td>\n",
       "      <td>114.4</td>\n",
       "      <td>94.8</td>\n",
       "      <td>19.6</td>\n",
       "      <td>70.1</td>\n",
       "      <td>2.25</td>\n",
       "      <td>22.3</td>\n",
       "      <td>20.3</td>\n",
       "      <td>77.2</td>\n",
       "      <td>50.3</td>\n",
       "      <td>0.1</td>\n",
       "      <td>58.3</td>\n",
       "      <td>60.3</td>\n",
       "      <td>100.66</td>\n",
       "      <td>60.2</td>\n",
       "    </tr>\n",
       "    <tr>\n",
       "      <th>3</th>\n",
       "      <td>11100.011</td>\n",
       "      <td>32</td>\n",
       "      <td>629</td>\n",
       "      <td>107.8</td>\n",
       "      <td>97.1</td>\n",
       "      <td>10.7</td>\n",
       "      <td>55.8</td>\n",
       "      <td>1.77</td>\n",
       "      <td>16.8</td>\n",
       "      <td>24.9</td>\n",
       "      <td>76.9</td>\n",
       "      <td>52.3</td>\n",
       "      <td>0.1</td>\n",
       "      <td>50.3</td>\n",
       "      <td>54.7</td>\n",
       "      <td>96.13</td>\n",
       "      <td>57.2</td>\n",
       "    </tr>\n",
       "    <tr>\n",
       "      <th>4</th>\n",
       "      <td>10210.001</td>\n",
       "      <td>40</td>\n",
       "      <td>596</td>\n",
       "      <td>106.1</td>\n",
       "      <td>98.7</td>\n",
       "      <td>7.4</td>\n",
       "      <td>64.7</td>\n",
       "      <td>1.86</td>\n",
       "      <td>20.0</td>\n",
       "      <td>21.6</td>\n",
       "      <td>81.7</td>\n",
       "      <td>51.8</td>\n",
       "      <td>0.1</td>\n",
       "      <td>53.5</td>\n",
       "      <td>56.1</td>\n",
       "      <td>96.79</td>\n",
       "      <td>54.1</td>\n",
       "    </tr>\n",
       "  </tbody>\n",
       "</table>\n",
       "</div>"
      ],
      "text/plain": [
       "   unique_id  GP   MIN  OFFRTG  DEFRTG  NETRTG  AST%  AST/TO  AST RATIO  \\\n",
       "0  10111.001  60  1217   117.8   100.0    17.7  69.2    2.51       21.7   \n",
       "1  20010.020  57   915   109.8   101.6     8.1  72.5    2.01       21.8   \n",
       "2   1001.021  58   813   114.4    94.8    19.6  70.1    2.25       22.3   \n",
       "3  11100.011  32   629   107.8    97.1    10.7  55.8    1.77       16.8   \n",
       "4  10210.001  40   596   106.1    98.7     7.4  64.7    1.86       20.0   \n",
       "\n",
       "   OREB%  DREB%  REB%  TO RATIO  EFG%   TS%    PACE   PIE  \n",
       "0   27.1   76.0  52.8       0.1  57.1  59.5   97.03  60.8  \n",
       "1   21.2   72.6  47.8       0.2  55.4  58.7   96.89  55.7  \n",
       "2   20.3   77.2  50.3       0.1  58.3  60.3  100.66  60.2  \n",
       "3   24.9   76.9  52.3       0.1  50.3  54.7   96.13  57.2  \n",
       "4   21.6   81.7  51.8       0.1  53.5  56.1   96.79  54.1  "
      ]
     },
     "execution_count": 3,
     "metadata": {},
     "output_type": "execute_result"
    }
   ],
   "source": [
    "df = pd.read_csv(file_loc)\n",
    "df.head()"
   ]
  },
  {
   "cell_type": "code",
   "execution_count": 4,
   "metadata": {
    "collapsed": false
   },
   "outputs": [
    {
     "data": {
      "text/plain": [
       "(750, 17)"
      ]
     },
     "execution_count": 4,
     "metadata": {},
     "output_type": "execute_result"
    }
   ],
   "source": [
    "df.shape"
   ]
  },
  {
   "cell_type": "code",
   "execution_count": 5,
   "metadata": {
    "collapsed": false
   },
   "outputs": [],
   "source": [
    "df = df.groupby('unique_id').mean()"
   ]
  },
  {
   "cell_type": "code",
   "execution_count": 6,
   "metadata": {
    "collapsed": true
   },
   "outputs": [],
   "source": [
    "df.to_csv('/Users/alexcheng/Desktop/best_five_combos/step_4_14-17.csv')"
   ]
  },
  {
   "cell_type": "code",
   "execution_count": null,
   "metadata": {
    "collapsed": true
   },
   "outputs": [],
   "source": []
  }
 ],
 "metadata": {
  "kernelspec": {
   "display_name": "Python [Root]",
   "language": "python",
   "name": "Python [Root]"
  },
  "language_info": {
   "codemirror_mode": {
    "name": "ipython",
    "version": 2
   },
   "file_extension": ".py",
   "mimetype": "text/x-python",
   "name": "python",
   "nbconvert_exporter": "python",
   "pygments_lexer": "ipython2",
   "version": "2.7.12"
  }
 },
 "nbformat": 4,
 "nbformat_minor": 0
}

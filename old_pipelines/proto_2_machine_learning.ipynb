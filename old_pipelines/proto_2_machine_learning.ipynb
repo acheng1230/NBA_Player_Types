{
 "cells": [
  {
   "cell_type": "markdown",
   "metadata": {},
   "source": [
    "### 1. Load Packages"
   ]
  },
  {
   "cell_type": "code",
   "execution_count": 1,
   "metadata": {
    "collapsed": false
   },
   "outputs": [
    {
     "name": "stderr",
     "output_type": "stream",
     "text": [
      "//anaconda/lib/python2.7/site-packages/matplotlib/__init__.py:878: UserWarning: axes.color_cycle is deprecated and replaced with axes.prop_cycle; please use the latter.\n",
      "  warnings.warn(self.msg_depr % (key, alt_key))\n"
     ]
    }
   ],
   "source": [
    "import pandas as pd\n",
    "import numpy as np\n",
    "import seaborn as sns\n",
    "import matplotlib.pyplot as plt\n",
    "%matplotlib inline\n",
    "\n",
    "from sklearn.preprocessing import StandardScaler\n",
    "from sklearn.decomposition import PCA\n",
    "from sklearn.manifold import TSNE\n",
    "\n",
    "from lib.cluster import kmeans, find_best_cluster, feature_importance, plot_kmeans_cluster"
   ]
  },
  {
   "cell_type": "markdown",
   "metadata": {},
   "source": [
    " "
   ]
  },
  {
   "cell_type": "markdown",
   "metadata": {},
   "source": [
    "### 2. Load Data"
   ]
  },
  {
   "cell_type": "code",
   "execution_count": 2,
   "metadata": {
    "collapsed": false
   },
   "outputs": [
    {
     "data": {
      "text/html": [
       "<div>\n",
       "<table border=\"1\" class=\"dataframe\">\n",
       "  <thead>\n",
       "    <tr style=\"text-align: right;\">\n",
       "      <th></th>\n",
       "      <th>Player</th>\n",
       "      <th>Age</th>\n",
       "      <th>Height</th>\n",
       "      <th>Weight</th>\n",
       "      <th>Pos</th>\n",
       "      <th>MP</th>\n",
       "      <th>FG</th>\n",
       "      <th>FGA</th>\n",
       "      <th>FG%</th>\n",
       "      <th>3P</th>\n",
       "      <th>...</th>\n",
       "      <th>DRB%</th>\n",
       "      <th>TRB%</th>\n",
       "      <th>AST%</th>\n",
       "      <th>STL%</th>\n",
       "      <th>BLK%</th>\n",
       "      <th>TOV%</th>\n",
       "      <th>USG%</th>\n",
       "      <th>OBPM</th>\n",
       "      <th>DPM</th>\n",
       "      <th>BPM</th>\n",
       "    </tr>\n",
       "  </thead>\n",
       "  <tbody>\n",
       "    <tr>\n",
       "      <th>0</th>\n",
       "      <td>aaron brooks</td>\n",
       "      <td>32</td>\n",
       "      <td>73</td>\n",
       "      <td>161</td>\n",
       "      <td>PG</td>\n",
       "      <td>21.9</td>\n",
       "      <td>3.7</td>\n",
       "      <td>9.0</td>\n",
       "      <td>0.413</td>\n",
       "      <td>1.3</td>\n",
       "      <td>...</td>\n",
       "      <td>6.9</td>\n",
       "      <td>4.5</td>\n",
       "      <td>23.8</td>\n",
       "      <td>1.4</td>\n",
       "      <td>0.5</td>\n",
       "      <td>14.4</td>\n",
       "      <td>23.3</td>\n",
       "      <td>0</td>\n",
       "      <td>-2.4</td>\n",
       "      <td>-1.7</td>\n",
       "    </tr>\n",
       "    <tr>\n",
       "      <th>1</th>\n",
       "      <td>aaron gordon</td>\n",
       "      <td>21</td>\n",
       "      <td>81</td>\n",
       "      <td>220</td>\n",
       "      <td>SF</td>\n",
       "      <td>23.2</td>\n",
       "      <td>3.4</td>\n",
       "      <td>7.4</td>\n",
       "      <td>0.451</td>\n",
       "      <td>0.6</td>\n",
       "      <td>...</td>\n",
       "      <td>17.8</td>\n",
       "      <td>12.3</td>\n",
       "      <td>9.8</td>\n",
       "      <td>1.4</td>\n",
       "      <td>2.0</td>\n",
       "      <td>9.6</td>\n",
       "      <td>17.8</td>\n",
       "      <td>0</td>\n",
       "      <td>0.4</td>\n",
       "      <td>-0.2</td>\n",
       "    </tr>\n",
       "    <tr>\n",
       "      <th>2</th>\n",
       "      <td>aaron harrison</td>\n",
       "      <td>22</td>\n",
       "      <td>78</td>\n",
       "      <td>210</td>\n",
       "      <td>SG</td>\n",
       "      <td>4.2</td>\n",
       "      <td>0.2</td>\n",
       "      <td>0.9</td>\n",
       "      <td>0.217</td>\n",
       "      <td>0.1</td>\n",
       "      <td>...</td>\n",
       "      <td>14.0</td>\n",
       "      <td>8.9</td>\n",
       "      <td>6.0</td>\n",
       "      <td>2.7</td>\n",
       "      <td>0.0</td>\n",
       "      <td>12.1</td>\n",
       "      <td>13.6</td>\n",
       "      <td>0</td>\n",
       "      <td>-0.2</td>\n",
       "      <td>-6.4</td>\n",
       "    </tr>\n",
       "    <tr>\n",
       "      <th>3</th>\n",
       "      <td>adreian payne</td>\n",
       "      <td>25</td>\n",
       "      <td>82</td>\n",
       "      <td>237</td>\n",
       "      <td>PF</td>\n",
       "      <td>13.7</td>\n",
       "      <td>1.7</td>\n",
       "      <td>4.2</td>\n",
       "      <td>0.399</td>\n",
       "      <td>0.1</td>\n",
       "      <td>...</td>\n",
       "      <td>19.4</td>\n",
       "      <td>12.8</td>\n",
       "      <td>7.4</td>\n",
       "      <td>1.5</td>\n",
       "      <td>1.5</td>\n",
       "      <td>16.4</td>\n",
       "      <td>17.8</td>\n",
       "      <td>0</td>\n",
       "      <td>-0.8</td>\n",
       "      <td>-5.8</td>\n",
       "    </tr>\n",
       "    <tr>\n",
       "      <th>4</th>\n",
       "      <td>al horford</td>\n",
       "      <td>30</td>\n",
       "      <td>82</td>\n",
       "      <td>245</td>\n",
       "      <td>C</td>\n",
       "      <td>33.4</td>\n",
       "      <td>6.1</td>\n",
       "      <td>11.6</td>\n",
       "      <td>0.529</td>\n",
       "      <td>0.3</td>\n",
       "      <td>...</td>\n",
       "      <td>22.1</td>\n",
       "      <td>15.1</td>\n",
       "      <td>14.7</td>\n",
       "      <td>1.3</td>\n",
       "      <td>2.9</td>\n",
       "      <td>11.1</td>\n",
       "      <td>19.6</td>\n",
       "      <td>0</td>\n",
       "      <td>2.2</td>\n",
       "      <td>3.0</td>\n",
       "    </tr>\n",
       "  </tbody>\n",
       "</table>\n",
       "<p>5 rows × 59 columns</p>\n",
       "</div>"
      ],
      "text/plain": [
       "           Player  Age  Height  Weight Pos    MP   FG   FGA    FG%   3P ...   \\\n",
       "0    aaron brooks   32      73     161  PG  21.9  3.7   9.0  0.413  1.3 ...    \n",
       "1    aaron gordon   21      81     220  SF  23.2  3.4   7.4  0.451  0.6 ...    \n",
       "2  aaron harrison   22      78     210  SG   4.2  0.2   0.9  0.217  0.1 ...    \n",
       "3   adreian payne   25      82     237  PF  13.7  1.7   4.2  0.399  0.1 ...    \n",
       "4      al horford   30      82     245   C  33.4  6.1  11.6  0.529  0.3 ...    \n",
       "\n",
       "   DRB%  TRB%  AST%  STL%  BLK%  TOV%  USG%  OBPM  DPM  BPM  \n",
       "0   6.9   4.5  23.8   1.4   0.5  14.4  23.3     0 -2.4 -1.7  \n",
       "1  17.8  12.3   9.8   1.4   2.0   9.6  17.8     0  0.4 -0.2  \n",
       "2  14.0   8.9   6.0   2.7   0.0  12.1  13.6     0 -0.2 -6.4  \n",
       "3  19.4  12.8   7.4   1.5   1.5  16.4  17.8     0 -0.8 -5.8  \n",
       "4  22.1  15.1  14.7   1.3   2.9  11.1  19.6     0  2.2  3.0  \n",
       "\n",
       "[5 rows x 59 columns]"
      ]
     },
     "execution_count": 2,
     "metadata": {},
     "output_type": "execute_result"
    }
   ],
   "source": [
    "file_loc = \"data/old/player_stats_final.csv\"\n",
    "\n",
    "df = pd.read_csv(file_loc)\n",
    "df.head()"
   ]
  },
  {
   "cell_type": "code",
   "execution_count": 3,
   "metadata": {
    "collapsed": false
   },
   "outputs": [
    {
     "data": {
      "text/plain": [
       "Index([u'Player', u'Age', u'Height', u'Weight', u'Pos', u'MP', u'FG', u'FGA',\n",
       "       u'FG%', u'3P', u'3PA', u'3P%', u'2P', u'2PA', u'2P%', u'eFG%', u'FT',\n",
       "       u'FTA', u'FT%', u'ORB', u'DRB', u'TRB', u'AST', u'STL', u'BLK', u'TOV',\n",
       "       u'Fouls', u'PTS', u'AVG_DIST_FGA', u'%FGA_2P', u'%FGA_0-3ft',\n",
       "       u'%FGA_3-10ft', u'%FGA_10-16ft', u'%FGA_16ft<3', u'%FGA_3P', u'0-3_FG%',\n",
       "       u'3-10_FG%', u'10-16_FG%', u'16<3_FG%', u'%ASTd_2P', u'%FGA_DUNK',\n",
       "       u'%ASTd_3P', u'%_CORNER3PA', u'3P%_CORNER3', u'PER', u'TS%', u'3PAr',\n",
       "       u'FTr', u'ORB%', u'DRB%', u'TRB%', u'AST%', u'STL%', u'BLK%', u'TOV%',\n",
       "       u'USG%', u'OBPM', u'DPM', u'BPM'],\n",
       "      dtype='object')"
      ]
     },
     "execution_count": 3,
     "metadata": {},
     "output_type": "execute_result"
    }
   ],
   "source": [
    "df.columns"
   ]
  },
  {
   "cell_type": "code",
   "execution_count": 4,
   "metadata": {
    "collapsed": false
   },
   "outputs": [],
   "source": [
    "df.drop(['MP', '3PAr'], axis=1, inplace=True)"
   ]
  },
  {
   "cell_type": "code",
   "execution_count": 5,
   "metadata": {
    "collapsed": false
   },
   "outputs": [
    {
     "data": {
      "text/plain": [
       "(453, 57)"
      ]
     },
     "execution_count": 5,
     "metadata": {},
     "output_type": "execute_result"
    }
   ],
   "source": [
    "df.shape"
   ]
  },
  {
   "cell_type": "markdown",
   "metadata": {},
   "source": [
    " "
   ]
  },
  {
   "cell_type": "markdown",
   "metadata": {},
   "source": [
    "### 3. Data Preprocessing\n",
    "\n",
    "#### Scale the data"
   ]
  },
  {
   "cell_type": "code",
   "execution_count": 6,
   "metadata": {
    "collapsed": false
   },
   "outputs": [],
   "source": [
    "X = df.drop(['Player', 'Pos'], axis=1)\n",
    "# y = test_df['Pos']"
   ]
  },
  {
   "cell_type": "code",
   "execution_count": 7,
   "metadata": {
    "collapsed": false
   },
   "outputs": [],
   "source": [
    "scaler = StandardScaler()\n",
    "X_scaled = scaler.fit_transform(X)"
   ]
  },
  {
   "cell_type": "markdown",
   "metadata": {},
   "source": [
    " "
   ]
  },
  {
   "cell_type": "markdown",
   "metadata": {},
   "source": [
    "### 4. Dimensionality Reduction"
   ]
  },
  {
   "cell_type": "markdown",
   "metadata": {},
   "source": [
    "#### t-distributed Stochastic Neighbor Embedding (TSNE)\n",
    "\n",
    "TSNE is a technique for dimensionality reduction that is particularly well suited for the visualization of high-dimensional datasets."
   ]
  },
  {
   "cell_type": "code",
   "execution_count": 8,
   "metadata": {
    "collapsed": true
   },
   "outputs": [],
   "source": [
    "# from sklearn.manifold import TSNE"
   ]
  },
  {
   "cell_type": "code",
   "execution_count": 9,
   "metadata": {
    "collapsed": false
   },
   "outputs": [],
   "source": [
    "# model = TSNE(n_components=2, random_state=0)\n",
    "# np.set_printoptions(suppress=True)\n",
    "\n",
    "# X_tsne = model.fit_transform(X_scaled) "
   ]
  },
  {
   "cell_type": "markdown",
   "metadata": {},
   "source": [
    "#### Principal Component Analysis"
   ]
  },
  {
   "cell_type": "code",
   "execution_count": 10,
   "metadata": {
    "collapsed": false
   },
   "outputs": [
    {
     "name": "stdout",
     "output_type": "stream",
     "text": [
      "Original shape: (453, 55)\n",
      "Reduced shape: (453, 2)\n"
     ]
    }
   ],
   "source": [
    "pca = PCA(n_components=2)\n",
    "pca.fit(X_scaled)\n",
    "\n",
    "X_pca = pca.transform(X_scaled)\n",
    "print(\"Original shape: {}\").format(str(X_scaled.shape))\n",
    "print(\"Reduced shape: {}\").format(str(X_pca.shape))"
   ]
  },
  {
   "cell_type": "code",
   "execution_count": 11,
   "metadata": {
    "collapsed": false
   },
   "outputs": [
    {
     "data": {
      "image/png": "[encoded data removed]",
      "text/plain": [
       "<matplotlib.figure.Figure at 0x11aa8ed90>"
      ]
     },
     "metadata": {},
     "output_type": "display_data"
    }
   ],
   "source": [
    "# Plot Cumulative Explained Variance\n",
    "x = np.arange(1,3)\n",
    "plt.figure(figsize=(10,8))\n",
    "plt.plot(x, np.cumsum(pca.explained_variance_ratio_), '-o', color='black')\n",
    "plt.bar(x, pca.explained_variance_ratio_, align='center', alpha=0.5)\n",
    "\n",
    "plt.ylim(0, 1.05)\n",
    "plt.annotate('Cumulative \\nexplained \\nvariance',\n",
    "             xy=(15,.85), arrowprops=dict(arrowstyle='->'), xytext=(13, .6))\n",
    "\n",
    "for i,j in zip(x, np.cumsum(pca.explained_variance_ratio_)):\n",
    "    plt.annotate(str(j.round(4)),xy=(i+.2,j-.02))\n",
    "\n",
    "plt.xticks(range(1,3))\n",
    "plt.xlabel('PCA components')\n",
    "plt.ylabel('Explained Variance')\n",
    "plt.show()"
   ]
  },
  {
   "cell_type": "markdown",
   "metadata": {},
   "source": [
    " "
   ]
  },
  {
   "cell_type": "markdown",
   "metadata": {
    "collapsed": true
   },
   "source": [
    "### 5. Measuring KMeans Silhouette Score to Find Best Cluster\n",
    "\n",
    "Silhouette analysis can be used to study the separation distance between the resulting clusters. The silhouette plot displays a measure of how close each point in one cluster is to points in the neighboring clusters and thus provides a way to assess parameters like number of clusters visually. This measure has a range of [-1, 1].\n",
    "\n",
    "Silhouette coefficients (as these values are referred to as) near +1 indicate that the sample is far away from the neighboring clusters. A value of 0 indicates that the sample is on or very close to the decision boundary between two neighboring clusters and negative values indicate that those samples might have been assigned to the wrong cluster.\n",
    "\n",
    "Source: http://scikit-learn.org/stable/auto_examples/cluster/plot_kmeans_silhouette_analysis.html"
   ]
  },
  {
   "cell_type": "markdown",
   "metadata": {},
   "source": [
    "#### Number of Clusters"
   ]
  },
  {
   "cell_type": "code",
   "execution_count": 12,
   "metadata": {
    "collapsed": false
   },
   "outputs": [
    {
     "name": "stdout",
     "output_type": "stream",
     "text": [
      "best silhouette score: 0.372774492217\n"
     ]
    },
    {
     "data": {
      "image/png": "[encoded data removed]",
      "text/plain": [
       "<matplotlib.figure.Figure at 0x11aa60390>"
      ]
     },
     "metadata": {},
     "output_type": "display_data"
    }
   ],
   "source": [
    "# this plot measures the silhouette scores of clusters\n",
    "find_best_cluster(X_pca,5,15)"
   ]
  },
  {
   "cell_type": "markdown",
   "metadata": {},
   "source": [
    " "
   ]
  },
  {
   "cell_type": "markdown",
   "metadata": {},
   "source": [
    "### 6. Clustering"
   ]
  },
  {
   "cell_type": "markdown",
   "metadata": {},
   "source": [
    "#### KMeans"
   ]
  },
  {
   "cell_type": "code",
   "execution_count": 14,
   "metadata": {
    "collapsed": false
   },
   "outputs": [],
   "source": [
    "kmeans_PCA = kmeans(X_pca, 10)"
   ]
  },
  {
   "cell_type": "code",
   "execution_count": 16,
   "metadata": {
    "collapsed": false
   },
   "outputs": [
    {
     "data": {
      "image/png": "[encoded data removed]",
      "text/plain": [
       "<matplotlib.figure.Figure at 0x121422dd0>"
      ]
     },
     "metadata": {},
     "output_type": "display_data"
    }
   ],
   "source": [
    "plot_kmeans_cluster(X_pca, k_clusters=10, plot_title=\"\"\"Test Title\"\"\")"
   ]
  },
  {
   "cell_type": "code",
   "execution_count": 17,
   "metadata": {
    "collapsed": false
   },
   "outputs": [
    {
     "name": "stdout",
     "output_type": "stream",
     "text": [
      "PCA silhouette score: 0.372774492217\n"
     ]
    }
   ],
   "source": [
    "print \"PCA silhouette score:\", kmeans_PCA['silhouette_score']"
   ]
  },
  {
   "cell_type": "code",
   "execution_count": 18,
   "metadata": {
    "collapsed": false
   },
   "outputs": [],
   "source": [
    "df['PCA_labels'] = kmeans_PCA['labels']"
   ]
  },
  {
   "cell_type": "code",
   "execution_count": 19,
   "metadata": {
    "collapsed": false
   },
   "outputs": [
    {
     "data": {
      "text/html": [
       "<div>\n",
       "<table border=\"1\" class=\"dataframe\">\n",
       "  <thead>\n",
       "    <tr style=\"text-align: right;\">\n",
       "      <th></th>\n",
       "      <th>Player</th>\n",
       "      <th>Age</th>\n",
       "      <th>Height</th>\n",
       "      <th>Weight</th>\n",
       "      <th>Pos</th>\n",
       "      <th>FG</th>\n",
       "      <th>FGA</th>\n",
       "      <th>FG%</th>\n",
       "      <th>3P</th>\n",
       "      <th>3PA</th>\n",
       "      <th>...</th>\n",
       "      <th>TRB%</th>\n",
       "      <th>AST%</th>\n",
       "      <th>STL%</th>\n",
       "      <th>BLK%</th>\n",
       "      <th>TOV%</th>\n",
       "      <th>USG%</th>\n",
       "      <th>OBPM</th>\n",
       "      <th>DPM</th>\n",
       "      <th>BPM</th>\n",
       "      <th>PCA_labels</th>\n",
       "    </tr>\n",
       "  </thead>\n",
       "  <tbody>\n",
       "    <tr>\n",
       "      <th>0</th>\n",
       "      <td>aaron brooks</td>\n",
       "      <td>32</td>\n",
       "      <td>73</td>\n",
       "      <td>161</td>\n",
       "      <td>PG</td>\n",
       "      <td>3.7</td>\n",
       "      <td>9.0</td>\n",
       "      <td>0.413</td>\n",
       "      <td>1.3</td>\n",
       "      <td>3.6</td>\n",
       "      <td>...</td>\n",
       "      <td>4.5</td>\n",
       "      <td>23.8</td>\n",
       "      <td>1.4</td>\n",
       "      <td>0.5</td>\n",
       "      <td>14.4</td>\n",
       "      <td>23.3</td>\n",
       "      <td>0</td>\n",
       "      <td>-2.4</td>\n",
       "      <td>-1.7</td>\n",
       "      <td>1</td>\n",
       "    </tr>\n",
       "    <tr>\n",
       "      <th>1</th>\n",
       "      <td>aaron gordon</td>\n",
       "      <td>21</td>\n",
       "      <td>81</td>\n",
       "      <td>220</td>\n",
       "      <td>SF</td>\n",
       "      <td>3.4</td>\n",
       "      <td>7.4</td>\n",
       "      <td>0.451</td>\n",
       "      <td>0.6</td>\n",
       "      <td>2.1</td>\n",
       "      <td>...</td>\n",
       "      <td>12.3</td>\n",
       "      <td>9.8</td>\n",
       "      <td>1.4</td>\n",
       "      <td>2.0</td>\n",
       "      <td>9.6</td>\n",
       "      <td>17.8</td>\n",
       "      <td>0</td>\n",
       "      <td>0.4</td>\n",
       "      <td>-0.2</td>\n",
       "      <td>2</td>\n",
       "    </tr>\n",
       "    <tr>\n",
       "      <th>2</th>\n",
       "      <td>aaron harrison</td>\n",
       "      <td>22</td>\n",
       "      <td>78</td>\n",
       "      <td>210</td>\n",
       "      <td>SG</td>\n",
       "      <td>0.2</td>\n",
       "      <td>0.9</td>\n",
       "      <td>0.217</td>\n",
       "      <td>0.1</td>\n",
       "      <td>0.5</td>\n",
       "      <td>...</td>\n",
       "      <td>8.9</td>\n",
       "      <td>6.0</td>\n",
       "      <td>2.7</td>\n",
       "      <td>0.0</td>\n",
       "      <td>12.1</td>\n",
       "      <td>13.6</td>\n",
       "      <td>0</td>\n",
       "      <td>-0.2</td>\n",
       "      <td>-6.4</td>\n",
       "      <td>8</td>\n",
       "    </tr>\n",
       "    <tr>\n",
       "      <th>3</th>\n",
       "      <td>adreian payne</td>\n",
       "      <td>25</td>\n",
       "      <td>82</td>\n",
       "      <td>237</td>\n",
       "      <td>PF</td>\n",
       "      <td>1.7</td>\n",
       "      <td>4.2</td>\n",
       "      <td>0.399</td>\n",
       "      <td>0.1</td>\n",
       "      <td>0.5</td>\n",
       "      <td>...</td>\n",
       "      <td>12.8</td>\n",
       "      <td>7.4</td>\n",
       "      <td>1.5</td>\n",
       "      <td>1.5</td>\n",
       "      <td>16.4</td>\n",
       "      <td>17.8</td>\n",
       "      <td>0</td>\n",
       "      <td>-0.8</td>\n",
       "      <td>-5.8</td>\n",
       "      <td>3</td>\n",
       "    </tr>\n",
       "    <tr>\n",
       "      <th>4</th>\n",
       "      <td>al horford</td>\n",
       "      <td>30</td>\n",
       "      <td>82</td>\n",
       "      <td>245</td>\n",
       "      <td>C</td>\n",
       "      <td>6.1</td>\n",
       "      <td>11.6</td>\n",
       "      <td>0.529</td>\n",
       "      <td>0.3</td>\n",
       "      <td>0.8</td>\n",
       "      <td>...</td>\n",
       "      <td>15.1</td>\n",
       "      <td>14.7</td>\n",
       "      <td>1.3</td>\n",
       "      <td>2.9</td>\n",
       "      <td>11.1</td>\n",
       "      <td>19.6</td>\n",
       "      <td>0</td>\n",
       "      <td>2.2</td>\n",
       "      <td>3.0</td>\n",
       "      <td>5</td>\n",
       "    </tr>\n",
       "  </tbody>\n",
       "</table>\n",
       "<p>5 rows × 58 columns</p>\n",
       "</div>"
      ],
      "text/plain": [
       "           Player  Age  Height  Weight Pos   FG   FGA    FG%   3P  3PA  \\\n",
       "0    aaron brooks   32      73     161  PG  3.7   9.0  0.413  1.3  3.6   \n",
       "1    aaron gordon   21      81     220  SF  3.4   7.4  0.451  0.6  2.1   \n",
       "2  aaron harrison   22      78     210  SG  0.2   0.9  0.217  0.1  0.5   \n",
       "3   adreian payne   25      82     237  PF  1.7   4.2  0.399  0.1  0.5   \n",
       "4      al horford   30      82     245   C  6.1  11.6  0.529  0.3  0.8   \n",
       "\n",
       "      ...      TRB%  AST%  STL%  BLK%  TOV%  USG%  OBPM  DPM  BPM  PCA_labels  \n",
       "0     ...       4.5  23.8   1.4   0.5  14.4  23.3     0 -2.4 -1.7           1  \n",
       "1     ...      12.3   9.8   1.4   2.0   9.6  17.8     0  0.4 -0.2           2  \n",
       "2     ...       8.9   6.0   2.7   0.0  12.1  13.6     0 -0.2 -6.4           8  \n",
       "3     ...      12.8   7.4   1.5   1.5  16.4  17.8     0 -0.8 -5.8           3  \n",
       "4     ...      15.1  14.7   1.3   2.9  11.1  19.6     0  2.2  3.0           5  \n",
       "\n",
       "[5 rows x 58 columns]"
      ]
     },
     "execution_count": 19,
     "metadata": {},
     "output_type": "execute_result"
    }
   ],
   "source": [
    "df.head()"
   ]
  },
  {
   "cell_type": "code",
   "execution_count": 54,
   "metadata": {
    "collapsed": false
   },
   "outputs": [
    {
     "data": {
      "text/html": [
       "<div>\n",
       "<table border=\"1\" class=\"dataframe\">\n",
       "  <thead>\n",
       "    <tr style=\"text-align: right;\">\n",
       "      <th></th>\n",
       "      <th>Player</th>\n",
       "    </tr>\n",
       "  </thead>\n",
       "  <tbody>\n",
       "    <tr>\n",
       "      <th>4</th>\n",
       "      <td>al horford</td>\n",
       "    </tr>\n",
       "    <tr>\n",
       "      <th>5</th>\n",
       "      <td>al jefferson</td>\n",
       "    </tr>\n",
       "    <tr>\n",
       "      <th>26</th>\n",
       "      <td>anthony davis</td>\n",
       "    </tr>\n",
       "    <tr>\n",
       "      <th>38</th>\n",
       "      <td>blake griffin</td>\n",
       "    </tr>\n",
       "    <tr>\n",
       "      <th>51</th>\n",
       "      <td>brook lopez</td>\n",
       "    </tr>\n",
       "    <tr>\n",
       "      <th>88</th>\n",
       "      <td>david lee</td>\n",
       "    </tr>\n",
       "    <tr>\n",
       "      <th>89</th>\n",
       "      <td>david west</td>\n",
       "    </tr>\n",
       "    <tr>\n",
       "      <th>95</th>\n",
       "      <td>demarcus cousins</td>\n",
       "    </tr>\n",
       "    <tr>\n",
       "      <th>102</th>\n",
       "      <td>derrick favors</td>\n",
       "    </tr>\n",
       "    <tr>\n",
       "      <th>118</th>\n",
       "      <td>dwight howard</td>\n",
       "    </tr>\n",
       "    <tr>\n",
       "      <th>141</th>\n",
       "      <td>giannis antetokounmpo</td>\n",
       "    </tr>\n",
       "    <tr>\n",
       "      <th>145</th>\n",
       "      <td>greg monroe</td>\n",
       "    </tr>\n",
       "    <tr>\n",
       "      <th>164</th>\n",
       "      <td>jahlil okafor</td>\n",
       "    </tr>\n",
       "    <tr>\n",
       "      <th>199</th>\n",
       "      <td>joel embiid</td>\n",
       "    </tr>\n",
       "    <tr>\n",
       "      <th>220</th>\n",
       "      <td>julius randle</td>\n",
       "    </tr>\n",
       "    <tr>\n",
       "      <th>226</th>\n",
       "      <td>karl-anthony towns</td>\n",
       "    </tr>\n",
       "    <tr>\n",
       "      <th>235</th>\n",
       "      <td>kevin love</td>\n",
       "    </tr>\n",
       "    <tr>\n",
       "      <th>242</th>\n",
       "      <td>kristaps porzingis</td>\n",
       "    </tr>\n",
       "    <tr>\n",
       "      <th>250</th>\n",
       "      <td>lamarcus aldridge</td>\n",
       "    </tr>\n",
       "    <tr>\n",
       "      <th>269</th>\n",
       "      <td>marc gasol</td>\n",
       "    </tr>\n",
       "  </tbody>\n",
       "</table>\n",
       "</div>"
      ],
      "text/plain": [
       "                    Player\n",
       "4               al horford\n",
       "5             al jefferson\n",
       "26           anthony davis\n",
       "38           blake griffin\n",
       "51             brook lopez\n",
       "88               david lee\n",
       "89              david west\n",
       "95        demarcus cousins\n",
       "102         derrick favors\n",
       "118          dwight howard\n",
       "141  giannis antetokounmpo\n",
       "145            greg monroe\n",
       "164          jahlil okafor\n",
       "199            joel embiid\n",
       "220          julius randle\n",
       "226     karl-anthony towns\n",
       "235             kevin love\n",
       "242     kristaps porzingis\n",
       "250      lamarcus aldridge\n",
       "269             marc gasol"
      ]
     },
     "execution_count": 54,
     "metadata": {},
     "output_type": "execute_result"
    }
   ],
   "source": [
    "mask = (df['PCA_labels'] == 5)\n",
    "\n",
    "df[mask][['Player']].head(20)"
   ]
  },
  {
   "cell_type": "code",
   "execution_count": 55,
   "metadata": {
    "collapsed": false
   },
   "outputs": [
    {
     "data": {
      "text/html": [
       "<div>\n",
       "<table border=\"1\" class=\"dataframe\">\n",
       "  <thead>\n",
       "    <tr style=\"text-align: right;\">\n",
       "      <th></th>\n",
       "      <th>Feature</th>\n",
       "      <th>Importance</th>\n",
       "      <th>Cluster Average</th>\n",
       "      <th>League Average</th>\n",
       "    </tr>\n",
       "  </thead>\n",
       "  <tbody>\n",
       "    <tr>\n",
       "      <th>27</th>\n",
       "      <td>%FGA_0-3ft</td>\n",
       "      <td>0.171000</td>\n",
       "      <td>0.383071</td>\n",
       "      <td>0.326980</td>\n",
       "    </tr>\n",
       "    <tr>\n",
       "      <th>26</th>\n",
       "      <td>%FGA_2P</td>\n",
       "      <td>0.152103</td>\n",
       "      <td>0.931857</td>\n",
       "      <td>0.729865</td>\n",
       "    </tr>\n",
       "    <tr>\n",
       "      <th>5</th>\n",
       "      <td>FG%</td>\n",
       "      <td>0.091556</td>\n",
       "      <td>0.502000</td>\n",
       "      <td>0.452949</td>\n",
       "    </tr>\n",
       "    <tr>\n",
       "      <th>48</th>\n",
       "      <td>STL%</td>\n",
       "      <td>0.088792</td>\n",
       "      <td>1.489286</td>\n",
       "      <td>1.592715</td>\n",
       "    </tr>\n",
       "    <tr>\n",
       "      <th>37</th>\n",
       "      <td>%FGA_DUNK</td>\n",
       "      <td>0.083220</td>\n",
       "      <td>0.088893</td>\n",
       "      <td>0.065433</td>\n",
       "    </tr>\n",
       "    <tr>\n",
       "      <th>50</th>\n",
       "      <td>TOV%</td>\n",
       "      <td>0.081011</td>\n",
       "      <td>12.517857</td>\n",
       "      <td>13.125166</td>\n",
       "    </tr>\n",
       "    <tr>\n",
       "      <th>11</th>\n",
       "      <td>2P%</td>\n",
       "      <td>0.047679</td>\n",
       "      <td>0.513643</td>\n",
       "      <td>0.484724</td>\n",
       "    </tr>\n",
       "    <tr>\n",
       "      <th>20</th>\n",
       "      <td>STL</td>\n",
       "      <td>0.045436</td>\n",
       "      <td>0.892857</td>\n",
       "      <td>0.675497</td>\n",
       "    </tr>\n",
       "    <tr>\n",
       "      <th>36</th>\n",
       "      <td>%ASTd_2P</td>\n",
       "      <td>0.039026</td>\n",
       "      <td>0.598536</td>\n",
       "      <td>0.529898</td>\n",
       "    </tr>\n",
       "    <tr>\n",
       "      <th>53</th>\n",
       "      <td>DPM</td>\n",
       "      <td>0.029519</td>\n",
       "      <td>1.428571</td>\n",
       "      <td>-0.218543</td>\n",
       "    </tr>\n",
       "  </tbody>\n",
       "</table>\n",
       "</div>"
      ],
      "text/plain": [
       "       Feature  Importance  Cluster Average  League Average\n",
       "27  %FGA_0-3ft    0.171000         0.383071        0.326980\n",
       "26     %FGA_2P    0.152103         0.931857        0.729865\n",
       "5          FG%    0.091556         0.502000        0.452949\n",
       "48        STL%    0.088792         1.489286        1.592715\n",
       "37   %FGA_DUNK    0.083220         0.088893        0.065433\n",
       "50        TOV%    0.081011        12.517857       13.125166\n",
       "11         2P%    0.047679         0.513643        0.484724\n",
       "20         STL    0.045436         0.892857        0.675497\n",
       "36    %ASTd_2P    0.039026         0.598536        0.529898\n",
       "53         DPM    0.029519         1.428571       -0.218543"
      ]
     },
     "execution_count": 55,
     "metadata": {},
     "output_type": "execute_result"
    }
   ],
   "source": [
    "cluster_data = df[mask].drop(['Player', 'Pos', 'PCA_labels'], axis=1)\n",
    "league_data = df.drop(['Player', 'Pos', 'PCA_labels'], axis=1)\n",
    "feature_importance(cluster_data, league_data)"
   ]
  },
  {
   "cell_type": "markdown",
   "metadata": {
    "collapsed": true
   },
   "source": [
    "- PCA_0: Backup Guards\n",
    "- PCA_1: Backup Centers\n",
    "- PCA_2: Shooting Wings\n",
    "- PCA_3: Playmaking Guards\n",
    "- PCA_4: Interior Finishers\n",
    "- PCA_5: Offensive Forwards\n",
    "- PCA_6: Backup Forwards\n",
    "- PCA_7: Defensive Centers\n",
    "- PCA_8: Offensive Wings\n",
    "- PCA_9: Defensive Wings\n"
   ]
  },
  {
   "cell_type": "code",
   "execution_count": null,
   "metadata": {
    "collapsed": true
   },
   "outputs": [],
   "source": []
  },
  {
   "cell_type": "code",
   "execution_count": null,
   "metadata": {
    "collapsed": true
   },
   "outputs": [],
   "source": []
  },
  {
   "cell_type": "code",
   "execution_count": null,
   "metadata": {
    "collapsed": true
   },
   "outputs": [],
   "source": []
  },
  {
   "cell_type": "code",
   "execution_count": null,
   "metadata": {
    "collapsed": true
   },
   "outputs": [],
   "source": []
  },
  {
   "cell_type": "code",
   "execution_count": null,
   "metadata": {
    "collapsed": true
   },
   "outputs": [],
   "source": []
  },
  {
   "cell_type": "code",
   "execution_count": null,
   "metadata": {
    "collapsed": true
   },
   "outputs": [],
   "source": []
  }
 ],
 "metadata": {
  "anaconda-cloud": {},
  "kernelspec": {
   "display_name": "Python [Root]",
   "language": "python",
   "name": "Python [Root]"
  },
  "language_info": {
   "codemirror_mode": {
    "name": "ipython",
    "version": 2
   },
   "file_extension": ".py",
   "mimetype": "text/x-python",
   "name": "python",
   "nbconvert_exporter": "python",
   "pygments_lexer": "ipython2",
   "version": "2.7.12"
  }
 },
 "nbformat": 4,
 "nbformat_minor": 0
}

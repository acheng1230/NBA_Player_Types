{
 "cells": [
  {
   "cell_type": "markdown",
   "metadata": {},
   "source": [
    "### Import Packages"
   ]
  },
  {
   "cell_type": "code",
   "execution_count": 1,
   "metadata": {
    "collapsed": false
   },
   "outputs": [
    {
     "name": "stderr",
     "output_type": "stream",
     "text": [
      "//anaconda/lib/python2.7/site-packages/matplotlib/__init__.py:878: UserWarning: axes.color_cycle is deprecated and replaced with axes.prop_cycle; please use the latter.\n",
      "  warnings.warn(self.msg_depr % (key, alt_key))\n"
     ]
    }
   ],
   "source": [
    "import os\n",
    "import re\n",
    "import glob\n",
    "import numpy as np\n",
    "import pandas as pd\n",
    "import seaborn as sns\n",
    "import matplotlib.pyplot as plt\n",
    "%matplotlib inline\n",
    "\n",
    "from sklearn.manifold import TSNE\n",
    "from sklearn.cluster import KMeans\n",
    "from sklearn.decomposition import PCA\n",
    "from sklearn.preprocessing import StandardScaler\n",
    "\n",
    "from lib import renders as rs\n",
    "from lib.cluster import kmeans, find_best_cluster, feature_importance, plot_kmeans_cluster"
   ]
  },
  {
   "cell_type": "markdown",
   "metadata": {},
   "source": [
    " "
   ]
  },
  {
   "cell_type": "markdown",
   "metadata": {},
   "source": [
    "### Import Data"
   ]
  },
  {
   "cell_type": "code",
   "execution_count": 2,
   "metadata": {
    "collapsed": true
   },
   "outputs": [],
   "source": [
    "file_loc = \"/Users/alexcheng/Desktop/stats_14-17_100.csv\""
   ]
  },
  {
   "cell_type": "code",
   "execution_count": 3,
   "metadata": {
    "collapsed": false
   },
   "outputs": [
    {
     "data": {
      "text/html": [
       "<div>\n",
       "<table border=\"1\" class=\"dataframe\">\n",
       "  <thead>\n",
       "    <tr style=\"text-align: right;\">\n",
       "      <th></th>\n",
       "      <th>Unnamed: 0</th>\n",
       "      <th>Status</th>\n",
       "      <th>Player</th>\n",
       "      <th>Pos</th>\n",
       "      <th>Player_ID</th>\n",
       "      <th>url</th>\n",
       "      <th>G</th>\n",
       "      <th>MP</th>\n",
       "      <th>PER</th>\n",
       "      <th>TS%</th>\n",
       "      <th>...</th>\n",
       "      <th>DRB_100</th>\n",
       "      <th>TRB_100</th>\n",
       "      <th>AST_100</th>\n",
       "      <th>STL_100</th>\n",
       "      <th>BLK_100</th>\n",
       "      <th>TOV_100</th>\n",
       "      <th>PF_100</th>\n",
       "      <th>PTS_100</th>\n",
       "      <th>ORtg</th>\n",
       "      <th>DRtg</th>\n",
       "    </tr>\n",
       "  </thead>\n",
       "  <tbody>\n",
       "    <tr>\n",
       "      <th>0</th>\n",
       "      <td>0</td>\n",
       "      <td>Inactive</td>\n",
       "      <td>A.J. Price</td>\n",
       "      <td>PG</td>\n",
       "      <td>priceaj01</td>\n",
       "      <td>file:///Users/alexcheng/Downloads/us.sitesucke...</td>\n",
       "      <td>261</td>\n",
       "      <td>3929</td>\n",
       "      <td>12.2</td>\n",
       "      <td>0.486</td>\n",
       "      <td>...</td>\n",
       "      <td>4.0</td>\n",
       "      <td>4.9</td>\n",
       "      <td>7.4</td>\n",
       "      <td>1.6</td>\n",
       "      <td>0.1</td>\n",
       "      <td>3.0</td>\n",
       "      <td>3.1</td>\n",
       "      <td>19.8</td>\n",
       "      <td>100</td>\n",
       "      <td>108</td>\n",
       "    </tr>\n",
       "    <tr>\n",
       "      <th>1</th>\n",
       "      <td>1</td>\n",
       "      <td>Active</td>\n",
       "      <td>Aaron Brooks</td>\n",
       "      <td>PG</td>\n",
       "      <td>brookaa01</td>\n",
       "      <td>file:///Users/alexcheng/Downloads/us.sitesucke...</td>\n",
       "      <td>594</td>\n",
       "      <td>13016</td>\n",
       "      <td>13.5</td>\n",
       "      <td>0.525</td>\n",
       "      <td>...</td>\n",
       "      <td>3.2</td>\n",
       "      <td>4.1</td>\n",
       "      <td>7.4</td>\n",
       "      <td>1.4</td>\n",
       "      <td>0.3</td>\n",
       "      <td>3.8</td>\n",
       "      <td>4.6</td>\n",
       "      <td>24.0</td>\n",
       "      <td>104</td>\n",
       "      <td>110</td>\n",
       "    </tr>\n",
       "    <tr>\n",
       "      <th>2</th>\n",
       "      <td>2</td>\n",
       "      <td>Active</td>\n",
       "      <td>Aaron Gordon</td>\n",
       "      <td>SF</td>\n",
       "      <td>gordoaa01</td>\n",
       "      <td>file:///Users/alexcheng/Downloads/us.sitesucke...</td>\n",
       "      <td>182</td>\n",
       "      <td>4238</td>\n",
       "      <td>14.3</td>\n",
       "      <td>0.522</td>\n",
       "      <td>...</td>\n",
       "      <td>7.9</td>\n",
       "      <td>11.2</td>\n",
       "      <td>3.2</td>\n",
       "      <td>1.4</td>\n",
       "      <td>1.2</td>\n",
       "      <td>2.0</td>\n",
       "      <td>4.2</td>\n",
       "      <td>18.9</td>\n",
       "      <td>107</td>\n",
       "      <td>108</td>\n",
       "    </tr>\n",
       "    <tr>\n",
       "      <th>3</th>\n",
       "      <td>3</td>\n",
       "      <td>Active</td>\n",
       "      <td>Aaron Harrison</td>\n",
       "      <td>SG</td>\n",
       "      <td>harriaa01</td>\n",
       "      <td>file:///Users/alexcheng/Downloads/us.sitesucke...</td>\n",
       "      <td>26</td>\n",
       "      <td>110</td>\n",
       "      <td>3.3</td>\n",
       "      <td>0.326</td>\n",
       "      <td>...</td>\n",
       "      <td>6.4</td>\n",
       "      <td>8.2</td>\n",
       "      <td>2.3</td>\n",
       "      <td>2.7</td>\n",
       "      <td>0.0</td>\n",
       "      <td>1.8</td>\n",
       "      <td>5.5</td>\n",
       "      <td>8.7</td>\n",
       "      <td>73</td>\n",
       "      <td>104</td>\n",
       "    </tr>\n",
       "    <tr>\n",
       "      <th>4</th>\n",
       "      <td>4</td>\n",
       "      <td>Active</td>\n",
       "      <td>Adreian Payne</td>\n",
       "      <td>PF</td>\n",
       "      <td>paynead01</td>\n",
       "      <td>file:///Users/alexcheng/Downloads/us.sitesucke...</td>\n",
       "      <td>96</td>\n",
       "      <td>1317</td>\n",
       "      <td>7.4</td>\n",
       "      <td>0.444</td>\n",
       "      <td>...</td>\n",
       "      <td>8.4</td>\n",
       "      <td>11.3</td>\n",
       "      <td>2.4</td>\n",
       "      <td>1.5</td>\n",
       "      <td>0.9</td>\n",
       "      <td>3.3</td>\n",
       "      <td>7.2</td>\n",
       "      <td>15.1</td>\n",
       "      <td>87</td>\n",
       "      <td>110</td>\n",
       "    </tr>\n",
       "  </tbody>\n",
       "</table>\n",
       "<p>5 rows × 65 columns</p>\n",
       "</div>"
      ],
      "text/plain": [
       "   Unnamed: 0    Status          Player Pos  Player_ID  \\\n",
       "0           0  Inactive      A.J. Price  PG  priceaj01   \n",
       "1           1    Active    Aaron Brooks  PG  brookaa01   \n",
       "2           2    Active    Aaron Gordon  SF  gordoaa01   \n",
       "3           3    Active  Aaron Harrison  SG  harriaa01   \n",
       "4           4    Active   Adreian Payne  PF  paynead01   \n",
       "\n",
       "                                                 url    G     MP   PER    TS%  \\\n",
       "0  file:///Users/alexcheng/Downloads/us.sitesucke...  261   3929  12.2  0.486   \n",
       "1  file:///Users/alexcheng/Downloads/us.sitesucke...  594  13016  13.5  0.525   \n",
       "2  file:///Users/alexcheng/Downloads/us.sitesucke...  182   4238  14.3  0.522   \n",
       "3  file:///Users/alexcheng/Downloads/us.sitesucke...   26    110   3.3  0.326   \n",
       "4  file:///Users/alexcheng/Downloads/us.sitesucke...   96   1317   7.4  0.444   \n",
       "\n",
       "   ...   DRB_100  TRB_100  AST_100  STL_100  BLK_100  TOV_100  PF_100  \\\n",
       "0  ...       4.0      4.9      7.4      1.6      0.1      3.0     3.1   \n",
       "1  ...       3.2      4.1      7.4      1.4      0.3      3.8     4.6   \n",
       "2  ...       7.9     11.2      3.2      1.4      1.2      2.0     4.2   \n",
       "3  ...       6.4      8.2      2.3      2.7      0.0      1.8     5.5   \n",
       "4  ...       8.4     11.3      2.4      1.5      0.9      3.3     7.2   \n",
       "\n",
       "   PTS_100  ORtg  DRtg  \n",
       "0     19.8   100   108  \n",
       "1     24.0   104   110  \n",
       "2     18.9   107   108  \n",
       "3      8.7    73   104  \n",
       "4     15.1    87   110  \n",
       "\n",
       "[5 rows x 65 columns]"
      ]
     },
     "execution_count": 3,
     "metadata": {},
     "output_type": "execute_result"
    }
   ],
   "source": [
    "data = pd.read_csv(file_loc)\n",
    "data.head()"
   ]
  },
  {
   "cell_type": "code",
   "execution_count": 4,
   "metadata": {
    "collapsed": false
   },
   "outputs": [
    {
     "data": {
      "text/plain": [
       "Index([u'Unnamed: 0', u'Status', u'Player', u'Pos', u'Player_ID', u'url', u'G',\n",
       "       u'MP', u'PER', u'TS%', u'3PAr', u'FTr', u'ORB%', u'DRB%', u'TRB%',\n",
       "       u'AST%', u'STL%', u'BLK%', u'TOV%', u'USG%', u'OBPM', u'DPM', u'BPM',\n",
       "       u'FG%', u'AVG_DIST_FGA', u'%FGA_2P', u'%FGA_0-3ft', u'%FGA_3-10ft',\n",
       "       u'%FGA_10-16ft', u'%FGA_16ft<3', u'%FGA_3P', u'2P%', u'0-3_FG%',\n",
       "       u'3-10_FG%', u'10-16_FG%', u'16<3_FG%', u'3P%', u'%ASTd_2P',\n",
       "       u'%FGA_DUNK', u'%ASTd_3P', u'%_CORNER3PA', u'3P%_CORNER3', u'FG_100',\n",
       "       u'FGA_100', u'FG%_100', u'3P_100', u'3PA_100', u'3P%_100', u'2P_100',\n",
       "       u'2PA_100', u'2P%_100', u'FT_100', u'FTA_100', u'FT%_100', u'ORB_100',\n",
       "       u'DRB_100', u'TRB_100', u'AST_100', u'STL_100', u'BLK_100', u'TOV_100',\n",
       "       u'PF_100', u'PTS_100', u'ORtg', u'DRtg'],\n",
       "      dtype='object')"
      ]
     },
     "execution_count": 4,
     "metadata": {},
     "output_type": "execute_result"
    }
   ],
   "source": [
    "data.columns"
   ]
  },
  {
   "cell_type": "markdown",
   "metadata": {},
   "source": [
    " "
   ]
  },
  {
   "cell_type": "markdown",
   "metadata": {},
   "source": [
    "### Data Cleaning"
   ]
  },
  {
   "cell_type": "code",
   "execution_count": 5,
   "metadata": {
    "collapsed": false
   },
   "outputs": [],
   "source": [
    "# Drop unwanted columns\n",
    "data = data.drop(['Unnamed: 0', 'MP', '3PAr'], axis=1)"
   ]
  },
  {
   "cell_type": "code",
   "execution_count": 8,
   "metadata": {
    "collapsed": false
   },
   "outputs": [],
   "source": [
    "# Filter out players who have played less than 20 games\n",
    "data = data[data['G']>40]"
   ]
  },
  {
   "cell_type": "code",
   "execution_count": 9,
   "metadata": {
    "collapsed": false
   },
   "outputs": [
    {
     "data": {
      "text/plain": [
       "(547, 62)"
      ]
     },
     "execution_count": 9,
     "metadata": {},
     "output_type": "execute_result"
    }
   ],
   "source": [
    "data.shape"
   ]
  },
  {
   "cell_type": "markdown",
   "metadata": {},
   "source": [
    " "
   ]
  },
  {
   "cell_type": "markdown",
   "metadata": {},
   "source": [
    "### Data Preprocessing"
   ]
  },
  {
   "cell_type": "code",
   "execution_count": 10,
   "metadata": {
    "collapsed": false
   },
   "outputs": [],
   "source": [
    "X = data.drop(['Player', 'Pos', 'G', 'Player_ID','url', 'Status'], axis=1)\n",
    "y = data['Pos']"
   ]
  },
  {
   "cell_type": "code",
   "execution_count": 11,
   "metadata": {
    "collapsed": false
   },
   "outputs": [],
   "source": [
    "# Scale the data\n",
    "scaler = StandardScaler()\n",
    "X_scaled = scaler.fit_transform(X)"
   ]
  },
  {
   "cell_type": "markdown",
   "metadata": {},
   "source": [
    " "
   ]
  },
  {
   "cell_type": "markdown",
   "metadata": {},
   "source": [
    "### Dimensionality Reduction with t-SNE"
   ]
  },
  {
   "cell_type": "code",
   "execution_count": 12,
   "metadata": {
    "collapsed": true
   },
   "outputs": [],
   "source": [
    "model = TSNE(n_components=2, random_state=0)\n",
    "#np.set_printoptions(suppress=True)\n",
    "\n",
    "X_tsne = model.fit_transform(X_scaled)"
   ]
  },
  {
   "cell_type": "markdown",
   "metadata": {},
   "source": [
    " "
   ]
  },
  {
   "cell_type": "markdown",
   "metadata": {},
   "source": [
    "### Find Best Cluster for KMeans Clustering"
   ]
  },
  {
   "cell_type": "code",
   "execution_count": 13,
   "metadata": {
    "collapsed": false
   },
   "outputs": [
    {
     "name": "stdout",
     "output_type": "stream",
     "text": [
      "best silhouette score: 0.428192080982\n"
     ]
    },
    {
     "data": {
      "image/png": "[encoded data removed]",
      "text/plain": [
       "<matplotlib.figure.Figure at 0x11a294a10>"
      ]
     },
     "metadata": {},
     "output_type": "display_data"
    }
   ],
   "source": [
    "find_best_cluster(X_tsne,5,20)"
   ]
  },
  {
   "cell_type": "markdown",
   "metadata": {},
   "source": [
    " "
   ]
  },
  {
   "cell_type": "markdown",
   "metadata": {},
   "source": [
    "### KMeans Clustering"
   ]
  },
  {
   "cell_type": "code",
   "execution_count": 14,
   "metadata": {
    "collapsed": false
   },
   "outputs": [],
   "source": [
    "kmeans = kmeans(X_tsne, 10)"
   ]
  },
  {
   "cell_type": "code",
   "execution_count": 15,
   "metadata": {
    "collapsed": false
   },
   "outputs": [
    {
     "name": "stdout",
     "output_type": "stream",
     "text": [
      "silhouette score: 0.422101454045\n"
     ]
    },
    {
     "name": "stderr",
     "output_type": "stream",
     "text": [
      "/anaconda/lib/python2.7/site-packages/ipykernel/__main__.py:2: SettingWithCopyWarning: \n",
      "A value is trying to be set on a copy of a slice from a DataFrame.\n",
      "Try using .loc[row_indexer,col_indexer] = value instead\n",
      "\n",
      "See the caveats in the documentation: http://pandas.pydata.org/pandas-docs/stable/indexing.html#indexing-view-versus-copy\n",
      "  from ipykernel import kernelapp as app\n"
     ]
    }
   ],
   "source": [
    "# Assign labels\n",
    "data['Cluster'] = kmeans['labels']\n",
    "\n",
    "# Print silhouette score\n",
    "print \"silhouette score:\", kmeans['silhouette_score']"
   ]
  },
  {
   "cell_type": "markdown",
   "metadata": {},
   "source": [
    "#### Visualize the Scatter Plot"
   ]
  },
  {
   "cell_type": "code",
   "execution_count": 16,
   "metadata": {
    "collapsed": false
   },
   "outputs": [
    {
     "data": {
      "image/png": "[encoded data removed]",
      "text/plain": [
       "<matplotlib.figure.Figure at 0x11e8ed950>"
      ]
     },
     "metadata": {},
     "output_type": "display_data"
    }
   ],
   "source": [
    "# Target labels\n",
    "y = kmeans['labels']\n",
    "df = pd.DataFrame({'X1':X_tsne[:,0],'X2':X_tsne[:,1], 'labels':y})\n",
    "\n",
    "# Graph with Seaborn\n",
    "sns.set_context(\"poster\", font_scale=1)\n",
    "graph = sns.lmplot('X1', 'X2', data=df, fit_reg=False, hue=\"labels\", size=10, palette=\"deep\", markers='s')"
   ]
  },
  {
   "cell_type": "code",
   "execution_count": 17,
   "metadata": {
    "collapsed": false
   },
   "outputs": [
    {
     "data": {
      "image/png": "[encoded data removed]",
      "text/plain": [
       "<matplotlib.figure.Figure at 0x11e8ed250>"
      ]
     },
     "metadata": {},
     "output_type": "display_data"
    }
   ],
   "source": [
    "plot_kmeans_cluster(X_tsne, k_clusters=10, plot_title=\"\"\"KMeans Clustering with TSNE-reduced Data\"\"\")"
   ]
  },
  {
   "cell_type": "markdown",
   "metadata": {},
   "source": [
    "#### Investigate Clusters"
   ]
  },
  {
   "cell_type": "code",
   "execution_count": 18,
   "metadata": {
    "collapsed": false
   },
   "outputs": [
    {
     "data": {
      "text/html": [
       "<div>\n",
       "<table border=\"1\" class=\"dataframe\">\n",
       "  <thead>\n",
       "    <tr style=\"text-align: right;\">\n",
       "      <th></th>\n",
       "      <th>Status</th>\n",
       "      <th>Player</th>\n",
       "      <th>Pos</th>\n",
       "      <th>Player_ID</th>\n",
       "      <th>url</th>\n",
       "      <th>G</th>\n",
       "      <th>PER</th>\n",
       "      <th>TS%</th>\n",
       "      <th>FTr</th>\n",
       "      <th>ORB%</th>\n",
       "      <th>...</th>\n",
       "      <th>TRB_100</th>\n",
       "      <th>AST_100</th>\n",
       "      <th>STL_100</th>\n",
       "      <th>BLK_100</th>\n",
       "      <th>TOV_100</th>\n",
       "      <th>PF_100</th>\n",
       "      <th>PTS_100</th>\n",
       "      <th>ORtg</th>\n",
       "      <th>DRtg</th>\n",
       "      <th>Cluster</th>\n",
       "    </tr>\n",
       "  </thead>\n",
       "  <tbody>\n",
       "    <tr>\n",
       "      <th>0</th>\n",
       "      <td>Inactive</td>\n",
       "      <td>A.J. Price</td>\n",
       "      <td>PG</td>\n",
       "      <td>priceaj01</td>\n",
       "      <td>file:///Users/alexcheng/Downloads/us.sitesucke...</td>\n",
       "      <td>261</td>\n",
       "      <td>12.2</td>\n",
       "      <td>0.486</td>\n",
       "      <td>0.193</td>\n",
       "      <td>1.9</td>\n",
       "      <td>...</td>\n",
       "      <td>4.9</td>\n",
       "      <td>7.4</td>\n",
       "      <td>1.6</td>\n",
       "      <td>0.1</td>\n",
       "      <td>3.0</td>\n",
       "      <td>3.1</td>\n",
       "      <td>19.8</td>\n",
       "      <td>100</td>\n",
       "      <td>108</td>\n",
       "      <td>4</td>\n",
       "    </tr>\n",
       "    <tr>\n",
       "      <th>1</th>\n",
       "      <td>Active</td>\n",
       "      <td>Aaron Brooks</td>\n",
       "      <td>PG</td>\n",
       "      <td>brookaa01</td>\n",
       "      <td>file:///Users/alexcheng/Downloads/us.sitesucke...</td>\n",
       "      <td>594</td>\n",
       "      <td>13.5</td>\n",
       "      <td>0.525</td>\n",
       "      <td>0.201</td>\n",
       "      <td>2.1</td>\n",
       "      <td>...</td>\n",
       "      <td>4.1</td>\n",
       "      <td>7.4</td>\n",
       "      <td>1.4</td>\n",
       "      <td>0.3</td>\n",
       "      <td>3.8</td>\n",
       "      <td>4.6</td>\n",
       "      <td>24.0</td>\n",
       "      <td>104</td>\n",
       "      <td>110</td>\n",
       "      <td>4</td>\n",
       "    </tr>\n",
       "    <tr>\n",
       "      <th>2</th>\n",
       "      <td>Active</td>\n",
       "      <td>Aaron Gordon</td>\n",
       "      <td>SF</td>\n",
       "      <td>gordoaa01</td>\n",
       "      <td>file:///Users/alexcheng/Downloads/us.sitesucke...</td>\n",
       "      <td>182</td>\n",
       "      <td>14.3</td>\n",
       "      <td>0.522</td>\n",
       "      <td>0.290</td>\n",
       "      <td>7.1</td>\n",
       "      <td>...</td>\n",
       "      <td>11.2</td>\n",
       "      <td>3.2</td>\n",
       "      <td>1.4</td>\n",
       "      <td>1.2</td>\n",
       "      <td>2.0</td>\n",
       "      <td>4.2</td>\n",
       "      <td>18.9</td>\n",
       "      <td>107</td>\n",
       "      <td>108</td>\n",
       "      <td>9</td>\n",
       "    </tr>\n",
       "    <tr>\n",
       "      <th>4</th>\n",
       "      <td>Active</td>\n",
       "      <td>Adreian Payne</td>\n",
       "      <td>PF</td>\n",
       "      <td>paynead01</td>\n",
       "      <td>file:///Users/alexcheng/Downloads/us.sitesucke...</td>\n",
       "      <td>96</td>\n",
       "      <td>7.4</td>\n",
       "      <td>0.444</td>\n",
       "      <td>0.215</td>\n",
       "      <td>6.4</td>\n",
       "      <td>...</td>\n",
       "      <td>11.3</td>\n",
       "      <td>2.4</td>\n",
       "      <td>1.5</td>\n",
       "      <td>0.9</td>\n",
       "      <td>3.3</td>\n",
       "      <td>7.2</td>\n",
       "      <td>15.1</td>\n",
       "      <td>87</td>\n",
       "      <td>110</td>\n",
       "      <td>9</td>\n",
       "    </tr>\n",
       "    <tr>\n",
       "      <th>5</th>\n",
       "      <td>Active</td>\n",
       "      <td>Al Horford</td>\n",
       "      <td>C</td>\n",
       "      <td>horfoal01</td>\n",
       "      <td>file:///Users/alexcheng/Downloads/us.sitesucke...</td>\n",
       "      <td>623</td>\n",
       "      <td>19.0</td>\n",
       "      <td>0.568</td>\n",
       "      <td>0.216</td>\n",
       "      <td>8.0</td>\n",
       "      <td>...</td>\n",
       "      <td>13.6</td>\n",
       "      <td>4.5</td>\n",
       "      <td>1.3</td>\n",
       "      <td>1.9</td>\n",
       "      <td>2.5</td>\n",
       "      <td>3.7</td>\n",
       "      <td>22.3</td>\n",
       "      <td>114</td>\n",
       "      <td>104</td>\n",
       "      <td>8</td>\n",
       "    </tr>\n",
       "  </tbody>\n",
       "</table>\n",
       "<p>5 rows × 63 columns</p>\n",
       "</div>"
      ],
      "text/plain": [
       "     Status         Player Pos  Player_ID  \\\n",
       "0  Inactive     A.J. Price  PG  priceaj01   \n",
       "1    Active   Aaron Brooks  PG  brookaa01   \n",
       "2    Active   Aaron Gordon  SF  gordoaa01   \n",
       "4    Active  Adreian Payne  PF  paynead01   \n",
       "5    Active     Al Horford   C  horfoal01   \n",
       "\n",
       "                                                 url    G   PER    TS%    FTr  \\\n",
       "0  file:///Users/alexcheng/Downloads/us.sitesucke...  261  12.2  0.486  0.193   \n",
       "1  file:///Users/alexcheng/Downloads/us.sitesucke...  594  13.5  0.525  0.201   \n",
       "2  file:///Users/alexcheng/Downloads/us.sitesucke...  182  14.3  0.522  0.290   \n",
       "4  file:///Users/alexcheng/Downloads/us.sitesucke...   96   7.4  0.444  0.215   \n",
       "5  file:///Users/alexcheng/Downloads/us.sitesucke...  623  19.0  0.568  0.216   \n",
       "\n",
       "   ORB%   ...     TRB_100  AST_100  STL_100  BLK_100  TOV_100  PF_100  \\\n",
       "0   1.9   ...         4.9      7.4      1.6      0.1      3.0     3.1   \n",
       "1   2.1   ...         4.1      7.4      1.4      0.3      3.8     4.6   \n",
       "2   7.1   ...        11.2      3.2      1.4      1.2      2.0     4.2   \n",
       "4   6.4   ...        11.3      2.4      1.5      0.9      3.3     7.2   \n",
       "5   8.0   ...        13.6      4.5      1.3      1.9      2.5     3.7   \n",
       "\n",
       "   PTS_100  ORtg  DRtg  Cluster  \n",
       "0     19.8   100   108        4  \n",
       "1     24.0   104   110        4  \n",
       "2     18.9   107   108        9  \n",
       "4     15.1    87   110        9  \n",
       "5     22.3   114   104        8  \n",
       "\n",
       "[5 rows x 63 columns]"
      ]
     },
     "execution_count": 18,
     "metadata": {},
     "output_type": "execute_result"
    }
   ],
   "source": [
    "data.head()"
   ]
  },
  {
   "cell_type": "code",
   "execution_count": 19,
   "metadata": {
    "collapsed": false
   },
   "outputs": [
    {
     "data": {
      "text/plain": [
       "array([4, 9, 8, 0, 6, 3, 1, 5, 2, 7])"
      ]
     },
     "execution_count": 19,
     "metadata": {},
     "output_type": "execute_result"
    }
   ],
   "source": [
    "data['Cluster'].unique()"
   ]
  },
  {
   "cell_type": "code",
   "execution_count": 24,
   "metadata": {
    "collapsed": false
   },
   "outputs": [
    {
     "data": {
      "text/html": [
       "<div>\n",
       "<table border=\"1\" class=\"dataframe\">\n",
       "  <thead>\n",
       "    <tr style=\"text-align: right;\">\n",
       "      <th></th>\n",
       "      <th>Player</th>\n",
       "    </tr>\n",
       "  </thead>\n",
       "  <tbody>\n",
       "    <tr>\n",
       "      <th>23</th>\n",
       "      <td>Andre Drummond</td>\n",
       "    </tr>\n",
       "    <tr>\n",
       "      <th>29</th>\n",
       "      <td>Andrew Bogut</td>\n",
       "    </tr>\n",
       "    <tr>\n",
       "      <th>50</th>\n",
       "      <td>Bernard James</td>\n",
       "    </tr>\n",
       "    <tr>\n",
       "      <th>51</th>\n",
       "      <td>Bismack Biyombo</td>\n",
       "    </tr>\n",
       "    <tr>\n",
       "      <th>53</th>\n",
       "      <td>Boban Marjanovic</td>\n",
       "    </tr>\n",
       "    <tr>\n",
       "      <th>59</th>\n",
       "      <td>Brandan Wright</td>\n",
       "    </tr>\n",
       "    <tr>\n",
       "      <th>67</th>\n",
       "      <td>Brendan Haywood</td>\n",
       "    </tr>\n",
       "    <tr>\n",
       "      <th>95</th>\n",
       "      <td>Chris Andersen</td>\n",
       "    </tr>\n",
       "    <tr>\n",
       "      <th>104</th>\n",
       "      <td>Chuck Hayes</td>\n",
       "    </tr>\n",
       "    <tr>\n",
       "      <th>107</th>\n",
       "      <td>Clint Capela</td>\n",
       "    </tr>\n",
       "    <tr>\n",
       "      <th>109</th>\n",
       "      <td>Cole Aldrich</td>\n",
       "    </tr>\n",
       "    <tr>\n",
       "      <th>115</th>\n",
       "      <td>Cristiano Felicio</td>\n",
       "    </tr>\n",
       "    <tr>\n",
       "      <th>141</th>\n",
       "      <td>DeAndre Jordan</td>\n",
       "    </tr>\n",
       "    <tr>\n",
       "      <th>145</th>\n",
       "      <td>DeJuan Blair</td>\n",
       "    </tr>\n",
       "    <tr>\n",
       "      <th>161</th>\n",
       "      <td>Dewayne Dedmon</td>\n",
       "    </tr>\n",
       "    <tr>\n",
       "      <th>177</th>\n",
       "      <td>Dwight Howard</td>\n",
       "    </tr>\n",
       "    <tr>\n",
       "      <th>183</th>\n",
       "      <td>Ed Davis</td>\n",
       "    </tr>\n",
       "    <tr>\n",
       "      <th>184</th>\n",
       "      <td>Ekpe Udoh</td>\n",
       "    </tr>\n",
       "    <tr>\n",
       "      <th>198</th>\n",
       "      <td>Festus Ezeli</td>\n",
       "    </tr>\n",
       "    <tr>\n",
       "      <th>202</th>\n",
       "      <td>Furkan Aldemir</td>\n",
       "    </tr>\n",
       "  </tbody>\n",
       "</table>\n",
       "</div>"
      ],
      "text/plain": [
       "                Player\n",
       "23      Andre Drummond\n",
       "29        Andrew Bogut\n",
       "50       Bernard James\n",
       "51     Bismack Biyombo\n",
       "53    Boban Marjanovic\n",
       "59      Brandan Wright\n",
       "67     Brendan Haywood\n",
       "95      Chris Andersen\n",
       "104        Chuck Hayes\n",
       "107       Clint Capela\n",
       "109       Cole Aldrich\n",
       "115  Cristiano Felicio\n",
       "141     DeAndre Jordan\n",
       "145       DeJuan Blair\n",
       "161     Dewayne Dedmon\n",
       "177      Dwight Howard\n",
       "183           Ed Davis\n",
       "184          Ekpe Udoh\n",
       "198       Festus Ezeli\n",
       "202     Furkan Aldemir"
      ]
     },
     "execution_count": 24,
     "metadata": {},
     "output_type": "execute_result"
    }
   ],
   "source": [
    "mask = (data['Cluster'] == 1)\n",
    "data[mask][['Player']].head(20)"
   ]
  },
  {
   "cell_type": "markdown",
   "metadata": {},
   "source": [
    " "
   ]
  },
  {
   "cell_type": "markdown",
   "metadata": {},
   "source": [
    "### Feature Importance for each Cluster"
   ]
  },
  {
   "cell_type": "code",
   "execution_count": 25,
   "metadata": {
    "collapsed": false
   },
   "outputs": [
    {
     "data": {
      "text/html": [
       "<div>\n",
       "<table border=\"1\" class=\"dataframe\">\n",
       "  <thead>\n",
       "    <tr style=\"text-align: right;\">\n",
       "      <th></th>\n",
       "      <th>Feature</th>\n",
       "      <th>Importance</th>\n",
       "      <th>Cluster Average</th>\n",
       "      <th>League Average</th>\n",
       "    </tr>\n",
       "  </thead>\n",
       "  <tbody>\n",
       "    <tr>\n",
       "      <th>0</th>\n",
       "      <td>PER</td>\n",
       "      <td>0.251130</td>\n",
       "      <td>15.511940</td>\n",
       "      <td>13.921755</td>\n",
       "    </tr>\n",
       "    <tr>\n",
       "      <th>1</th>\n",
       "      <td>FG%</td>\n",
       "      <td>0.212606</td>\n",
       "      <td>0.530627</td>\n",
       "      <td>0.454477</td>\n",
       "    </tr>\n",
       "    <tr>\n",
       "      <th>2</th>\n",
       "      <td>FG%_100</td>\n",
       "      <td>0.212527</td>\n",
       "      <td>0.530582</td>\n",
       "      <td>0.454481</td>\n",
       "    </tr>\n",
       "    <tr>\n",
       "      <th>3</th>\n",
       "      <td>2P%</td>\n",
       "      <td>0.207154</td>\n",
       "      <td>0.533179</td>\n",
       "      <td>0.485967</td>\n",
       "    </tr>\n",
       "    <tr>\n",
       "      <th>4</th>\n",
       "      <td>2P%_100</td>\n",
       "      <td>0.207100</td>\n",
       "      <td>0.533149</td>\n",
       "      <td>0.485951</td>\n",
       "    </tr>\n",
       "    <tr>\n",
       "      <th>5</th>\n",
       "      <td>FTA_100</td>\n",
       "      <td>0.201265</td>\n",
       "      <td>5.522388</td>\n",
       "      <td>4.613163</td>\n",
       "    </tr>\n",
       "    <tr>\n",
       "      <th>6</th>\n",
       "      <td>TRB%</td>\n",
       "      <td>0.198031</td>\n",
       "      <td>16.535821</td>\n",
       "      <td>10.219744</td>\n",
       "    </tr>\n",
       "    <tr>\n",
       "      <th>7</th>\n",
       "      <td>TS%</td>\n",
       "      <td>0.196767</td>\n",
       "      <td>0.556836</td>\n",
       "      <td>0.533362</td>\n",
       "    </tr>\n",
       "    <tr>\n",
       "      <th>8</th>\n",
       "      <td>PTS_100</td>\n",
       "      <td>0.195377</td>\n",
       "      <td>17.158209</td>\n",
       "      <td>19.872212</td>\n",
       "    </tr>\n",
       "    <tr>\n",
       "      <th>9</th>\n",
       "      <td>TRB_100</td>\n",
       "      <td>0.193657</td>\n",
       "      <td>14.991045</td>\n",
       "      <td>9.228519</td>\n",
       "    </tr>\n",
       "  </tbody>\n",
       "</table>\n",
       "</div>"
      ],
      "text/plain": [
       "   Feature  Importance  Cluster Average  League Average\n",
       "0      PER    0.251130        15.511940       13.921755\n",
       "1      FG%    0.212606         0.530627        0.454477\n",
       "2  FG%_100    0.212527         0.530582        0.454481\n",
       "3      2P%    0.207154         0.533179        0.485967\n",
       "4  2P%_100    0.207100         0.533149        0.485951\n",
       "5  FTA_100    0.201265         5.522388        4.613163\n",
       "6     TRB%    0.198031        16.535821       10.219744\n",
       "7      TS%    0.196767         0.556836        0.533362\n",
       "8  PTS_100    0.195377        17.158209       19.872212\n",
       "9  TRB_100    0.193657        14.991045        9.228519"
      ]
     },
     "execution_count": 25,
     "metadata": {},
     "output_type": "execute_result"
    }
   ],
   "source": [
    "cluster_data = data[mask].drop(['Player', 'Pos', 'Cluster', 'url', 'Player_ID', 'Status'], axis=1)\n",
    "league_data = data.drop(['Player', 'Pos', 'Cluster', 'url', 'Player_ID', 'Status'], axis=1)\n",
    "\n",
    "feature_importance(cluster_data, league_data).reset_index().drop('index', axis=1)"
   ]
  },
  {
   "cell_type": "markdown",
   "metadata": {},
   "source": [
    " "
   ]
  },
  {
   "cell_type": "markdown",
   "metadata": {},
   "source": [
    "### Cluster Descriptions\n",
    "- Cluster 0: \n",
    "- Cluster 1:\n",
    "- Cluster 2: \n",
    "- Cluster 3:\n",
    "- Cluster 4:\n",
    "- Cluster 5:\n",
    "- Cluster 6:\n",
    "- Cluster 7: "
   ]
  },
  {
   "cell_type": "code",
   "execution_count": null,
   "metadata": {
    "collapsed": true
   },
   "outputs": [],
   "source": []
  }
 ],
 "metadata": {
  "anaconda-cloud": {},
  "kernelspec": {
   "display_name": "Python [Root]",
   "language": "python",
   "name": "Python [Root]"
  },
  "language_info": {
   "codemirror_mode": {
    "name": "ipython",
    "version": 2
   },
   "file_extension": ".py",
   "mimetype": "text/x-python",
   "name": "python",
   "nbconvert_exporter": "python",
   "pygments_lexer": "ipython2",
   "version": "2.7.12"
  }
 },
 "nbformat": 4,
 "nbformat_minor": 0
}

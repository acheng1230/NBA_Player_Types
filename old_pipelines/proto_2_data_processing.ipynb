{
 "cells": [
  {
   "cell_type": "markdown",
   "metadata": {},
   "source": [
    "### Import Packages"
   ]
  },
  {
   "cell_type": "code",
   "execution_count": 1,
   "metadata": {
    "collapsed": false
   },
   "outputs": [
    {
     "name": "stderr",
     "output_type": "stream",
     "text": [
      "//anaconda/lib/python2.7/site-packages/matplotlib/__init__.py:878: UserWarning: axes.color_cycle is deprecated and replaced with axes.prop_cycle; please use the latter.\n",
      "  warnings.warn(self.msg_depr % (key, alt_key))\n"
     ]
    }
   ],
   "source": [
    "import re\n",
    "import glob\n",
    "import numpy as np\n",
    "import pandas as pd\n",
    "import seaborn as sns\n",
    "import matplotlib.pyplot as plt\n",
    "%matplotlib inline\n",
    "\n",
    "from sklearn.manifold import TSNE\n",
    "from sklearn.cluster import KMeans\n",
    "from sklearn.decomposition import PCA\n",
    "from sklearn.preprocessing import StandardScaler\n",
    "from sklearn.discriminant_analysis import LinearDiscriminantAnalysis\n",
    "\n",
    "from lib import renders as rs\n",
    "from lib.cluster import kmeans, find_best_cluster, feature_importance, plot_kmeans_cluster"
   ]
  },
  {
   "cell_type": "markdown",
   "metadata": {},
   "source": [
    " "
   ]
  },
  {
   "cell_type": "markdown",
   "metadata": {},
   "source": [
    "### Import Data"
   ]
  },
  {
   "cell_type": "code",
   "execution_count": 2,
   "metadata": {
    "collapsed": true
   },
   "outputs": [],
   "source": [
    "file_loc = \"data/2016-2017.csv\""
   ]
  },
  {
   "cell_type": "code",
   "execution_count": 3,
   "metadata": {
    "collapsed": false
   },
   "outputs": [
    {
     "data": {
      "text/html": [
       "<div>\n",
       "<table border=\"1\" class=\"dataframe\">\n",
       "  <thead>\n",
       "    <tr style=\"text-align: right;\">\n",
       "      <th></th>\n",
       "      <th>Season</th>\n",
       "      <th>Player</th>\n",
       "      <th>Pos</th>\n",
       "      <th>Player_ID</th>\n",
       "      <th>Age</th>\n",
       "      <th>G</th>\n",
       "      <th>MP</th>\n",
       "      <th>PER</th>\n",
       "      <th>TS%</th>\n",
       "      <th>3PAr</th>\n",
       "      <th>...</th>\n",
       "      <th>16&lt;3_FG%</th>\n",
       "      <th>3P%</th>\n",
       "      <th>%ASTd_2P</th>\n",
       "      <th>%FGA_DUNK</th>\n",
       "      <th>DUNKS</th>\n",
       "      <th>%ASTd_3P</th>\n",
       "      <th>%_CORNER3PA</th>\n",
       "      <th>3P%_CORNER3</th>\n",
       "      <th>HEAVE_ATT</th>\n",
       "      <th>HEAVE_MD</th>\n",
       "    </tr>\n",
       "  </thead>\n",
       "  <tbody>\n",
       "    <tr>\n",
       "      <th>0</th>\n",
       "      <td>2016-17</td>\n",
       "      <td>A.J. Hammons</td>\n",
       "      <td>C</td>\n",
       "      <td>hammoaj01</td>\n",
       "      <td>24</td>\n",
       "      <td>17.0</td>\n",
       "      <td>77.0</td>\n",
       "      <td>9.7</td>\n",
       "      <td>0.455</td>\n",
       "      <td>0.273</td>\n",
       "      <td>...</td>\n",
       "      <td>0.500</td>\n",
       "      <td>0.667</td>\n",
       "      <td>0.800</td>\n",
       "      <td>0.091</td>\n",
       "      <td>2</td>\n",
       "      <td>1.000</td>\n",
       "      <td>0.167</td>\n",
       "      <td>0.000</td>\n",
       "      <td>0</td>\n",
       "      <td>0</td>\n",
       "    </tr>\n",
       "    <tr>\n",
       "      <th>1</th>\n",
       "      <td>2016-17</td>\n",
       "      <td>Aaron Brooks</td>\n",
       "      <td>PG</td>\n",
       "      <td>brookaa01</td>\n",
       "      <td>32</td>\n",
       "      <td>46.0</td>\n",
       "      <td>660.0</td>\n",
       "      <td>10.3</td>\n",
       "      <td>0.505</td>\n",
       "      <td>0.447</td>\n",
       "      <td>...</td>\n",
       "      <td>0.375</td>\n",
       "      <td>0.337</td>\n",
       "      <td>0.103</td>\n",
       "      <td>0.000</td>\n",
       "      <td>0</td>\n",
       "      <td>0.529</td>\n",
       "      <td>0.119</td>\n",
       "      <td>0.417</td>\n",
       "      <td>5</td>\n",
       "      <td>1</td>\n",
       "    </tr>\n",
       "    <tr>\n",
       "      <th>2</th>\n",
       "      <td>2016-17</td>\n",
       "      <td>Aaron Gordon</td>\n",
       "      <td>SF</td>\n",
       "      <td>gordoaa01</td>\n",
       "      <td>21</td>\n",
       "      <td>56.0</td>\n",
       "      <td>1548.0</td>\n",
       "      <td>12.5</td>\n",
       "      <td>0.503</td>\n",
       "      <td>0.342</td>\n",
       "      <td>...</td>\n",
       "      <td>0.299</td>\n",
       "      <td>0.289</td>\n",
       "      <td>0.457</td>\n",
       "      <td>0.086</td>\n",
       "      <td>46</td>\n",
       "      <td>0.875</td>\n",
       "      <td>0.273</td>\n",
       "      <td>0.264</td>\n",
       "      <td>2</td>\n",
       "      <td>0</td>\n",
       "    </tr>\n",
       "    <tr>\n",
       "      <th>3</th>\n",
       "      <td>2016-17</td>\n",
       "      <td>Aaron Harrison</td>\n",
       "      <td>SG</td>\n",
       "      <td>harriaa01</td>\n",
       "      <td>22</td>\n",
       "      <td>5.0</td>\n",
       "      <td>17.0</td>\n",
       "      <td>-2.1</td>\n",
       "      <td>0.102</td>\n",
       "      <td>0.500</td>\n",
       "      <td>...</td>\n",
       "      <td>0.000</td>\n",
       "      <td>0.000</td>\n",
       "      <td>0.000</td>\n",
       "      <td>0.000</td>\n",
       "      <td>0</td>\n",
       "      <td>0.000</td>\n",
       "      <td>0.500</td>\n",
       "      <td>0.000</td>\n",
       "      <td>0</td>\n",
       "      <td>0</td>\n",
       "    </tr>\n",
       "    <tr>\n",
       "      <th>4</th>\n",
       "      <td>2016-17</td>\n",
       "      <td>Adreian Payne</td>\n",
       "      <td>PF</td>\n",
       "      <td>paynead01</td>\n",
       "      <td>25</td>\n",
       "      <td>12.0</td>\n",
       "      <td>92.0</td>\n",
       "      <td>14.3</td>\n",
       "      <td>0.526</td>\n",
       "      <td>0.256</td>\n",
       "      <td>...</td>\n",
       "      <td>0.500</td>\n",
       "      <td>0.200</td>\n",
       "      <td>0.733</td>\n",
       "      <td>0.051</td>\n",
       "      <td>2</td>\n",
       "      <td>1.000</td>\n",
       "      <td>0.100</td>\n",
       "      <td>0.000</td>\n",
       "      <td>0</td>\n",
       "      <td>0</td>\n",
       "    </tr>\n",
       "  </tbody>\n",
       "</table>\n",
       "<p>5 rows × 52 columns</p>\n",
       "</div>"
      ],
      "text/plain": [
       "    Season          Player Pos  Player_ID  Age     G      MP   PER    TS%  \\\n",
       "0  2016-17    A.J. Hammons   C  hammoaj01   24  17.0    77.0   9.7  0.455   \n",
       "1  2016-17    Aaron Brooks  PG  brookaa01   32  46.0   660.0  10.3  0.505   \n",
       "2  2016-17    Aaron Gordon  SF  gordoaa01   21  56.0  1548.0  12.5  0.503   \n",
       "3  2016-17  Aaron Harrison  SG  harriaa01   22   5.0    17.0  -2.1  0.102   \n",
       "4  2016-17   Adreian Payne  PF  paynead01   25  12.0    92.0  14.3  0.526   \n",
       "\n",
       "    3PAr    ...     16<3_FG%    3P%  %ASTd_2P  %FGA_DUNK  DUNKS  %ASTd_3P  \\\n",
       "0  0.273    ...        0.500  0.667     0.800      0.091      2     1.000   \n",
       "1  0.447    ...        0.375  0.337     0.103      0.000      0     0.529   \n",
       "2  0.342    ...        0.299  0.289     0.457      0.086     46     0.875   \n",
       "3  0.500    ...        0.000  0.000     0.000      0.000      0     0.000   \n",
       "4  0.256    ...        0.500  0.200     0.733      0.051      2     1.000   \n",
       "\n",
       "   %_CORNER3PA  3P%_CORNER3  HEAVE_ATT  HEAVE_MD  \n",
       "0        0.167        0.000          0         0  \n",
       "1        0.119        0.417          5         1  \n",
       "2        0.273        0.264          2         0  \n",
       "3        0.500        0.000          0         0  \n",
       "4        0.100        0.000          0         0  \n",
       "\n",
       "[5 rows x 52 columns]"
      ]
     },
     "execution_count": 3,
     "metadata": {},
     "output_type": "execute_result"
    }
   ],
   "source": [
    "data = pd.read_csv(file_loc)\n",
    "data.head()"
   ]
  },
  {
   "cell_type": "code",
   "execution_count": 4,
   "metadata": {
    "collapsed": false
   },
   "outputs": [
    {
     "data": {
      "text/plain": [
       "Index([u'Season', u'Player', u'Pos', u'Player_ID', u'Age', u'G', u'MP', u'PER',\n",
       "       u'TS%', u'3PAr', u'FTr', u'ORB%', u'DRB%', u'TRB%', u'AST%', u'STL%',\n",
       "       u'BLK%', u'TOV%', u'USG%', u'OWS', u'DWS', u'WS', u'WS/48', u'OBPM',\n",
       "       u'DBPM', u'BPM', u'VORP', u'url', u'Games', u'Min_Played', u'FG%',\n",
       "       u'AVG_DIST_FGA', u'%FGA_2P', u'%FGA_0-3ft', u'%FGA_3-10ft',\n",
       "       u'%FGA_10-16ft', u'%FGA_16ft<3', u'%FGA_3P', u'2P%', u'0-3_FG%',\n",
       "       u'3-10_FG%', u'10-16_FG%', u'16<3_FG%', u'3P%', u'%ASTd_2P',\n",
       "       u'%FGA_DUNK', u'DUNKS', u'%ASTd_3P', u'%_CORNER3PA', u'3P%_CORNER3',\n",
       "       u'HEAVE_ATT', u'HEAVE_MD'],\n",
       "      dtype='object')"
      ]
     },
     "execution_count": 4,
     "metadata": {},
     "output_type": "execute_result"
    }
   ],
   "source": [
    "data.columns"
   ]
  },
  {
   "cell_type": "markdown",
   "metadata": {},
   "source": [
    " "
   ]
  },
  {
   "cell_type": "markdown",
   "metadata": {},
   "source": [
    "### Data Cleaning"
   ]
  },
  {
   "cell_type": "code",
   "execution_count": 5,
   "metadata": {
    "collapsed": false
   },
   "outputs": [],
   "source": [
    "# Drop unwanted columns\n",
    "data.drop(['Player_ID', 'MP', 'url', 'Games', 'Age', \n",
    "           'Min_Played', 'DUNKS', 'HEAVE_ATT', \n",
    "           'HEAVE_MD', '3PAr'], \n",
    "           axis=1, inplace=True)"
   ]
  },
  {
   "cell_type": "code",
   "execution_count": 6,
   "metadata": {
    "collapsed": false
   },
   "outputs": [],
   "source": [
    "# Filter out players who have played less than 20 games\n",
    "data = data[data['G']>20]"
   ]
  },
  {
   "cell_type": "code",
   "execution_count": 7,
   "metadata": {
    "collapsed": false
   },
   "outputs": [
    {
     "data": {
      "text/plain": [
       "(377, 42)"
      ]
     },
     "execution_count": 7,
     "metadata": {},
     "output_type": "execute_result"
    }
   ],
   "source": [
    "data.shape"
   ]
  },
  {
   "cell_type": "markdown",
   "metadata": {},
   "source": [
    " "
   ]
  },
  {
   "cell_type": "markdown",
   "metadata": {},
   "source": [
    "### Data Preprocessing"
   ]
  },
  {
   "cell_type": "code",
   "execution_count": 8,
   "metadata": {
    "collapsed": true
   },
   "outputs": [],
   "source": [
    "X = data.drop(['Player', 'Pos', 'Season', 'G'], axis=1)\n",
    "y = data['Pos']"
   ]
  },
  {
   "cell_type": "code",
   "execution_count": 9,
   "metadata": {
    "collapsed": false
   },
   "outputs": [],
   "source": [
    "# Scale the data\n",
    "scaler = StandardScaler()\n",
    "X_scaled = scaler.fit_transform(X)"
   ]
  },
  {
   "cell_type": "markdown",
   "metadata": {},
   "source": [
    " "
   ]
  },
  {
   "cell_type": "markdown",
   "metadata": {},
   "source": [
    "### Dimensionality Reduction with t-SNE"
   ]
  },
  {
   "cell_type": "code",
   "execution_count": 10,
   "metadata": {
    "collapsed": true
   },
   "outputs": [],
   "source": [
    "# model = TSNE(n_components=2, random_state=0)\n",
    "# #np.set_printoptions(suppress=True)\n",
    "\n",
    "# X_tsne = model.fit_transform(X_scaled)"
   ]
  },
  {
   "cell_type": "markdown",
   "metadata": {},
   "source": [
    " "
   ]
  },
  {
   "cell_type": "markdown",
   "metadata": {},
   "source": [
    "### Dimensionality Reduction with PCA"
   ]
  },
  {
   "cell_type": "code",
   "execution_count": 11,
   "metadata": {
    "collapsed": false
   },
   "outputs": [
    {
     "name": "stdout",
     "output_type": "stream",
     "text": [
      "('Cumulative Explained Variance:', 0.58511237326150956)\n"
     ]
    }
   ],
   "source": [
    "pca = PCA(n_components=3)\n",
    "pca.fit(X_scaled)\n",
    "\n",
    "X_pca = pca.transform(X_scaled)\n",
    "print(\"Cumulative Explained Variance:\", pca.explained_variance_ratio_.sum())"
   ]
  },
  {
   "cell_type": "markdown",
   "metadata": {},
   "source": [
    " "
   ]
  },
  {
   "cell_type": "markdown",
   "metadata": {},
   "source": [
    "### Dimensionality Reduction with LDA, RDA, QDA"
   ]
  },
  {
   "cell_type": "code",
   "execution_count": 12,
   "metadata": {
    "collapsed": false
   },
   "outputs": [],
   "source": [
    "LDA = LinearDiscriminantAnalysis(n_components=2, shrinkage='auto', solver='eigen')"
   ]
  },
  {
   "cell_type": "code",
   "execution_count": 13,
   "metadata": {
    "collapsed": false
   },
   "outputs": [],
   "source": [
    "LDA_reduced_df = LDA.fit(X_scaled,y).transform(X_scaled)"
   ]
  },
  {
   "cell_type": "code",
   "execution_count": 14,
   "metadata": {
    "collapsed": false
   },
   "outputs": [
    {
     "data": {
      "text/plain": [
       "0.66843501326259946"
      ]
     },
     "execution_count": 14,
     "metadata": {},
     "output_type": "execute_result"
    }
   ],
   "source": [
    "LDA.score(X_scaled,y)"
   ]
  },
  {
   "cell_type": "code",
   "execution_count": 15,
   "metadata": {
    "collapsed": false
   },
   "outputs": [
    {
     "name": "stdout",
     "output_type": "stream",
     "text": [
      "('Cumulative Explained Variance:', 0.42493428556450041)\n"
     ]
    }
   ],
   "source": [
    "print(\"Cumulative Explained Variance:\", LDA.explained_variance_ratio_.sum())"
   ]
  },
  {
   "cell_type": "markdown",
   "metadata": {},
   "source": [
    " "
   ]
  },
  {
   "cell_type": "markdown",
   "metadata": {},
   "source": [
    "### Find Best Cluster for KMeans Clustering"
   ]
  },
  {
   "cell_type": "code",
   "execution_count": 25,
   "metadata": {
    "collapsed": false
   },
   "outputs": [
    {
     "name": "stdout",
     "output_type": "stream",
     "text": [
      "best silhouette score: 0.388468403716\n"
     ]
    },
    {
     "data": {
      "image/png": "[encoded data removed]",
      "text/plain": [
       "<matplotlib.figure.Figure at 0x1217c8e50>"
      ]
     },
     "metadata": {},
     "output_type": "display_data"
    }
   ],
   "source": [
    "find_best_cluster(LDA_reduced_df,6,20)"
   ]
  },
  {
   "cell_type": "markdown",
   "metadata": {},
   "source": [
    " "
   ]
  },
  {
   "cell_type": "markdown",
   "metadata": {},
   "source": [
    "### KMeans Clustering"
   ]
  },
  {
   "cell_type": "code",
   "execution_count": 17,
   "metadata": {
    "collapsed": false
   },
   "outputs": [],
   "source": [
    "kmeans = kmeans(LDA_reduced_df, 9)"
   ]
  },
  {
   "cell_type": "code",
   "execution_count": 18,
   "metadata": {
    "collapsed": false
   },
   "outputs": [
    {
     "name": "stdout",
     "output_type": "stream",
     "text": [
      "silhouette score: 0.388468403716\n"
     ]
    }
   ],
   "source": [
    "# Assign labels\n",
    "data['Cluster'] = kmeans['labels']\n",
    "\n",
    "# Print silhouette score\n",
    "print \"silhouette score:\", kmeans['silhouette_score']"
   ]
  },
  {
   "cell_type": "markdown",
   "metadata": {},
   "source": [
    "#### Visualize the Scatter Plot"
   ]
  },
  {
   "cell_type": "code",
   "execution_count": 19,
   "metadata": {
    "collapsed": false
   },
   "outputs": [
    {
     "data": {
      "image/png": "[encoded data removed]",
      "text/plain": [
       "<matplotlib.figure.Figure at 0x11aed0950>"
      ]
     },
     "metadata": {},
     "output_type": "display_data"
    }
   ],
   "source": [
    "# Target labels\n",
    "y = kmeans['labels']\n",
    "df = pd.DataFrame({'X1':LDA_reduced_df[:,0],'X2':LDA_reduced_df[:,1], 'labels':y})\n",
    "\n",
    "# Graph with Seaborn\n",
    "sns.set_context(\"poster\", font_scale=1)\n",
    "graph = sns.lmplot('X1', 'X2', data=df, fit_reg=False, hue=\"labels\", size=10, palette=\"deep\", markers='s')"
   ]
  },
  {
   "cell_type": "code",
   "execution_count": 20,
   "metadata": {
    "collapsed": false
   },
   "outputs": [
    {
     "data": {
      "image/png": "[encoded data removed]",
      "text/plain": [
       "<matplotlib.figure.Figure at 0x1059f7ad0>"
      ]
     },
     "metadata": {},
     "output_type": "display_data"
    }
   ],
   "source": [
    "plot_kmeans_cluster(LDA_reduced_df, k_clusters=9, plot_title=\"\"\"KMeans Clustering on NBA Players in 2015-2016\"\"\")"
   ]
  },
  {
   "cell_type": "markdown",
   "metadata": {},
   "source": [
    "#### Investigate Clusters"
   ]
  },
  {
   "cell_type": "code",
   "execution_count": 21,
   "metadata": {
    "collapsed": false
   },
   "outputs": [
    {
     "data": {
      "text/html": [
       "<div>\n",
       "<table border=\"1\" class=\"dataframe\">\n",
       "  <thead>\n",
       "    <tr style=\"text-align: right;\">\n",
       "      <th></th>\n",
       "      <th>Season</th>\n",
       "      <th>Player</th>\n",
       "      <th>Pos</th>\n",
       "      <th>G</th>\n",
       "      <th>PER</th>\n",
       "      <th>TS%</th>\n",
       "      <th>FTr</th>\n",
       "      <th>ORB%</th>\n",
       "      <th>DRB%</th>\n",
       "      <th>TRB%</th>\n",
       "      <th>...</th>\n",
       "      <th>3-10_FG%</th>\n",
       "      <th>10-16_FG%</th>\n",
       "      <th>16&lt;3_FG%</th>\n",
       "      <th>3P%</th>\n",
       "      <th>%ASTd_2P</th>\n",
       "      <th>%FGA_DUNK</th>\n",
       "      <th>%ASTd_3P</th>\n",
       "      <th>%_CORNER3PA</th>\n",
       "      <th>3P%_CORNER3</th>\n",
       "      <th>Cluster</th>\n",
       "    </tr>\n",
       "  </thead>\n",
       "  <tbody>\n",
       "    <tr>\n",
       "      <th>1</th>\n",
       "      <td>2016-17</td>\n",
       "      <td>Aaron Brooks</td>\n",
       "      <td>PG</td>\n",
       "      <td>46.0</td>\n",
       "      <td>10.3</td>\n",
       "      <td>0.505</td>\n",
       "      <td>0.128</td>\n",
       "      <td>2.4</td>\n",
       "      <td>6.4</td>\n",
       "      <td>4.4</td>\n",
       "      <td>...</td>\n",
       "      <td>0.441</td>\n",
       "      <td>0.640</td>\n",
       "      <td>0.375</td>\n",
       "      <td>0.337</td>\n",
       "      <td>0.103</td>\n",
       "      <td>0.000</td>\n",
       "      <td>0.529</td>\n",
       "      <td>0.119</td>\n",
       "      <td>0.417</td>\n",
       "      <td>2</td>\n",
       "    </tr>\n",
       "    <tr>\n",
       "      <th>2</th>\n",
       "      <td>2016-17</td>\n",
       "      <td>Aaron Gordon</td>\n",
       "      <td>SF</td>\n",
       "      <td>56.0</td>\n",
       "      <td>12.5</td>\n",
       "      <td>0.503</td>\n",
       "      <td>0.244</td>\n",
       "      <td>5.1</td>\n",
       "      <td>13.4</td>\n",
       "      <td>9.1</td>\n",
       "      <td>...</td>\n",
       "      <td>0.322</td>\n",
       "      <td>0.411</td>\n",
       "      <td>0.299</td>\n",
       "      <td>0.289</td>\n",
       "      <td>0.457</td>\n",
       "      <td>0.086</td>\n",
       "      <td>0.875</td>\n",
       "      <td>0.273</td>\n",
       "      <td>0.264</td>\n",
       "      <td>5</td>\n",
       "    </tr>\n",
       "    <tr>\n",
       "      <th>5</th>\n",
       "      <td>2016-17</td>\n",
       "      <td>Al Horford</td>\n",
       "      <td>C</td>\n",
       "      <td>45.0</td>\n",
       "      <td>17.6</td>\n",
       "      <td>0.541</td>\n",
       "      <td>0.155</td>\n",
       "      <td>4.6</td>\n",
       "      <td>17.9</td>\n",
       "      <td>11.2</td>\n",
       "      <td>...</td>\n",
       "      <td>0.426</td>\n",
       "      <td>0.366</td>\n",
       "      <td>0.500</td>\n",
       "      <td>0.351</td>\n",
       "      <td>0.592</td>\n",
       "      <td>0.053</td>\n",
       "      <td>0.985</td>\n",
       "      <td>0.139</td>\n",
       "      <td>0.296</td>\n",
       "      <td>5</td>\n",
       "    </tr>\n",
       "    <tr>\n",
       "      <th>6</th>\n",
       "      <td>2016-17</td>\n",
       "      <td>Al Jefferson</td>\n",
       "      <td>C</td>\n",
       "      <td>57.0</td>\n",
       "      <td>19.4</td>\n",
       "      <td>0.534</td>\n",
       "      <td>0.188</td>\n",
       "      <td>9.2</td>\n",
       "      <td>23.4</td>\n",
       "      <td>16.4</td>\n",
       "      <td>...</td>\n",
       "      <td>0.541</td>\n",
       "      <td>0.333</td>\n",
       "      <td>0.354</td>\n",
       "      <td>0.000</td>\n",
       "      <td>0.535</td>\n",
       "      <td>0.024</td>\n",
       "      <td>0.000</td>\n",
       "      <td>0.000</td>\n",
       "      <td>0.000</td>\n",
       "      <td>7</td>\n",
       "    </tr>\n",
       "    <tr>\n",
       "      <th>7</th>\n",
       "      <td>2016-17</td>\n",
       "      <td>Al-Farouq Aminu</td>\n",
       "      <td>SF</td>\n",
       "      <td>37.0</td>\n",
       "      <td>10.5</td>\n",
       "      <td>0.476</td>\n",
       "      <td>0.228</td>\n",
       "      <td>4.3</td>\n",
       "      <td>24.0</td>\n",
       "      <td>14.0</td>\n",
       "      <td>...</td>\n",
       "      <td>0.244</td>\n",
       "      <td>0.273</td>\n",
       "      <td>0.467</td>\n",
       "      <td>0.307</td>\n",
       "      <td>0.500</td>\n",
       "      <td>0.044</td>\n",
       "      <td>1.000</td>\n",
       "      <td>0.336</td>\n",
       "      <td>0.348</td>\n",
       "      <td>3</td>\n",
       "    </tr>\n",
       "  </tbody>\n",
       "</table>\n",
       "<p>5 rows × 43 columns</p>\n",
       "</div>"
      ],
      "text/plain": [
       "    Season           Player Pos     G   PER    TS%    FTr  ORB%  DRB%  TRB%  \\\n",
       "1  2016-17     Aaron Brooks  PG  46.0  10.3  0.505  0.128   2.4   6.4   4.4   \n",
       "2  2016-17     Aaron Gordon  SF  56.0  12.5  0.503  0.244   5.1  13.4   9.1   \n",
       "5  2016-17       Al Horford   C  45.0  17.6  0.541  0.155   4.6  17.9  11.2   \n",
       "6  2016-17     Al Jefferson   C  57.0  19.4  0.534  0.188   9.2  23.4  16.4   \n",
       "7  2016-17  Al-Farouq Aminu  SF  37.0  10.5  0.476  0.228   4.3  24.0  14.0   \n",
       "\n",
       "    ...     3-10_FG%  10-16_FG%  16<3_FG%    3P%  %ASTd_2P  %FGA_DUNK  \\\n",
       "1   ...        0.441      0.640     0.375  0.337     0.103      0.000   \n",
       "2   ...        0.322      0.411     0.299  0.289     0.457      0.086   \n",
       "5   ...        0.426      0.366     0.500  0.351     0.592      0.053   \n",
       "6   ...        0.541      0.333     0.354  0.000     0.535      0.024   \n",
       "7   ...        0.244      0.273     0.467  0.307     0.500      0.044   \n",
       "\n",
       "   %ASTd_3P  %_CORNER3PA  3P%_CORNER3  Cluster  \n",
       "1     0.529        0.119        0.417        2  \n",
       "2     0.875        0.273        0.264        5  \n",
       "5     0.985        0.139        0.296        5  \n",
       "6     0.000        0.000        0.000        7  \n",
       "7     1.000        0.336        0.348        3  \n",
       "\n",
       "[5 rows x 43 columns]"
      ]
     },
     "execution_count": 21,
     "metadata": {},
     "output_type": "execute_result"
    }
   ],
   "source": [
    "data.head()"
   ]
  },
  {
   "cell_type": "code",
   "execution_count": 24,
   "metadata": {
    "collapsed": false
   },
   "outputs": [
    {
     "data": {
      "text/html": [
       "<div>\n",
       "<table border=\"1\" class=\"dataframe\">\n",
       "  <thead>\n",
       "    <tr style=\"text-align: right;\">\n",
       "      <th></th>\n",
       "      <th>Player</th>\n",
       "    </tr>\n",
       "  </thead>\n",
       "  <tbody>\n",
       "    <tr>\n",
       "      <th>10</th>\n",
       "      <td>Alec Burks</td>\n",
       "    </tr>\n",
       "    <tr>\n",
       "      <th>11</th>\n",
       "      <td>Alex Abrines</td>\n",
       "    </tr>\n",
       "    <tr>\n",
       "      <th>24</th>\n",
       "      <td>Andrew Wiggins</td>\n",
       "    </tr>\n",
       "    <tr>\n",
       "      <th>28</th>\n",
       "      <td>Anthony Morrow</td>\n",
       "    </tr>\n",
       "    <tr>\n",
       "      <th>33</th>\n",
       "      <td>Arron Afflalo</td>\n",
       "    </tr>\n",
       "    <tr>\n",
       "      <th>43</th>\n",
       "      <td>Bojan Bogdanovic</td>\n",
       "    </tr>\n",
       "    <tr>\n",
       "      <th>45</th>\n",
       "      <td>Bradley Beal</td>\n",
       "    </tr>\n",
       "    <tr>\n",
       "      <th>48</th>\n",
       "      <td>Brandon Ingram</td>\n",
       "    </tr>\n",
       "    <tr>\n",
       "      <th>63</th>\n",
       "      <td>Caris LeVert</td>\n",
       "    </tr>\n",
       "    <tr>\n",
       "      <th>64</th>\n",
       "      <td>Carmelo Anthony</td>\n",
       "    </tr>\n",
       "    <tr>\n",
       "      <th>65</th>\n",
       "      <td>Chandler Parsons</td>\n",
       "    </tr>\n",
       "    <tr>\n",
       "      <th>79</th>\n",
       "      <td>Courtney Lee</td>\n",
       "    </tr>\n",
       "    <tr>\n",
       "      <th>87</th>\n",
       "      <td>Danilo Gallinari</td>\n",
       "    </tr>\n",
       "    <tr>\n",
       "      <th>90</th>\n",
       "      <td>Dante Exum</td>\n",
       "    </tr>\n",
       "    <tr>\n",
       "      <th>95</th>\n",
       "      <td>Darrun Hilliard</td>\n",
       "    </tr>\n",
       "  </tbody>\n",
       "</table>\n",
       "</div>"
      ],
      "text/plain": [
       "              Player\n",
       "10        Alec Burks\n",
       "11      Alex Abrines\n",
       "24    Andrew Wiggins\n",
       "28    Anthony Morrow\n",
       "33     Arron Afflalo\n",
       "43  Bojan Bogdanovic\n",
       "45      Bradley Beal\n",
       "48    Brandon Ingram\n",
       "63      Caris LeVert\n",
       "64   Carmelo Anthony\n",
       "65  Chandler Parsons\n",
       "79      Courtney Lee\n",
       "87  Danilo Gallinari\n",
       "90        Dante Exum\n",
       "95   Darrun Hilliard"
      ]
     },
     "execution_count": 24,
     "metadata": {},
     "output_type": "execute_result"
    }
   ],
   "source": [
    "mask = (data['Cluster'] == 0)\n",
    "data[mask][['Player']].head(15)"
   ]
  },
  {
   "cell_type": "markdown",
   "metadata": {},
   "source": [
    " "
   ]
  },
  {
   "cell_type": "markdown",
   "metadata": {},
   "source": [
    "### Feature Importance for each Cluster"
   ]
  },
  {
   "cell_type": "code",
   "execution_count": 23,
   "metadata": {
    "collapsed": false
   },
   "outputs": [
    {
     "data": {
      "text/html": [
       "<div>\n",
       "<table border=\"1\" class=\"dataframe\">\n",
       "  <thead>\n",
       "    <tr style=\"text-align: right;\">\n",
       "      <th></th>\n",
       "      <th>Feature</th>\n",
       "      <th>Importance</th>\n",
       "      <th>Cluster Average</th>\n",
       "      <th>League Average</th>\n",
       "    </tr>\n",
       "  </thead>\n",
       "  <tbody>\n",
       "    <tr>\n",
       "      <th>0</th>\n",
       "      <td>OBPM</td>\n",
       "      <td>0.263555</td>\n",
       "      <td>-0.861765</td>\n",
       "      <td>-0.742794</td>\n",
       "    </tr>\n",
       "    <tr>\n",
       "      <th>1</th>\n",
       "      <td>VORP</td>\n",
       "      <td>0.261413</td>\n",
       "      <td>0.711765</td>\n",
       "      <td>0.556145</td>\n",
       "    </tr>\n",
       "    <tr>\n",
       "      <th>2</th>\n",
       "      <td>PER</td>\n",
       "      <td>0.260419</td>\n",
       "      <td>16.612745</td>\n",
       "      <td>13.887003</td>\n",
       "    </tr>\n",
       "    <tr>\n",
       "      <th>3</th>\n",
       "      <td>BPM</td>\n",
       "      <td>0.255775</td>\n",
       "      <td>0.333333</td>\n",
       "      <td>-0.831300</td>\n",
       "    </tr>\n",
       "    <tr>\n",
       "      <th>4</th>\n",
       "      <td>WS</td>\n",
       "      <td>0.254336</td>\n",
       "      <td>2.468627</td>\n",
       "      <td>2.257471</td>\n",
       "    </tr>\n",
       "    <tr>\n",
       "      <th>5</th>\n",
       "      <td>OWS</td>\n",
       "      <td>0.249421</td>\n",
       "      <td>1.436275</td>\n",
       "      <td>1.180371</td>\n",
       "    </tr>\n",
       "    <tr>\n",
       "      <th>6</th>\n",
       "      <td>%FGA_3P</td>\n",
       "      <td>0.246456</td>\n",
       "      <td>0.027529</td>\n",
       "      <td>0.315167</td>\n",
       "    </tr>\n",
       "    <tr>\n",
       "      <th>7</th>\n",
       "      <td>AST%</td>\n",
       "      <td>0.239548</td>\n",
       "      <td>11.194118</td>\n",
       "      <td>13.376481</td>\n",
       "    </tr>\n",
       "    <tr>\n",
       "      <th>8</th>\n",
       "      <td>USG%</td>\n",
       "      <td>0.223683</td>\n",
       "      <td>18.024510</td>\n",
       "      <td>18.900354</td>\n",
       "    </tr>\n",
       "    <tr>\n",
       "      <th>9</th>\n",
       "      <td>DWS</td>\n",
       "      <td>0.219399</td>\n",
       "      <td>1.043137</td>\n",
       "      <td>1.079399</td>\n",
       "    </tr>\n",
       "  </tbody>\n",
       "</table>\n",
       "</div>"
      ],
      "text/plain": [
       "   Feature  Importance  Cluster Average  League Average\n",
       "0     OBPM    0.263555        -0.861765       -0.742794\n",
       "1     VORP    0.261413         0.711765        0.556145\n",
       "2      PER    0.260419        16.612745       13.887003\n",
       "3      BPM    0.255775         0.333333       -0.831300\n",
       "4       WS    0.254336         2.468627        2.257471\n",
       "5      OWS    0.249421         1.436275        1.180371\n",
       "6  %FGA_3P    0.246456         0.027529        0.315167\n",
       "7     AST%    0.239548        11.194118       13.376481\n",
       "8     USG%    0.223683        18.024510       18.900354\n",
       "9      DWS    0.219399         1.043137        1.079399"
      ]
     },
     "execution_count": 23,
     "metadata": {},
     "output_type": "execute_result"
    }
   ],
   "source": [
    "cluster_data = data[mask].drop(['Player', 'Pos', 'Season', 'Cluster'], axis=1)\n",
    "league_data = data.drop(['Player', 'Pos', 'Season', 'Cluster'], axis=1)\n",
    "\n",
    "feature_importance(cluster_data, league_data).reset_index().drop('index', axis=1)"
   ]
  },
  {
   "cell_type": "markdown",
   "metadata": {},
   "source": [
    " "
   ]
  },
  {
   "cell_type": "markdown",
   "metadata": {},
   "source": [
    "### Cluster Descriptions\n",
    "- Cluster 0: \n",
    "- Cluster 1:\n",
    "- Cluster 2: \n",
    "- Cluster 3:\n",
    "- Cluster 4:\n",
    "- Cluster 5:\n",
    "- Cluster 6:\n",
    "- Cluster 7: "
   ]
  },
  {
   "cell_type": "code",
   "execution_count": null,
   "metadata": {
    "collapsed": true
   },
   "outputs": [],
   "source": []
  }
 ],
 "metadata": {
  "anaconda-cloud": {},
  "kernelspec": {
   "display_name": "Python [Root]",
   "language": "python",
   "name": "Python [Root]"
  },
  "language_info": {
   "codemirror_mode": {
    "name": "ipython",
    "version": 2
   },
   "file_extension": ".py",
   "mimetype": "text/x-python",
   "name": "python",
   "nbconvert_exporter": "python",
   "pygments_lexer": "ipython2",
   "version": "2.7.12"
  }
 },
 "nbformat": 4,
 "nbformat_minor": 0
}

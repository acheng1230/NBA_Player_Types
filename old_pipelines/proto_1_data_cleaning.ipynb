{
 "cells": [
  {
   "cell_type": "markdown",
   "metadata": {},
   "source": [
    "### Load Packages"
   ]
  },
  {
   "cell_type": "code",
   "execution_count": 2,
   "metadata": {
    "collapsed": true
   },
   "outputs": [],
   "source": [
    "import re\n",
    "import pandas as pd"
   ]
  },
  {
   "cell_type": "markdown",
   "metadata": {},
   "source": [
    "### Join Dataframes"
   ]
  },
  {
   "cell_type": "markdown",
   "metadata": {},
   "source": [
    "#### Heights and Weights\n",
    "\n",
    "Source: http://stats.nba.com/league/player/#!/bio/"
   ]
  },
  {
   "cell_type": "code",
   "execution_count": 3,
   "metadata": {
    "collapsed": false
   },
   "outputs": [
    {
     "data": {
      "text/html": [
       "<div>\n",
       "<table border=\"1\" class=\"dataframe\">\n",
       "  <thead>\n",
       "    <tr style=\"text-align: right;\">\n",
       "      <th></th>\n",
       "      <th>Player</th>\n",
       "      <th>Age</th>\n",
       "      <th>Height</th>\n",
       "      <th>Weight</th>\n",
       "    </tr>\n",
       "  </thead>\n",
       "  <tbody>\n",
       "    <tr>\n",
       "      <th>456</th>\n",
       "      <td>Wilson Chandler</td>\n",
       "      <td>29</td>\n",
       "      <td>6-8</td>\n",
       "      <td>225</td>\n",
       "    </tr>\n",
       "    <tr>\n",
       "      <th>457</th>\n",
       "      <td>Yogi Ferrell</td>\n",
       "      <td>23</td>\n",
       "      <td>6-1</td>\n",
       "      <td>180</td>\n",
       "    </tr>\n",
       "    <tr>\n",
       "      <th>458</th>\n",
       "      <td>Zach LaVine</td>\n",
       "      <td>21</td>\n",
       "      <td>6-5</td>\n",
       "      <td>185</td>\n",
       "    </tr>\n",
       "    <tr>\n",
       "      <th>459</th>\n",
       "      <td>Zach Randolph</td>\n",
       "      <td>35</td>\n",
       "      <td>6-9</td>\n",
       "      <td>260</td>\n",
       "    </tr>\n",
       "    <tr>\n",
       "      <th>460</th>\n",
       "      <td>Zaza Pachulia</td>\n",
       "      <td>33</td>\n",
       "      <td>6-11</td>\n",
       "      <td>275</td>\n",
       "    </tr>\n",
       "  </tbody>\n",
       "</table>\n",
       "</div>"
      ],
      "text/plain": [
       "              Player  Age Height  Weight\n",
       "456  Wilson Chandler   29    6-8     225\n",
       "457     Yogi Ferrell   23    6-1     180\n",
       "458      Zach LaVine   21    6-5     185\n",
       "459    Zach Randolph   35    6-9     260\n",
       "460    Zaza Pachulia   33   6-11     275"
      ]
     },
     "execution_count": 3,
     "metadata": {},
     "output_type": "execute_result"
    }
   ],
   "source": [
    "height_weight = pd.read_csv('data/height_weight.csv')\n",
    "height_weight.tail()"
   ]
  },
  {
   "cell_type": "code",
   "execution_count": 4,
   "metadata": {
    "collapsed": false
   },
   "outputs": [
    {
     "data": {
      "text/plain": [
       "(461, 4)"
      ]
     },
     "execution_count": 4,
     "metadata": {},
     "output_type": "execute_result"
    }
   ],
   "source": [
    "height_weight.shape"
   ]
  },
  {
   "cell_type": "markdown",
   "metadata": {},
   "source": [
    "#### Positions\n",
    "\n",
    "Source: http://www.basketball-reference.com/leagues/NBA_2017_totals.html"
   ]
  },
  {
   "cell_type": "code",
   "execution_count": 5,
   "metadata": {
    "collapsed": false
   },
   "outputs": [
    {
     "data": {
      "text/html": [
       "<div>\n",
       "<table border=\"1\" class=\"dataframe\">\n",
       "  <thead>\n",
       "    <tr style=\"text-align: right;\">\n",
       "      <th></th>\n",
       "      <th>Player</th>\n",
       "      <th>Pos</th>\n",
       "    </tr>\n",
       "  </thead>\n",
       "  <tbody>\n",
       "    <tr>\n",
       "      <th>476</th>\n",
       "      <td>Cody Zeller</td>\n",
       "      <td>PF</td>\n",
       "    </tr>\n",
       "    <tr>\n",
       "      <th>477</th>\n",
       "      <td>Tyler Zeller</td>\n",
       "      <td>C</td>\n",
       "    </tr>\n",
       "    <tr>\n",
       "      <th>478</th>\n",
       "      <td>Stephen Zimmerman</td>\n",
       "      <td>C</td>\n",
       "    </tr>\n",
       "    <tr>\n",
       "      <th>479</th>\n",
       "      <td>Paul Zipser</td>\n",
       "      <td>SF</td>\n",
       "    </tr>\n",
       "    <tr>\n",
       "      <th>480</th>\n",
       "      <td>Ivica Zubac</td>\n",
       "      <td>C</td>\n",
       "    </tr>\n",
       "  </tbody>\n",
       "</table>\n",
       "</div>"
      ],
      "text/plain": [
       "                Player Pos\n",
       "476        Cody Zeller  PF\n",
       "477       Tyler Zeller   C\n",
       "478  Stephen Zimmerman   C\n",
       "479        Paul Zipser  SF\n",
       "480        Ivica Zubac   C"
      ]
     },
     "execution_count": 5,
     "metadata": {},
     "output_type": "execute_result"
    }
   ],
   "source": [
    "pos_age = pd.read_csv('data/position_age.csv')\n",
    "pos_age = pos_age.drop_duplicates()\n",
    "pos_age.tail()"
   ]
  },
  {
   "cell_type": "code",
   "execution_count": 6,
   "metadata": {
    "collapsed": false
   },
   "outputs": [
    {
     "data": {
      "text/plain": [
       "(461, 2)"
      ]
     },
     "execution_count": 6,
     "metadata": {},
     "output_type": "execute_result"
    }
   ],
   "source": [
    "pos_age.shape"
   ]
  },
  {
   "cell_type": "markdown",
   "metadata": {},
   "source": [
    "#### Save to CSV as tmp_df.csv"
   ]
  },
  {
   "cell_type": "code",
   "execution_count": 7,
   "metadata": {
    "collapsed": false
   },
   "outputs": [],
   "source": [
    "pos_age.to_csv('data/tmp_df.csv')"
   ]
  },
  {
   "cell_type": "markdown",
   "metadata": {},
   "source": [
    "#### Merge Dataframes"
   ]
  },
  {
   "cell_type": "code",
   "execution_count": 8,
   "metadata": {
    "collapsed": false
   },
   "outputs": [
    {
     "data": {
      "text/html": [
       "<div>\n",
       "<table border=\"1\" class=\"dataframe\">\n",
       "  <thead>\n",
       "    <tr style=\"text-align: right;\">\n",
       "      <th></th>\n",
       "      <th>Player</th>\n",
       "      <th>Age</th>\n",
       "      <th>Height</th>\n",
       "      <th>Weight</th>\n",
       "      <th>Pos</th>\n",
       "    </tr>\n",
       "  </thead>\n",
       "  <tbody>\n",
       "    <tr>\n",
       "      <th>435</th>\n",
       "      <td>Wilson Chandler</td>\n",
       "      <td>29</td>\n",
       "      <td>6-8</td>\n",
       "      <td>225</td>\n",
       "      <td>SF</td>\n",
       "    </tr>\n",
       "    <tr>\n",
       "      <th>436</th>\n",
       "      <td>Yogi Ferrell</td>\n",
       "      <td>23</td>\n",
       "      <td>6-1</td>\n",
       "      <td>180</td>\n",
       "      <td>PG</td>\n",
       "    </tr>\n",
       "    <tr>\n",
       "      <th>437</th>\n",
       "      <td>Zach LaVine</td>\n",
       "      <td>21</td>\n",
       "      <td>6-5</td>\n",
       "      <td>185</td>\n",
       "      <td>SG</td>\n",
       "    </tr>\n",
       "    <tr>\n",
       "      <th>438</th>\n",
       "      <td>Zach Randolph</td>\n",
       "      <td>35</td>\n",
       "      <td>6-9</td>\n",
       "      <td>260</td>\n",
       "      <td>PF</td>\n",
       "    </tr>\n",
       "    <tr>\n",
       "      <th>439</th>\n",
       "      <td>Zaza Pachulia</td>\n",
       "      <td>33</td>\n",
       "      <td>6-11</td>\n",
       "      <td>275</td>\n",
       "      <td>C</td>\n",
       "    </tr>\n",
       "  </tbody>\n",
       "</table>\n",
       "</div>"
      ],
      "text/plain": [
       "              Player  Age Height  Weight Pos\n",
       "435  Wilson Chandler   29    6-8     225  SF\n",
       "436     Yogi Ferrell   23    6-1     180  PG\n",
       "437      Zach LaVine   21    6-5     185  SG\n",
       "438    Zach Randolph   35    6-9     260  PF\n",
       "439    Zaza Pachulia   33   6-11     275   C"
      ]
     },
     "execution_count": 8,
     "metadata": {},
     "output_type": "execute_result"
    }
   ],
   "source": [
    "df = pd.merge(height_weight, pos_age, how='inner', on='Player')\n",
    "df.tail()"
   ]
  },
  {
   "cell_type": "code",
   "execution_count": 9,
   "metadata": {
    "collapsed": false
   },
   "outputs": [],
   "source": [
    "cleaned_player = []\n",
    "\n",
    "for player in df['Player']:\n",
    "    player = player.lower()\n",
    "    player = player.strip()\n",
    "    player = (player.replace(',','').replace('.','').replace(\"'\",\"\"))\n",
    "    cleaned_player.append(player)\n",
    "    \n",
    "df['cleaned_player'] = cleaned_player"
   ]
  },
  {
   "cell_type": "code",
   "execution_count": 10,
   "metadata": {
    "collapsed": false
   },
   "outputs": [],
   "source": [
    "df = df.drop('Player', axis=1)"
   ]
  },
  {
   "cell_type": "markdown",
   "metadata": {},
   "source": [
    "#### Save to CSV"
   ]
  },
  {
   "cell_type": "code",
   "execution_count": 11,
   "metadata": {
    "collapsed": true
   },
   "outputs": [],
   "source": [
    "df.to_csv('data/first_merge.csv')"
   ]
  },
  {
   "cell_type": "markdown",
   "metadata": {
    "collapsed": true
   },
   "source": [
    "#### Web Scraped Data"
   ]
  },
  {
   "cell_type": "code",
   "execution_count": 12,
   "metadata": {
    "collapsed": false
   },
   "outputs": [
    {
     "data": {
      "text/html": [
       "<div>\n",
       "<table border=\"1\" class=\"dataframe\">\n",
       "  <thead>\n",
       "    <tr style=\"text-align: right;\">\n",
       "      <th></th>\n",
       "      <th>Player</th>\n",
       "      <th>G</th>\n",
       "      <th>GS</th>\n",
       "      <th>MP</th>\n",
       "      <th>FG</th>\n",
       "      <th>FGA</th>\n",
       "      <th>FG%</th>\n",
       "      <th>3P</th>\n",
       "      <th>3PA</th>\n",
       "      <th>3P%</th>\n",
       "      <th>...</th>\n",
       "      <th>TOV%</th>\n",
       "      <th>USG%</th>\n",
       "      <th>OWS</th>\n",
       "      <th>DWS</th>\n",
       "      <th>WS</th>\n",
       "      <th>WS/48</th>\n",
       "      <th>OBPM</th>\n",
       "      <th>DPM</th>\n",
       "      <th>BPM</th>\n",
       "      <th>VORP</th>\n",
       "    </tr>\n",
       "  </thead>\n",
       "  <tbody>\n",
       "    <tr>\n",
       "      <th>0</th>\n",
       "      <td>Alex Abrines</td>\n",
       "      <td>42</td>\n",
       "      <td>0</td>\n",
       "      <td>14.0</td>\n",
       "      <td>1.8</td>\n",
       "      <td>4.5</td>\n",
       "      <td>0.396</td>\n",
       "      <td>1.2</td>\n",
       "      <td>3.2</td>\n",
       "      <td>0.378</td>\n",
       "      <td>...</td>\n",
       "      <td>10.2</td>\n",
       "      <td>16.4</td>\n",
       "      <td>0.6</td>\n",
       "      <td>0.5</td>\n",
       "      <td>1.1</td>\n",
       "      <td>0.088</td>\n",
       "      <td>0</td>\n",
       "      <td>-2.6</td>\n",
       "      <td>-3.2</td>\n",
       "      <td>-0.2</td>\n",
       "    </tr>\n",
       "    <tr>\n",
       "      <th>1</th>\n",
       "      <td>Quincy Acy</td>\n",
       "      <td>237</td>\n",
       "      <td>51</td>\n",
       "      <td>14.9</td>\n",
       "      <td>1.7</td>\n",
       "      <td>3.5</td>\n",
       "      <td>0.495</td>\n",
       "      <td>0.2</td>\n",
       "      <td>0.7</td>\n",
       "      <td>0.359</td>\n",
       "      <td>...</td>\n",
       "      <td>13.0</td>\n",
       "      <td>13.8</td>\n",
       "      <td>4.4</td>\n",
       "      <td>2.8</td>\n",
       "      <td>7.3</td>\n",
       "      <td>0.099</td>\n",
       "      <td>0</td>\n",
       "      <td>0.0</td>\n",
       "      <td>-1.5</td>\n",
       "      <td>0.5</td>\n",
       "    </tr>\n",
       "    <tr>\n",
       "      <th>2</th>\n",
       "      <td>Steven Adams</td>\n",
       "      <td>282</td>\n",
       "      <td>218</td>\n",
       "      <td>23.2</td>\n",
       "      <td>2.9</td>\n",
       "      <td>5.2</td>\n",
       "      <td>0.568</td>\n",
       "      <td>0.0</td>\n",
       "      <td>0.0</td>\n",
       "      <td>0.000</td>\n",
       "      <td>...</td>\n",
       "      <td>16.8</td>\n",
       "      <td>13.9</td>\n",
       "      <td>9.3</td>\n",
       "      <td>8.7</td>\n",
       "      <td>18.0</td>\n",
       "      <td>0.132</td>\n",
       "      <td>0</td>\n",
       "      <td>1.6</td>\n",
       "      <td>0.9</td>\n",
       "      <td>4.8</td>\n",
       "    </tr>\n",
       "    <tr>\n",
       "      <th>3</th>\n",
       "      <td>Arron Afflalo</td>\n",
       "      <td>693</td>\n",
       "      <td>519</td>\n",
       "      <td>28.4</td>\n",
       "      <td>4.1</td>\n",
       "      <td>9.2</td>\n",
       "      <td>0.450</td>\n",
       "      <td>1.2</td>\n",
       "      <td>3.0</td>\n",
       "      <td>0.385</td>\n",
       "      <td>...</td>\n",
       "      <td>10.4</td>\n",
       "      <td>18.0</td>\n",
       "      <td>23.4</td>\n",
       "      <td>9.3</td>\n",
       "      <td>32.7</td>\n",
       "      <td>0.080</td>\n",
       "      <td>0</td>\n",
       "      <td>-1.3</td>\n",
       "      <td>-1.0</td>\n",
       "      <td>5.2</td>\n",
       "    </tr>\n",
       "    <tr>\n",
       "      <th>4</th>\n",
       "      <td>Alexis Ajinca</td>\n",
       "      <td>275</td>\n",
       "      <td>71</td>\n",
       "      <td>13.2</td>\n",
       "      <td>2.2</td>\n",
       "      <td>4.3</td>\n",
       "      <td>0.500</td>\n",
       "      <td>0.0</td>\n",
       "      <td>0.1</td>\n",
       "      <td>0.293</td>\n",
       "      <td>...</td>\n",
       "      <td>15.1</td>\n",
       "      <td>19.4</td>\n",
       "      <td>2.7</td>\n",
       "      <td>4.2</td>\n",
       "      <td>6.8</td>\n",
       "      <td>0.091</td>\n",
       "      <td>0</td>\n",
       "      <td>0.4</td>\n",
       "      <td>-2.5</td>\n",
       "      <td>-0.4</td>\n",
       "    </tr>\n",
       "  </tbody>\n",
       "</table>\n",
       "<p>5 rows × 65 columns</p>\n",
       "</div>"
      ],
      "text/plain": [
       "          Player    G   GS    MP   FG  FGA    FG%   3P  3PA    3P%  ...   \\\n",
       "0   Alex Abrines   42    0  14.0  1.8  4.5  0.396  1.2  3.2  0.378  ...    \n",
       "1     Quincy Acy  237   51  14.9  1.7  3.5  0.495  0.2  0.7  0.359  ...    \n",
       "2   Steven Adams  282  218  23.2  2.9  5.2  0.568  0.0  0.0  0.000  ...    \n",
       "3  Arron Afflalo  693  519  28.4  4.1  9.2  0.450  1.2  3.0  0.385  ...    \n",
       "4  Alexis Ajinca  275   71  13.2  2.2  4.3  0.500  0.0  0.1  0.293  ...    \n",
       "\n",
       "   TOV%  USG%   OWS  DWS    WS  WS/48  OBPM  DPM  BPM  VORP  \n",
       "0  10.2  16.4   0.6  0.5   1.1  0.088     0 -2.6 -3.2  -0.2  \n",
       "1  13.0  13.8   4.4  2.8   7.3  0.099     0  0.0 -1.5   0.5  \n",
       "2  16.8  13.9   9.3  8.7  18.0  0.132     0  1.6  0.9   4.8  \n",
       "3  10.4  18.0  23.4  9.3  32.7  0.080     0 -1.3 -1.0   5.2  \n",
       "4  15.1  19.4   2.7  4.2   6.8  0.091     0  0.4 -2.5  -0.4  \n",
       "\n",
       "[5 rows x 65 columns]"
      ]
     },
     "execution_count": 12,
     "metadata": {},
     "output_type": "execute_result"
    }
   ],
   "source": [
    "scraped_data = pd.read_csv('data/web_scraped_stats.csv')\n",
    "scraped_data.head()"
   ]
  },
  {
   "cell_type": "code",
   "execution_count": 13,
   "metadata": {
    "collapsed": false
   },
   "outputs": [
    {
     "data": {
      "text/plain": [
       "(454, 65)"
      ]
     },
     "execution_count": 13,
     "metadata": {},
     "output_type": "execute_result"
    }
   ],
   "source": [
    "scraped_data.shape"
   ]
  },
  {
   "cell_type": "code",
   "execution_count": 14,
   "metadata": {
    "collapsed": true
   },
   "outputs": [],
   "source": [
    "cleaned_player = []\n",
    "\n",
    "for player in scraped_data['Player']:\n",
    "    player = player.lower()\n",
    "    player = player.strip()\n",
    "    player = (player.replace(',','').replace('.','').replace(\"'\",\"\"))\n",
    "    cleaned_player.append(player)\n",
    "    \n",
    "scraped_data['cleaned_player'] = cleaned_player"
   ]
  },
  {
   "cell_type": "code",
   "execution_count": 15,
   "metadata": {
    "collapsed": false
   },
   "outputs": [
    {
     "data": {
      "text/html": [
       "<div>\n",
       "<table border=\"1\" class=\"dataframe\">\n",
       "  <thead>\n",
       "    <tr style=\"text-align: right;\">\n",
       "      <th></th>\n",
       "      <th>Age</th>\n",
       "      <th>Height</th>\n",
       "      <th>Weight</th>\n",
       "      <th>Pos</th>\n",
       "      <th>cleaned_player</th>\n",
       "      <th>Player</th>\n",
       "      <th>G</th>\n",
       "      <th>GS</th>\n",
       "      <th>MP</th>\n",
       "      <th>FG</th>\n",
       "      <th>...</th>\n",
       "      <th>TOV%</th>\n",
       "      <th>USG%</th>\n",
       "      <th>OWS</th>\n",
       "      <th>DWS</th>\n",
       "      <th>WS</th>\n",
       "      <th>WS/48</th>\n",
       "      <th>OBPM</th>\n",
       "      <th>DPM</th>\n",
       "      <th>BPM</th>\n",
       "      <th>VORP</th>\n",
       "    </tr>\n",
       "  </thead>\n",
       "  <tbody>\n",
       "    <tr>\n",
       "      <th>0</th>\n",
       "      <td>32.0</td>\n",
       "      <td>6-1</td>\n",
       "      <td>161.0</td>\n",
       "      <td>PG</td>\n",
       "      <td>aaron brooks</td>\n",
       "      <td>Aaron Brooks</td>\n",
       "      <td>593</td>\n",
       "      <td>182</td>\n",
       "      <td>21.9</td>\n",
       "      <td>3.7</td>\n",
       "      <td>...</td>\n",
       "      <td>14.4</td>\n",
       "      <td>23.3</td>\n",
       "      <td>10.5</td>\n",
       "      <td>8.6</td>\n",
       "      <td>19.1</td>\n",
       "      <td>0.070</td>\n",
       "      <td>0</td>\n",
       "      <td>-2.4</td>\n",
       "      <td>-1.7</td>\n",
       "      <td>1.1</td>\n",
       "    </tr>\n",
       "    <tr>\n",
       "      <th>1</th>\n",
       "      <td>21.0</td>\n",
       "      <td>6-9</td>\n",
       "      <td>220.0</td>\n",
       "      <td>SF</td>\n",
       "      <td>aaron gordon</td>\n",
       "      <td>Aaron Gordon</td>\n",
       "      <td>179</td>\n",
       "      <td>91</td>\n",
       "      <td>23.2</td>\n",
       "      <td>3.4</td>\n",
       "      <td>...</td>\n",
       "      <td>9.6</td>\n",
       "      <td>17.8</td>\n",
       "      <td>4.1</td>\n",
       "      <td>4.0</td>\n",
       "      <td>8.1</td>\n",
       "      <td>0.094</td>\n",
       "      <td>0</td>\n",
       "      <td>0.4</td>\n",
       "      <td>-0.2</td>\n",
       "      <td>1.8</td>\n",
       "    </tr>\n",
       "    <tr>\n",
       "      <th>2</th>\n",
       "      <td>22.0</td>\n",
       "      <td>6-6</td>\n",
       "      <td>210.0</td>\n",
       "      <td>SG</td>\n",
       "      <td>aaron harrison</td>\n",
       "      <td>Aaron Harrison</td>\n",
       "      <td>26</td>\n",
       "      <td>0</td>\n",
       "      <td>4.2</td>\n",
       "      <td>0.2</td>\n",
       "      <td>...</td>\n",
       "      <td>12.1</td>\n",
       "      <td>13.6</td>\n",
       "      <td>-0.2</td>\n",
       "      <td>0.2</td>\n",
       "      <td>-0.1</td>\n",
       "      <td>-0.033</td>\n",
       "      <td>0</td>\n",
       "      <td>-0.2</td>\n",
       "      <td>-6.4</td>\n",
       "      <td>-0.1</td>\n",
       "    </tr>\n",
       "    <tr>\n",
       "      <th>3</th>\n",
       "      <td>25.0</td>\n",
       "      <td>6-10</td>\n",
       "      <td>237.0</td>\n",
       "      <td>PF</td>\n",
       "      <td>adreian payne</td>\n",
       "      <td>Adreian Payne</td>\n",
       "      <td>96</td>\n",
       "      <td>24</td>\n",
       "      <td>13.7</td>\n",
       "      <td>1.7</td>\n",
       "      <td>...</td>\n",
       "      <td>16.4</td>\n",
       "      <td>17.8</td>\n",
       "      <td>-1.5</td>\n",
       "      <td>0.7</td>\n",
       "      <td>-0.8</td>\n",
       "      <td>-0.030</td>\n",
       "      <td>0</td>\n",
       "      <td>-0.8</td>\n",
       "      <td>-5.8</td>\n",
       "      <td>-1.3</td>\n",
       "    </tr>\n",
       "    <tr>\n",
       "      <th>4</th>\n",
       "      <td>30.0</td>\n",
       "      <td>6-10</td>\n",
       "      <td>245.0</td>\n",
       "      <td>C</td>\n",
       "      <td>al horford</td>\n",
       "      <td>Al Horford</td>\n",
       "      <td>618</td>\n",
       "      <td>614</td>\n",
       "      <td>33.4</td>\n",
       "      <td>6.1</td>\n",
       "      <td>...</td>\n",
       "      <td>11.1</td>\n",
       "      <td>19.6</td>\n",
       "      <td>38.2</td>\n",
       "      <td>29.6</td>\n",
       "      <td>67.9</td>\n",
       "      <td>0.158</td>\n",
       "      <td>0</td>\n",
       "      <td>2.2</td>\n",
       "      <td>3.0</td>\n",
       "      <td>26.2</td>\n",
       "    </tr>\n",
       "  </tbody>\n",
       "</table>\n",
       "<p>5 rows × 70 columns</p>\n",
       "</div>"
      ],
      "text/plain": [
       "    Age Height  Weight Pos  cleaned_player          Player    G   GS    MP  \\\n",
       "0  32.0    6-1   161.0  PG    aaron brooks    Aaron Brooks  593  182  21.9   \n",
       "1  21.0    6-9   220.0  SF    aaron gordon    Aaron Gordon  179   91  23.2   \n",
       "2  22.0    6-6   210.0  SG  aaron harrison  Aaron Harrison   26    0   4.2   \n",
       "3  25.0   6-10   237.0  PF   adreian payne   Adreian Payne   96   24  13.7   \n",
       "4  30.0   6-10   245.0   C      al horford      Al Horford  618  614  33.4   \n",
       "\n",
       "    FG  ...   TOV%  USG%   OWS   DWS    WS  WS/48  OBPM  DPM  BPM  VORP  \n",
       "0  3.7  ...   14.4  23.3  10.5   8.6  19.1  0.070     0 -2.4 -1.7   1.1  \n",
       "1  3.4  ...    9.6  17.8   4.1   4.0   8.1  0.094     0  0.4 -0.2   1.8  \n",
       "2  0.2  ...   12.1  13.6  -0.2   0.2  -0.1 -0.033     0 -0.2 -6.4  -0.1  \n",
       "3  1.7  ...   16.4  17.8  -1.5   0.7  -0.8 -0.030     0 -0.8 -5.8  -1.3  \n",
       "4  6.1  ...   11.1  19.6  38.2  29.6  67.9  0.158     0  2.2  3.0  26.2  \n",
       "\n",
       "[5 rows x 70 columns]"
      ]
     },
     "execution_count": 15,
     "metadata": {},
     "output_type": "execute_result"
    }
   ],
   "source": [
    "data = pd.merge(df, scraped_data, how='right', on='cleaned_player')\n",
    "data.rename(columns={'PF':'Fouls'}, inplace=True)\n",
    "data.head()"
   ]
  },
  {
   "cell_type": "code",
   "execution_count": 16,
   "metadata": {
    "collapsed": false
   },
   "outputs": [],
   "source": [
    "data = data.drop('Player', axis=1)"
   ]
  },
  {
   "cell_type": "markdown",
   "metadata": {},
   "source": [
    "### Clean the Data"
   ]
  },
  {
   "cell_type": "markdown",
   "metadata": {},
   "source": [
    "#### Clean the `Height` column"
   ]
  },
  {
   "cell_type": "code",
   "execution_count": 17,
   "metadata": {
    "collapsed": false
   },
   "outputs": [],
   "source": [
    "def inches(string):\n",
    "    try: \n",
    "        result = re.match(\"(\\d)-(\\d+)\", string)\n",
    "        feet = int(result.group(1))\n",
    "        if result.group(2) == \"\":\n",
    "            inches = 0\n",
    "        else:\n",
    "            inches = int(result.group(2))\n",
    "    except:\n",
    "        return None  \n",
    "    return feet * 12 + inches"
   ]
  },
  {
   "cell_type": "code",
   "execution_count": 18,
   "metadata": {
    "collapsed": false
   },
   "outputs": [
    {
     "data": {
      "text/html": [
       "<div>\n",
       "<table border=\"1\" class=\"dataframe\">\n",
       "  <thead>\n",
       "    <tr style=\"text-align: right;\">\n",
       "      <th></th>\n",
       "      <th>Age</th>\n",
       "      <th>Height</th>\n",
       "      <th>Weight</th>\n",
       "      <th>Pos</th>\n",
       "      <th>cleaned_player</th>\n",
       "      <th>G</th>\n",
       "      <th>GS</th>\n",
       "      <th>MP</th>\n",
       "      <th>FG</th>\n",
       "      <th>FGA</th>\n",
       "      <th>...</th>\n",
       "      <th>TOV%</th>\n",
       "      <th>USG%</th>\n",
       "      <th>OWS</th>\n",
       "      <th>DWS</th>\n",
       "      <th>WS</th>\n",
       "      <th>WS/48</th>\n",
       "      <th>OBPM</th>\n",
       "      <th>DPM</th>\n",
       "      <th>BPM</th>\n",
       "      <th>VORP</th>\n",
       "    </tr>\n",
       "  </thead>\n",
       "  <tbody>\n",
       "    <tr>\n",
       "      <th>0</th>\n",
       "      <td>32.0</td>\n",
       "      <td>73.0</td>\n",
       "      <td>161.0</td>\n",
       "      <td>PG</td>\n",
       "      <td>aaron brooks</td>\n",
       "      <td>593</td>\n",
       "      <td>182</td>\n",
       "      <td>21.9</td>\n",
       "      <td>3.7</td>\n",
       "      <td>9.0</td>\n",
       "      <td>...</td>\n",
       "      <td>14.4</td>\n",
       "      <td>23.3</td>\n",
       "      <td>10.5</td>\n",
       "      <td>8.6</td>\n",
       "      <td>19.1</td>\n",
       "      <td>0.070</td>\n",
       "      <td>0</td>\n",
       "      <td>-2.4</td>\n",
       "      <td>-1.7</td>\n",
       "      <td>1.1</td>\n",
       "    </tr>\n",
       "    <tr>\n",
       "      <th>1</th>\n",
       "      <td>21.0</td>\n",
       "      <td>81.0</td>\n",
       "      <td>220.0</td>\n",
       "      <td>SF</td>\n",
       "      <td>aaron gordon</td>\n",
       "      <td>179</td>\n",
       "      <td>91</td>\n",
       "      <td>23.2</td>\n",
       "      <td>3.4</td>\n",
       "      <td>7.4</td>\n",
       "      <td>...</td>\n",
       "      <td>9.6</td>\n",
       "      <td>17.8</td>\n",
       "      <td>4.1</td>\n",
       "      <td>4.0</td>\n",
       "      <td>8.1</td>\n",
       "      <td>0.094</td>\n",
       "      <td>0</td>\n",
       "      <td>0.4</td>\n",
       "      <td>-0.2</td>\n",
       "      <td>1.8</td>\n",
       "    </tr>\n",
       "    <tr>\n",
       "      <th>2</th>\n",
       "      <td>22.0</td>\n",
       "      <td>78.0</td>\n",
       "      <td>210.0</td>\n",
       "      <td>SG</td>\n",
       "      <td>aaron harrison</td>\n",
       "      <td>26</td>\n",
       "      <td>0</td>\n",
       "      <td>4.2</td>\n",
       "      <td>0.2</td>\n",
       "      <td>0.9</td>\n",
       "      <td>...</td>\n",
       "      <td>12.1</td>\n",
       "      <td>13.6</td>\n",
       "      <td>-0.2</td>\n",
       "      <td>0.2</td>\n",
       "      <td>-0.1</td>\n",
       "      <td>-0.033</td>\n",
       "      <td>0</td>\n",
       "      <td>-0.2</td>\n",
       "      <td>-6.4</td>\n",
       "      <td>-0.1</td>\n",
       "    </tr>\n",
       "    <tr>\n",
       "      <th>3</th>\n",
       "      <td>25.0</td>\n",
       "      <td>82.0</td>\n",
       "      <td>237.0</td>\n",
       "      <td>PF</td>\n",
       "      <td>adreian payne</td>\n",
       "      <td>96</td>\n",
       "      <td>24</td>\n",
       "      <td>13.7</td>\n",
       "      <td>1.7</td>\n",
       "      <td>4.2</td>\n",
       "      <td>...</td>\n",
       "      <td>16.4</td>\n",
       "      <td>17.8</td>\n",
       "      <td>-1.5</td>\n",
       "      <td>0.7</td>\n",
       "      <td>-0.8</td>\n",
       "      <td>-0.030</td>\n",
       "      <td>0</td>\n",
       "      <td>-0.8</td>\n",
       "      <td>-5.8</td>\n",
       "      <td>-1.3</td>\n",
       "    </tr>\n",
       "    <tr>\n",
       "      <th>4</th>\n",
       "      <td>30.0</td>\n",
       "      <td>82.0</td>\n",
       "      <td>245.0</td>\n",
       "      <td>C</td>\n",
       "      <td>al horford</td>\n",
       "      <td>618</td>\n",
       "      <td>614</td>\n",
       "      <td>33.4</td>\n",
       "      <td>6.1</td>\n",
       "      <td>11.6</td>\n",
       "      <td>...</td>\n",
       "      <td>11.1</td>\n",
       "      <td>19.6</td>\n",
       "      <td>38.2</td>\n",
       "      <td>29.6</td>\n",
       "      <td>67.9</td>\n",
       "      <td>0.158</td>\n",
       "      <td>0</td>\n",
       "      <td>2.2</td>\n",
       "      <td>3.0</td>\n",
       "      <td>26.2</td>\n",
       "    </tr>\n",
       "  </tbody>\n",
       "</table>\n",
       "<p>5 rows × 69 columns</p>\n",
       "</div>"
      ],
      "text/plain": [
       "    Age  Height  Weight Pos  cleaned_player    G   GS    MP   FG   FGA  ...   \\\n",
       "0  32.0    73.0   161.0  PG    aaron brooks  593  182  21.9  3.7   9.0  ...    \n",
       "1  21.0    81.0   220.0  SF    aaron gordon  179   91  23.2  3.4   7.4  ...    \n",
       "2  22.0    78.0   210.0  SG  aaron harrison   26    0   4.2  0.2   0.9  ...    \n",
       "3  25.0    82.0   237.0  PF   adreian payne   96   24  13.7  1.7   4.2  ...    \n",
       "4  30.0    82.0   245.0   C      al horford  618  614  33.4  6.1  11.6  ...    \n",
       "\n",
       "   TOV%  USG%   OWS   DWS    WS  WS/48  OBPM  DPM  BPM  VORP  \n",
       "0  14.4  23.3  10.5   8.6  19.1  0.070     0 -2.4 -1.7   1.1  \n",
       "1   9.6  17.8   4.1   4.0   8.1  0.094     0  0.4 -0.2   1.8  \n",
       "2  12.1  13.6  -0.2   0.2  -0.1 -0.033     0 -0.2 -6.4  -0.1  \n",
       "3  16.4  17.8  -1.5   0.7  -0.8 -0.030     0 -0.8 -5.8  -1.3  \n",
       "4  11.1  19.6  38.2  29.6  67.9  0.158     0  2.2  3.0  26.2  \n",
       "\n",
       "[5 rows x 69 columns]"
      ]
     },
     "execution_count": 18,
     "metadata": {},
     "output_type": "execute_result"
    }
   ],
   "source": [
    "data['Height'] = data['Height'].apply(inches)\n",
    "data.head()"
   ]
  },
  {
   "cell_type": "code",
   "execution_count": 19,
   "metadata": {
    "collapsed": true
   },
   "outputs": [],
   "source": [
    "# Get Dummies for Player Positions\n",
    "# pos_df = pd.get_dummies(data['Pos'])\n",
    "# df_new = pd.concat([data, pos_df], axis=1)"
   ]
  },
  {
   "cell_type": "code",
   "execution_count": 20,
   "metadata": {
    "collapsed": false
   },
   "outputs": [
    {
     "data": {
      "text/plain": [
       "Index([u'Age', u'Height', u'Weight', u'Pos', u'cleaned_player', u'G', u'GS',\n",
       "       u'MP', u'FG', u'FGA', u'FG%', u'3P', u'3PA', u'3P%', u'2P', u'2PA',\n",
       "       u'2P%', u'eFG%', u'FT', u'FTA', u'FT%', u'ORB', u'DRB', u'TRB', u'AST',\n",
       "       u'STL', u'BLK', u'TOV', u'Fouls', u'PTS', u'AVG_DIST_FGA', u'%FGA_2P',\n",
       "       u'%FGA_0-3ft', u'%FGA_3-10ft', u'%FGA_10-16ft', u'%FGA_16ft<3',\n",
       "       u'%FGA_3P', u'0-3_FG%', u'3-10_FG%', u'10-16_FG%', u'16<3_FG%',\n",
       "       u'%ASTd_2P', u'%FGA_DUNK', u'DUNKS', u'%ASTd_3P', u'%_CORNER3PA',\n",
       "       u'3P%_CORNER3', u'HEAVE_ATT', u'HEAVE_MD', u'PER', u'TS%', u'3PAr',\n",
       "       u'FTr', u'ORB%', u'DRB%', u'TRB%', u'AST%', u'STL%', u'BLK%', u'TOV%',\n",
       "       u'USG%', u'OWS', u'DWS', u'WS', u'WS/48', u'OBPM', u'DPM', u'BPM',\n",
       "       u'VORP'],\n",
       "      dtype='object')"
      ]
     },
     "execution_count": 20,
     "metadata": {},
     "output_type": "execute_result"
    }
   ],
   "source": [
    "data.columns"
   ]
  },
  {
   "cell_type": "code",
   "execution_count": 21,
   "metadata": {
    "collapsed": false
   },
   "outputs": [
    {
     "data": {
      "text/html": [
       "<div>\n",
       "<table border=\"1\" class=\"dataframe\">\n",
       "  <thead>\n",
       "    <tr style=\"text-align: right;\">\n",
       "      <th></th>\n",
       "      <th>Age</th>\n",
       "      <th>Height</th>\n",
       "      <th>Weight</th>\n",
       "      <th>Pos</th>\n",
       "      <th>cleaned_player</th>\n",
       "      <th>MP</th>\n",
       "      <th>FG</th>\n",
       "      <th>FGA</th>\n",
       "      <th>FG%</th>\n",
       "      <th>3P</th>\n",
       "      <th>...</th>\n",
       "      <th>DRB%</th>\n",
       "      <th>TRB%</th>\n",
       "      <th>AST%</th>\n",
       "      <th>STL%</th>\n",
       "      <th>BLK%</th>\n",
       "      <th>TOV%</th>\n",
       "      <th>USG%</th>\n",
       "      <th>OBPM</th>\n",
       "      <th>DPM</th>\n",
       "      <th>BPM</th>\n",
       "    </tr>\n",
       "  </thead>\n",
       "  <tbody>\n",
       "    <tr>\n",
       "      <th>0</th>\n",
       "      <td>32.0</td>\n",
       "      <td>73.0</td>\n",
       "      <td>161.0</td>\n",
       "      <td>PG</td>\n",
       "      <td>aaron brooks</td>\n",
       "      <td>21.9</td>\n",
       "      <td>3.7</td>\n",
       "      <td>9.0</td>\n",
       "      <td>0.413</td>\n",
       "      <td>1.3</td>\n",
       "      <td>...</td>\n",
       "      <td>6.9</td>\n",
       "      <td>4.5</td>\n",
       "      <td>23.8</td>\n",
       "      <td>1.4</td>\n",
       "      <td>0.5</td>\n",
       "      <td>14.4</td>\n",
       "      <td>23.3</td>\n",
       "      <td>0</td>\n",
       "      <td>-2.4</td>\n",
       "      <td>-1.7</td>\n",
       "    </tr>\n",
       "    <tr>\n",
       "      <th>1</th>\n",
       "      <td>21.0</td>\n",
       "      <td>81.0</td>\n",
       "      <td>220.0</td>\n",
       "      <td>SF</td>\n",
       "      <td>aaron gordon</td>\n",
       "      <td>23.2</td>\n",
       "      <td>3.4</td>\n",
       "      <td>7.4</td>\n",
       "      <td>0.451</td>\n",
       "      <td>0.6</td>\n",
       "      <td>...</td>\n",
       "      <td>17.8</td>\n",
       "      <td>12.3</td>\n",
       "      <td>9.8</td>\n",
       "      <td>1.4</td>\n",
       "      <td>2.0</td>\n",
       "      <td>9.6</td>\n",
       "      <td>17.8</td>\n",
       "      <td>0</td>\n",
       "      <td>0.4</td>\n",
       "      <td>-0.2</td>\n",
       "    </tr>\n",
       "    <tr>\n",
       "      <th>2</th>\n",
       "      <td>22.0</td>\n",
       "      <td>78.0</td>\n",
       "      <td>210.0</td>\n",
       "      <td>SG</td>\n",
       "      <td>aaron harrison</td>\n",
       "      <td>4.2</td>\n",
       "      <td>0.2</td>\n",
       "      <td>0.9</td>\n",
       "      <td>0.217</td>\n",
       "      <td>0.1</td>\n",
       "      <td>...</td>\n",
       "      <td>14.0</td>\n",
       "      <td>8.9</td>\n",
       "      <td>6.0</td>\n",
       "      <td>2.7</td>\n",
       "      <td>0.0</td>\n",
       "      <td>12.1</td>\n",
       "      <td>13.6</td>\n",
       "      <td>0</td>\n",
       "      <td>-0.2</td>\n",
       "      <td>-6.4</td>\n",
       "    </tr>\n",
       "    <tr>\n",
       "      <th>3</th>\n",
       "      <td>25.0</td>\n",
       "      <td>82.0</td>\n",
       "      <td>237.0</td>\n",
       "      <td>PF</td>\n",
       "      <td>adreian payne</td>\n",
       "      <td>13.7</td>\n",
       "      <td>1.7</td>\n",
       "      <td>4.2</td>\n",
       "      <td>0.399</td>\n",
       "      <td>0.1</td>\n",
       "      <td>...</td>\n",
       "      <td>19.4</td>\n",
       "      <td>12.8</td>\n",
       "      <td>7.4</td>\n",
       "      <td>1.5</td>\n",
       "      <td>1.5</td>\n",
       "      <td>16.4</td>\n",
       "      <td>17.8</td>\n",
       "      <td>0</td>\n",
       "      <td>-0.8</td>\n",
       "      <td>-5.8</td>\n",
       "    </tr>\n",
       "    <tr>\n",
       "      <th>4</th>\n",
       "      <td>30.0</td>\n",
       "      <td>82.0</td>\n",
       "      <td>245.0</td>\n",
       "      <td>C</td>\n",
       "      <td>al horford</td>\n",
       "      <td>33.4</td>\n",
       "      <td>6.1</td>\n",
       "      <td>11.6</td>\n",
       "      <td>0.529</td>\n",
       "      <td>0.3</td>\n",
       "      <td>...</td>\n",
       "      <td>22.1</td>\n",
       "      <td>15.1</td>\n",
       "      <td>14.7</td>\n",
       "      <td>1.3</td>\n",
       "      <td>2.9</td>\n",
       "      <td>11.1</td>\n",
       "      <td>19.6</td>\n",
       "      <td>0</td>\n",
       "      <td>2.2</td>\n",
       "      <td>3.0</td>\n",
       "    </tr>\n",
       "  </tbody>\n",
       "</table>\n",
       "<p>5 rows × 59 columns</p>\n",
       "</div>"
      ],
      "text/plain": [
       "    Age  Height  Weight Pos  cleaned_player    MP   FG   FGA    FG%   3P ...   \\\n",
       "0  32.0    73.0   161.0  PG    aaron brooks  21.9  3.7   9.0  0.413  1.3 ...    \n",
       "1  21.0    81.0   220.0  SF    aaron gordon  23.2  3.4   7.4  0.451  0.6 ...    \n",
       "2  22.0    78.0   210.0  SG  aaron harrison   4.2  0.2   0.9  0.217  0.1 ...    \n",
       "3  25.0    82.0   237.0  PF   adreian payne  13.7  1.7   4.2  0.399  0.1 ...    \n",
       "4  30.0    82.0   245.0   C      al horford  33.4  6.1  11.6  0.529  0.3 ...    \n",
       "\n",
       "   DRB%  TRB%  AST%  STL%  BLK%  TOV%  USG%  OBPM  DPM  BPM  \n",
       "0   6.9   4.5  23.8   1.4   0.5  14.4  23.3     0 -2.4 -1.7  \n",
       "1  17.8  12.3   9.8   1.4   2.0   9.6  17.8     0  0.4 -0.2  \n",
       "2  14.0   8.9   6.0   2.7   0.0  12.1  13.6     0 -0.2 -6.4  \n",
       "3  19.4  12.8   7.4   1.5   1.5  16.4  17.8     0 -0.8 -5.8  \n",
       "4  22.1  15.1  14.7   1.3   2.9  11.1  19.6     0  2.2  3.0  \n",
       "\n",
       "[5 rows x 59 columns]"
      ]
     },
     "execution_count": 21,
     "metadata": {},
     "output_type": "execute_result"
    }
   ],
   "source": [
    "df_new = data.drop(['G', 'GS', 'DUNKS', 'HEAVE_ATT', 'HEAVE_MD', 'WS', 'OWS', 'DWS', 'WS/48', 'VORP'], axis=1)\n",
    "df_new.head()"
   ]
  },
  {
   "cell_type": "markdown",
   "metadata": {},
   "source": [
    "### Save to CSV"
   ]
  },
  {
   "cell_type": "code",
   "execution_count": 22,
   "metadata": {
    "collapsed": false
   },
   "outputs": [],
   "source": [
    "df_new.to_csv('data/cleaned_player_stats_no_dummies.csv')"
   ]
  },
  {
   "cell_type": "code",
   "execution_count": null,
   "metadata": {
    "collapsed": true
   },
   "outputs": [],
   "source": []
  },
  {
   "cell_type": "code",
   "execution_count": null,
   "metadata": {
    "collapsed": true
   },
   "outputs": [],
   "source": []
  },
  {
   "cell_type": "code",
   "execution_count": null,
   "metadata": {
    "collapsed": true
   },
   "outputs": [],
   "source": []
  }
 ],
 "metadata": {
  "anaconda-cloud": {},
  "kernelspec": {
   "display_name": "Python [Root]",
   "language": "python",
   "name": "Python [Root]"
  },
  "language_info": {
   "codemirror_mode": {
    "name": "ipython",
    "version": 2
   },
   "file_extension": ".py",
   "mimetype": "text/x-python",
   "name": "python",
   "nbconvert_exporter": "python",
   "pygments_lexer": "ipython2",
   "version": "2.7.12"
  }
 },
 "nbformat": 4,
 "nbformat_minor": 0
}

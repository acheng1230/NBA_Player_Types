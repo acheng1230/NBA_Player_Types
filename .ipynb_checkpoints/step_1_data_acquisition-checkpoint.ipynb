{
 "cells": [
  {
   "cell_type": "markdown",
   "metadata": {},
   "source": [
    "<img src=\"assets/br_logo.png\" width=\"400px\">"
   ]
  },
  {
   "cell_type": "markdown",
   "metadata": {},
   "source": [
    "## Web Scraping [Basketball-Reference.com](www.basketball-reference.com) Using Selenium"
   ]
  },
  {
   "cell_type": "markdown",
   "metadata": {},
   "source": [
    "Example Player Page:\n",
    "http://www.basketball-reference.com/players/b/bryanko01.html\n",
    "\n",
    " "
   ]
  },
  {
   "cell_type": "markdown",
   "metadata": {},
   "source": [
    " "
   ]
  },
  {
   "cell_type": "markdown",
   "metadata": {},
   "source": [
    " \n"
   ]
  },
  {
   "cell_type": "markdown",
   "metadata": {},
   "source": [
    "### Using the `web_scrape` module\n",
    "\n",
    "**`web_scrape`**\n",
    "\n",
    "This module contains all the code necessary to web scrape www.Basketball-Reference.com. With this module, you can scrape a player's career averages from four tables on any player's page. In order for the web scrapper to work, you must also feed it a specific player's URL.\n",
    "- `get_per_game()`\n",
    "- `get_100()`\n",
    "- `get_shooting()`\n",
    "- `get_advanced()`\n",
    "\n",
    "In order to obtain the column names, you must also instantiate the column names using these functions. Keep in mind how you order for column name alignment: \n",
    "- `get_pergame_cols()`\n",
    "- `get_100_cols()`\n",
    "- `get_shoot_cols()`\n",
    "- `get_adv_cols()`"
   ]
  },
  {
   "cell_type": "markdown",
   "metadata": {},
   "source": [
    " "
   ]
  },
  {
   "cell_type": "markdown",
   "metadata": {},
   "source": [
    "### Import Module"
   ]
  },
  {
   "cell_type": "code",
   "execution_count": 1,
   "metadata": {
    "collapsed": false
   },
   "outputs": [],
   "source": [
    "from lib.web_scrape import get_100, get_100_cols, get_shooting, get_shoot_cols, get_advanced, get_adv_cols"
   ]
  },
  {
   "cell_type": "markdown",
   "metadata": {},
   "source": [
    " "
   ]
  },
  {
   "cell_type": "markdown",
   "metadata": {},
   "source": [
    "### Import Packages"
   ]
  },
  {
   "cell_type": "code",
   "execution_count": 2,
   "metadata": {
    "collapsed": true
   },
   "outputs": [],
   "source": [
    "import numpy as np\n",
    "import pandas as pd"
   ]
  },
  {
   "cell_type": "markdown",
   "metadata": {},
   "source": [
    " "
   ]
  },
  {
   "cell_type": "markdown",
   "metadata": {},
   "source": [
    "### Import Data"
   ]
  },
  {
   "cell_type": "code",
   "execution_count": 3,
   "metadata": {
    "collapsed": true
   },
   "outputs": [],
   "source": [
    "file_loc = \"data/example_players.csv\""
   ]
  },
  {
   "cell_type": "code",
   "execution_count": 12,
   "metadata": {
    "collapsed": false
   },
   "outputs": [
    {
     "data": {
      "text/html": [
       "<div>\n",
       "<table border=\"1\" class=\"dataframe\">\n",
       "  <thead>\n",
       "    <tr style=\"text-align: right;\">\n",
       "      <th></th>\n",
       "      <th>Season</th>\n",
       "      <th>Player</th>\n",
       "      <th>Pos</th>\n",
       "      <th>Player_ID</th>\n",
       "      <th>url</th>\n",
       "    </tr>\n",
       "  </thead>\n",
       "  <tbody>\n",
       "    <tr>\n",
       "      <th>0</th>\n",
       "      <td>Inactive</td>\n",
       "      <td>A.J. Price</td>\n",
       "      <td>PG</td>\n",
       "      <td>priceaj01</td>\n",
       "      <td>file:///Users/alexcheng/Downloads/us.sitesucke...</td>\n",
       "    </tr>\n",
       "    <tr>\n",
       "      <th>1</th>\n",
       "      <td>Active</td>\n",
       "      <td>Aaron Brooks</td>\n",
       "      <td>PG</td>\n",
       "      <td>brookaa01</td>\n",
       "      <td>file:///Users/alexcheng/Downloads/us.sitesucke...</td>\n",
       "    </tr>\n",
       "    <tr>\n",
       "      <th>2</th>\n",
       "      <td>Active</td>\n",
       "      <td>Aaron Gordon</td>\n",
       "      <td>SF</td>\n",
       "      <td>gordoaa01</td>\n",
       "      <td>file:///Users/alexcheng/Downloads/us.sitesucke...</td>\n",
       "    </tr>\n",
       "    <tr>\n",
       "      <th>3</th>\n",
       "      <td>Active</td>\n",
       "      <td>Aaron Harrison</td>\n",
       "      <td>SG</td>\n",
       "      <td>harriaa01</td>\n",
       "      <td>file:///Users/alexcheng/Downloads/us.sitesucke...</td>\n",
       "    </tr>\n",
       "    <tr>\n",
       "      <th>4</th>\n",
       "      <td>Active</td>\n",
       "      <td>Adreian Payne</td>\n",
       "      <td>PF</td>\n",
       "      <td>paynead01</td>\n",
       "      <td>file:///Users/alexcheng/Downloads/us.sitesucke...</td>\n",
       "    </tr>\n",
       "  </tbody>\n",
       "</table>\n",
       "</div>"
      ],
      "text/plain": [
       "     Season          Player Pos  Player_ID  \\\n",
       "0  Inactive      A.J. Price  PG  priceaj01   \n",
       "1    Active    Aaron Brooks  PG  brookaa01   \n",
       "2    Active    Aaron Gordon  SF  gordoaa01   \n",
       "3    Active  Aaron Harrison  SG  harriaa01   \n",
       "4    Active   Adreian Payne  PF  paynead01   \n",
       "\n",
       "                                                 url  \n",
       "0  file:///Users/alexcheng/Downloads/us.sitesucke...  \n",
       "1  file:///Users/alexcheng/Downloads/us.sitesucke...  \n",
       "2  file:///Users/alexcheng/Downloads/us.sitesucke...  \n",
       "3  file:///Users/alexcheng/Downloads/us.sitesucke...  \n",
       "4  file:///Users/alexcheng/Downloads/us.sitesucke...  "
      ]
     },
     "execution_count": 12,
     "metadata": {},
     "output_type": "execute_result"
    }
   ],
   "source": [
    "player_stats = pd.read_csv(file_loc)\n",
    "player_stats.head()"
   ]
  },
  {
   "cell_type": "markdown",
   "metadata": {},
   "source": [
    " "
   ]
  },
  {
   "cell_type": "markdown",
   "metadata": {},
   "source": [
    "### Web Scrape"
   ]
  },
  {
   "cell_type": "code",
   "execution_count": 5,
   "metadata": {
    "collapsed": false
   },
   "outputs": [],
   "source": [
    "# Create a list of URLs to feed the web scraper\n",
    "url_list = list(player_stats['url'])"
   ]
  },
  {
   "cell_type": "code",
   "execution_count": 6,
   "metadata": {
    "collapsed": true
   },
   "outputs": [],
   "source": [
    "# Temporary list used to save scraped data in memory\n",
    "tmp_list = []"
   ]
  },
  {
   "cell_type": "code",
   "execution_count": 7,
   "metadata": {
    "collapsed": false,
    "scrolled": true
   },
   "outputs": [],
   "source": [
    "# Web Scraping\n",
    "for url in url_list:\n",
    "    # Select which tables to scrape from\n",
    "    per_100 = get_100(url)\n",
    "    shooting = get_shooting(url)\n",
    "    advanced = get_advanced(url)\n",
    "    \n",
    "    # Build dataframe in order\n",
    "    df = [per_100, shooting, advanced]\n",
    "    player_stats = []\n",
    "    for sublist in df:\n",
    "        for val in sublist:\n",
    "            player_stats.append(val)\n",
    "    \n",
    "    # Save to temporary list\n",
    "    tmp_list.append(player_stats)"
   ]
  },
  {
   "cell_type": "code",
   "execution_count": 8,
   "metadata": {
    "collapsed": false
   },
   "outputs": [],
   "source": [
    "# Retrieve columns\n",
    "per_100_cols = get_100_cols()\n",
    "shoot_cols = get_shoot_cols()\n",
    "advanced_cols = get_adv_cols()\n",
    "\n",
    "tmp_list1 = [per_100_cols, shoot_cols, advanced_cols]\n",
    "cols = []\n",
    "for sublist in tmp_list1:\n",
    "    for val in sublist:\n",
    "        cols.append(val)"
   ]
  },
  {
   "cell_type": "code",
   "execution_count": 9,
   "metadata": {
    "collapsed": false
   },
   "outputs": [
    {
     "data": {
      "text/html": [
       "<div>\n",
       "<table border=\"1\" class=\"dataframe\">\n",
       "  <thead>\n",
       "    <tr style=\"text-align: right;\">\n",
       "      <th></th>\n",
       "      <th>Player_ID</th>\n",
       "      <th>GAMES</th>\n",
       "      <th>GS</th>\n",
       "      <th>MP_</th>\n",
       "      <th>FG_100</th>\n",
       "      <th>FGA_100</th>\n",
       "      <th>FG%_100</th>\n",
       "      <th>3P_100</th>\n",
       "      <th>3PA_100</th>\n",
       "      <th>3P%_100</th>\n",
       "      <th>...</th>\n",
       "      <th>TOV%</th>\n",
       "      <th>USG%</th>\n",
       "      <th>OWS</th>\n",
       "      <th>DWS</th>\n",
       "      <th>WS</th>\n",
       "      <th>WS/48</th>\n",
       "      <th>OBPM</th>\n",
       "      <th>DPM</th>\n",
       "      <th>BPM</th>\n",
       "      <th>VORP</th>\n",
       "    </tr>\n",
       "  </thead>\n",
       "  <tbody>\n",
       "    <tr>\n",
       "      <th>0</th>\n",
       "      <td>priceaj01</td>\n",
       "      <td>261.0</td>\n",
       "      <td>25.0</td>\n",
       "      <td>3929.0</td>\n",
       "      <td>7.2</td>\n",
       "      <td>18.8</td>\n",
       "      <td>0.380</td>\n",
       "      <td>2.8</td>\n",
       "      <td>9.0</td>\n",
       "      <td>0.316</td>\n",
       "      <td>...</td>\n",
       "      <td>12.8</td>\n",
       "      <td>20.5</td>\n",
       "      <td>1.2</td>\n",
       "      <td>3.5</td>\n",
       "      <td>4.7</td>\n",
       "      <td>0.058</td>\n",
       "      <td>-0.3</td>\n",
       "      <td>-2.1</td>\n",
       "      <td>-2.4</td>\n",
       "      <td>-0.4</td>\n",
       "    </tr>\n",
       "    <tr>\n",
       "      <th>1</th>\n",
       "      <td>brookaa01</td>\n",
       "      <td>594.0</td>\n",
       "      <td>182.0</td>\n",
       "      <td>13016.0</td>\n",
       "      <td>8.7</td>\n",
       "      <td>21.0</td>\n",
       "      <td>0.413</td>\n",
       "      <td>3.1</td>\n",
       "      <td>8.5</td>\n",
       "      <td>0.368</td>\n",
       "      <td>...</td>\n",
       "      <td>14.4</td>\n",
       "      <td>23.3</td>\n",
       "      <td>10.5</td>\n",
       "      <td>8.5</td>\n",
       "      <td>19.0</td>\n",
       "      <td>0.070</td>\n",
       "      <td>0.7</td>\n",
       "      <td>-2.4</td>\n",
       "      <td>-1.7</td>\n",
       "      <td>1.1</td>\n",
       "    </tr>\n",
       "    <tr>\n",
       "      <th>2</th>\n",
       "      <td>gordoaa01</td>\n",
       "      <td>182.0</td>\n",
       "      <td>94.0</td>\n",
       "      <td>4238.0</td>\n",
       "      <td>7.2</td>\n",
       "      <td>16.1</td>\n",
       "      <td>0.450</td>\n",
       "      <td>1.3</td>\n",
       "      <td>4.5</td>\n",
       "      <td>0.289</td>\n",
       "      <td>...</td>\n",
       "      <td>9.8</td>\n",
       "      <td>17.8</td>\n",
       "      <td>4.1</td>\n",
       "      <td>4.1</td>\n",
       "      <td>8.1</td>\n",
       "      <td>0.092</td>\n",
       "      <td>-0.6</td>\n",
       "      <td>0.4</td>\n",
       "      <td>-0.3</td>\n",
       "      <td>1.9</td>\n",
       "    </tr>\n",
       "    <tr>\n",
       "      <th>3</th>\n",
       "      <td>harriaa01</td>\n",
       "      <td>26.0</td>\n",
       "      <td>0.0</td>\n",
       "      <td>110.0</td>\n",
       "      <td>2.3</td>\n",
       "      <td>10.5</td>\n",
       "      <td>0.217</td>\n",
       "      <td>1.4</td>\n",
       "      <td>5.5</td>\n",
       "      <td>0.250</td>\n",
       "      <td>...</td>\n",
       "      <td>12.1</td>\n",
       "      <td>13.6</td>\n",
       "      <td>-0.2</td>\n",
       "      <td>0.2</td>\n",
       "      <td>-0.1</td>\n",
       "      <td>-0.033</td>\n",
       "      <td>-6.2</td>\n",
       "      <td>-0.2</td>\n",
       "      <td>-6.4</td>\n",
       "      <td>-0.1</td>\n",
       "    </tr>\n",
       "    <tr>\n",
       "      <th>4</th>\n",
       "      <td>paynead01</td>\n",
       "      <td>96.0</td>\n",
       "      <td>24.0</td>\n",
       "      <td>1317.0</td>\n",
       "      <td>6.2</td>\n",
       "      <td>15.5</td>\n",
       "      <td>0.399</td>\n",
       "      <td>0.5</td>\n",
       "      <td>2.0</td>\n",
       "      <td>0.235</td>\n",
       "      <td>...</td>\n",
       "      <td>16.4</td>\n",
       "      <td>17.8</td>\n",
       "      <td>-1.5</td>\n",
       "      <td>0.7</td>\n",
       "      <td>-0.8</td>\n",
       "      <td>-0.030</td>\n",
       "      <td>-4.9</td>\n",
       "      <td>-0.8</td>\n",
       "      <td>-5.8</td>\n",
       "      <td>-1.3</td>\n",
       "    </tr>\n",
       "  </tbody>\n",
       "</table>\n",
       "<p>5 rows × 75 columns</p>\n",
       "</div>"
      ],
      "text/plain": [
       "   Player_ID  GAMES     GS      MP_  FG_100  FGA_100  FG%_100  3P_100  \\\n",
       "0  priceaj01  261.0   25.0   3929.0     7.2     18.8    0.380     2.8   \n",
       "1  brookaa01  594.0  182.0  13016.0     8.7     21.0    0.413     3.1   \n",
       "2  gordoaa01  182.0   94.0   4238.0     7.2     16.1    0.450     1.3   \n",
       "3  harriaa01   26.0    0.0    110.0     2.3     10.5    0.217     1.4   \n",
       "4  paynead01   96.0   24.0   1317.0     6.2     15.5    0.399     0.5   \n",
       "\n",
       "   3PA_100  3P%_100  ...   TOV%  USG%   OWS  DWS    WS  WS/48  OBPM  DPM  BPM  \\\n",
       "0      9.0    0.316  ...   12.8  20.5   1.2  3.5   4.7  0.058  -0.3 -2.1 -2.4   \n",
       "1      8.5    0.368  ...   14.4  23.3  10.5  8.5  19.0  0.070   0.7 -2.4 -1.7   \n",
       "2      4.5    0.289  ...    9.8  17.8   4.1  4.1   8.1  0.092  -0.6  0.4 -0.3   \n",
       "3      5.5    0.250  ...   12.1  13.6  -0.2  0.2  -0.1 -0.033  -6.2 -0.2 -6.4   \n",
       "4      2.0    0.235  ...   16.4  17.8  -1.5  0.7  -0.8 -0.030  -4.9 -0.8 -5.8   \n",
       "\n",
       "   VORP  \n",
       "0  -0.4  \n",
       "1   1.1  \n",
       "2   1.9  \n",
       "3  -0.1  \n",
       "4  -1.3  \n",
       "\n",
       "[5 rows x 75 columns]"
      ]
     },
     "execution_count": 9,
     "metadata": {},
     "output_type": "execute_result"
    }
   ],
   "source": [
    "# Build dataframe\n",
    "cleaned_stats = pd.DataFrame(tmp_list, columns=cols)\n",
    "cleaned_stats.head()"
   ]
  },
  {
   "cell_type": "code",
   "execution_count": 13,
   "metadata": {
    "collapsed": false
   },
   "outputs": [],
   "source": [
    "# Merge dataframes to combine names \n",
    "cumulative_player_stats = pd.merge(player_stats, cleaned_stats, on='Player_ID', how='right')"
   ]
  },
  {
   "cell_type": "code",
   "execution_count": 14,
   "metadata": {
    "collapsed": true
   },
   "outputs": [],
   "source": [
    "file1_loc = \"data/example_player_stats.csv\"\n",
    "\n",
    "# Save to CSV\n",
    "cumulative_player_stats.to_csv(file1_loc)"
   ]
  },
  {
   "cell_type": "code",
   "execution_count": null,
   "metadata": {
    "collapsed": true
   },
   "outputs": [],
   "source": []
  }
 ],
 "metadata": {
  "anaconda-cloud": {},
  "kernelspec": {
   "display_name": "Python 2",
   "language": "python",
   "name": "python2"
  },
  "language_info": {
   "codemirror_mode": {
    "name": "ipython",
    "version": 2
   },
   "file_extension": ".py",
   "mimetype": "text/x-python",
   "name": "python",
   "nbconvert_exporter": "python",
   "pygments_lexer": "ipython2",
   "version": "2.7.13"
  }
 },
 "nbformat": 4,
 "nbformat_minor": 0
}

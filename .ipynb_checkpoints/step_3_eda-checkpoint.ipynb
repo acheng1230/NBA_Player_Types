{
 "cells": [
  {
   "cell_type": "code",
   "execution_count": 1,
   "metadata": {
    "collapsed": true
   },
   "outputs": [],
   "source": [
    "import numpy as np\n",
    "import pandas as pd"
   ]
  },
  {
   "cell_type": "code",
   "execution_count": 2,
   "metadata": {
    "collapsed": false
   },
   "outputs": [
    {
     "data": {
      "text/html": [
       "<div>\n",
       "<table border=\"1\" class=\"dataframe\">\n",
       "  <thead>\n",
       "    <tr style=\"text-align: right;\">\n",
       "      <th></th>\n",
       "      <th>X1</th>\n",
       "      <th>X2</th>\n",
       "      <th>labels</th>\n",
       "      <th>Player</th>\n",
       "      <th>Status</th>\n",
       "      <th>Player_ID</th>\n",
       "      <th>ORtg</th>\n",
       "      <th>DRtg</th>\n",
       "      <th>PER</th>\n",
       "      <th>TS%</th>\n",
       "      <th>...</th>\n",
       "      <th>TOV%</th>\n",
       "      <th>USG%</th>\n",
       "      <th>OWS</th>\n",
       "      <th>DWS</th>\n",
       "      <th>WS</th>\n",
       "      <th>WS/48</th>\n",
       "      <th>OBPM</th>\n",
       "      <th>DPM</th>\n",
       "      <th>BPM</th>\n",
       "      <th>VORP</th>\n",
       "    </tr>\n",
       "  </thead>\n",
       "  <tbody>\n",
       "    <tr>\n",
       "      <th>0</th>\n",
       "      <td>-3.721358</td>\n",
       "      <td>0.734826</td>\n",
       "      <td>Combo Guards</td>\n",
       "      <td>A.J. Price</td>\n",
       "      <td>Inactive</td>\n",
       "      <td>priceaj01</td>\n",
       "      <td>100</td>\n",
       "      <td>108</td>\n",
       "      <td>12.2</td>\n",
       "      <td>0.486</td>\n",
       "      <td>...</td>\n",
       "      <td>12.8</td>\n",
       "      <td>20.5</td>\n",
       "      <td>1.2</td>\n",
       "      <td>3.5</td>\n",
       "      <td>4.7</td>\n",
       "      <td>0.058</td>\n",
       "      <td>-0.3</td>\n",
       "      <td>-2.1</td>\n",
       "      <td>-2.4</td>\n",
       "      <td>-0.4</td>\n",
       "    </tr>\n",
       "    <tr>\n",
       "      <th>1</th>\n",
       "      <td>-3.382158</td>\n",
       "      <td>1.127596</td>\n",
       "      <td>Combo Guards</td>\n",
       "      <td>Aaron Brooks</td>\n",
       "      <td>Active</td>\n",
       "      <td>brookaa01</td>\n",
       "      <td>104</td>\n",
       "      <td>110</td>\n",
       "      <td>13.5</td>\n",
       "      <td>0.525</td>\n",
       "      <td>...</td>\n",
       "      <td>14.4</td>\n",
       "      <td>23.3</td>\n",
       "      <td>10.5</td>\n",
       "      <td>8.5</td>\n",
       "      <td>19.0</td>\n",
       "      <td>0.070</td>\n",
       "      <td>0.7</td>\n",
       "      <td>-2.4</td>\n",
       "      <td>-1.7</td>\n",
       "      <td>1.1</td>\n",
       "    </tr>\n",
       "    <tr>\n",
       "      <th>2</th>\n",
       "      <td>0.532340</td>\n",
       "      <td>-0.575657</td>\n",
       "      <td>Versatile Forwards</td>\n",
       "      <td>Aaron Gordon</td>\n",
       "      <td>Active</td>\n",
       "      <td>gordoaa01</td>\n",
       "      <td>107</td>\n",
       "      <td>108</td>\n",
       "      <td>14.3</td>\n",
       "      <td>0.522</td>\n",
       "      <td>...</td>\n",
       "      <td>9.8</td>\n",
       "      <td>17.8</td>\n",
       "      <td>4.1</td>\n",
       "      <td>4.1</td>\n",
       "      <td>8.1</td>\n",
       "      <td>0.092</td>\n",
       "      <td>-0.6</td>\n",
       "      <td>0.4</td>\n",
       "      <td>-0.3</td>\n",
       "      <td>1.9</td>\n",
       "    </tr>\n",
       "    <tr>\n",
       "      <th>3</th>\n",
       "      <td>1.502679</td>\n",
       "      <td>0.146058</td>\n",
       "      <td>Versatile Forwards</td>\n",
       "      <td>Adreian Payne</td>\n",
       "      <td>Active</td>\n",
       "      <td>paynead01</td>\n",
       "      <td>87</td>\n",
       "      <td>110</td>\n",
       "      <td>7.4</td>\n",
       "      <td>0.444</td>\n",
       "      <td>...</td>\n",
       "      <td>16.4</td>\n",
       "      <td>17.8</td>\n",
       "      <td>-1.5</td>\n",
       "      <td>0.7</td>\n",
       "      <td>-0.8</td>\n",
       "      <td>-0.030</td>\n",
       "      <td>-4.9</td>\n",
       "      <td>-0.8</td>\n",
       "      <td>-5.8</td>\n",
       "      <td>-1.3</td>\n",
       "    </tr>\n",
       "    <tr>\n",
       "      <th>4</th>\n",
       "      <td>2.351004</td>\n",
       "      <td>0.469768</td>\n",
       "      <td>Offensive Centers</td>\n",
       "      <td>Al Horford</td>\n",
       "      <td>Active</td>\n",
       "      <td>horfoal01</td>\n",
       "      <td>114</td>\n",
       "      <td>104</td>\n",
       "      <td>19.0</td>\n",
       "      <td>0.568</td>\n",
       "      <td>...</td>\n",
       "      <td>11.2</td>\n",
       "      <td>19.6</td>\n",
       "      <td>38.2</td>\n",
       "      <td>29.8</td>\n",
       "      <td>68.0</td>\n",
       "      <td>0.157</td>\n",
       "      <td>0.8</td>\n",
       "      <td>2.2</td>\n",
       "      <td>3.0</td>\n",
       "      <td>26.2</td>\n",
       "    </tr>\n",
       "  </tbody>\n",
       "</table>\n",
       "<p>5 rows × 28 columns</p>\n",
       "</div>"
      ],
      "text/plain": [
       "         X1        X2              labels         Player    Status  Player_ID  \\\n",
       "0 -3.721358  0.734826        Combo Guards     A.J. Price  Inactive  priceaj01   \n",
       "1 -3.382158  1.127596        Combo Guards   Aaron Brooks    Active  brookaa01   \n",
       "2  0.532340 -0.575657  Versatile Forwards   Aaron Gordon    Active  gordoaa01   \n",
       "3  1.502679  0.146058  Versatile Forwards  Adreian Payne    Active  paynead01   \n",
       "4  2.351004  0.469768   Offensive Centers     Al Horford    Active  horfoal01   \n",
       "\n",
       "   ORtg  DRtg   PER    TS%  ...   TOV%  USG%   OWS   DWS    WS  WS/48  OBPM  \\\n",
       "0   100   108  12.2  0.486  ...   12.8  20.5   1.2   3.5   4.7  0.058  -0.3   \n",
       "1   104   110  13.5  0.525  ...   14.4  23.3  10.5   8.5  19.0  0.070   0.7   \n",
       "2   107   108  14.3  0.522  ...    9.8  17.8   4.1   4.1   8.1  0.092  -0.6   \n",
       "3    87   110   7.4  0.444  ...   16.4  17.8  -1.5   0.7  -0.8 -0.030  -4.9   \n",
       "4   114   104  19.0  0.568  ...   11.2  19.6  38.2  29.8  68.0  0.157   0.8   \n",
       "\n",
       "   DPM  BPM  VORP  \n",
       "0 -2.1 -2.4  -0.4  \n",
       "1 -2.4 -1.7   1.1  \n",
       "2  0.4 -0.3   1.9  \n",
       "3 -0.8 -5.8  -1.3  \n",
       "4  2.2  3.0  26.2  \n",
       "\n",
       "[5 rows x 28 columns]"
      ]
     },
     "execution_count": 2,
     "metadata": {},
     "output_type": "execute_result"
    }
   ],
   "source": [
    "df = pd.read_csv('/Users/alexcheng/Desktop/off_def_merged.csv')\n",
    "df.head()"
   ]
  },
  {
   "cell_type": "code",
   "execution_count": 3,
   "metadata": {
    "collapsed": false
   },
   "outputs": [
    {
     "data": {
      "text/plain": [
       "Index([u'X1', u'X2', u'labels', u'Player', u'Status', u'Player_ID', u'ORtg',\n",
       "       u'DRtg', u'PER', u'TS%', u'3PAr', u'FTr', u'ORB%', u'DRB%', u'TRB%',\n",
       "       u'AST%', u'STL%', u'BLK%', u'TOV%', u'USG%', u'OWS', u'DWS', u'WS',\n",
       "       u'WS/48', u'OBPM', u'DPM', u'BPM', u'VORP'],\n",
       "      dtype='object')"
      ]
     },
     "execution_count": 3,
     "metadata": {},
     "output_type": "execute_result"
    }
   ],
   "source": [
    "df.columns"
   ]
  },
  {
   "cell_type": "code",
   "execution_count": 4,
   "metadata": {
    "collapsed": false
   },
   "outputs": [],
   "source": [
    "df.drop(['X1', 'X2', 'Status', 'Player_ID'], axis=1, inplace=True)"
   ]
  },
  {
   "cell_type": "code",
   "execution_count": 5,
   "metadata": {
    "collapsed": false
   },
   "outputs": [],
   "source": [
    "mask0 = (df['labels'] == 'Defensive Centers')\n",
    "mask1 = (df['labels'] == '3-and-D Wings')\n",
    "mask2 = (df['labels'] == 'Scoring Wings')\n",
    "mask3 = (df['labels'] == 'Versatile Forwards')\n",
    "mask4 = (df['labels'] == 'Floor Generals')\n",
    "mask5 = (df['labels'] == 'Shooting Wings')\n",
    "mask6 = (df['labels'] == 'Combo Guards')\n",
    "mask7 = (df['labels'] == 'Offensive Centers')"
   ]
  },
  {
   "cell_type": "code",
   "execution_count": 6,
   "metadata": {
    "collapsed": false
   },
   "outputs": [],
   "source": [
    "defensive_center = df[mask0]\n",
    "threed_wings = df[mask1]\n",
    "scoring_wings = df[mask2]\n",
    "versatile_forwards = df[mask3]\n",
    "floor_generals = df[mask4]\n",
    "shooting_wings = df[mask5]\n",
    "combo_guards = df[mask6]\n",
    "offensive_center = df[mask7]"
   ]
  },
  {
   "cell_type": "code",
   "execution_count": 16,
   "metadata": {
    "collapsed": false
   },
   "outputs": [],
   "source": [
    "offensive_center.describe().to_csv('/Users/alexcheng/Desktop/averages/off_cen_mean.csv')"
   ]
  },
  {
   "cell_type": "code",
   "execution_count": null,
   "metadata": {
    "collapsed": true
   },
   "outputs": [],
   "source": []
  }
 ],
 "metadata": {
  "kernelspec": {
   "display_name": "Python 2",
   "language": "python",
   "name": "python2"
  },
  "language_info": {
   "codemirror_mode": {
    "name": "ipython",
    "version": 2
   },
   "file_extension": ".py",
   "mimetype": "text/x-python",
   "name": "python",
   "nbconvert_exporter": "python",
   "pygments_lexer": "ipython2",
   "version": "2.7.13"
  }
 },
 "nbformat": 4,
 "nbformat_minor": 0
}

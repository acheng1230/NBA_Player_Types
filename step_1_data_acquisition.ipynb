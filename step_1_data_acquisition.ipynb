{
 "cells": [
  {
   "cell_type": "markdown",
   "metadata": {},
   "source": [
    "<img src=\"assets/br_logo.png\" width=\"400px\">"
   ]
  },
  {
   "cell_type": "markdown",
   "metadata": {},
   "source": [
    "## Web Scraping [Basketball-Reference.com](www.basketball-reference.com) Using Selenium"
   ]
  },
  {
   "cell_type": "markdown",
   "metadata": {},
   "source": [
    "Example Player Page:\n",
    "http://www.basketball-reference.com/players/b/bryanko01.html\n",
    "\n",
    " "
   ]
  },
  {
   "cell_type": "markdown",
   "metadata": {},
   "source": [
    " "
   ]
  },
  {
   "cell_type": "markdown",
   "metadata": {},
   "source": [
    " \n"
   ]
  },
  {
   "cell_type": "markdown",
   "metadata": {},
   "source": [
    "### Using the `web_scrape` module\n",
    "\n",
    "**`web_scrape`**\n",
    "\n",
    "This module contains all the code necessary to web scrape www.Basketball-Reference.com. With this module, you can scrape a player's career averages from four tables on any player's page. In order for the web scrapper to work, you must also feed it a specific player's URL.\n",
    "- `get_per_game()`\n",
    "- `get_100()`\n",
    "- `get_shooting()`\n",
    "- `get_advanced()`\n",
    "\n",
    "In order to obtain the column names, you must also instantiate the column names using these functions. Keep in mind how you order for column name alignment: \n",
    "- `get_pergame_cols()`\n",
    "- `get_100_cols()`\n",
    "- `get_shoot_cols()`\n",
    "- `get_adv_cols()`"
   ]
  },
  {
   "cell_type": "markdown",
   "metadata": {},
   "source": [
    " "
   ]
  },
  {
   "cell_type": "markdown",
   "metadata": {},
   "source": [
    "### Import Module"
   ]
  },
  {
   "cell_type": "code",
   "execution_count": 1,
   "metadata": {
    "collapsed": false
   },
   "outputs": [],
   "source": [
    "from lib.web_scrape import get_100, get_100_cols, get_shooting, get_shoot_cols, get_advanced, get_adv_cols"
   ]
  },
  {
   "cell_type": "markdown",
   "metadata": {},
   "source": [
    " "
   ]
  },
  {
   "cell_type": "markdown",
   "metadata": {},
   "source": [
    "### Import Packages"
   ]
  },
  {
   "cell_type": "code",
   "execution_count": 2,
   "metadata": {
    "collapsed": true
   },
   "outputs": [],
   "source": [
    "import numpy as np\n",
    "import pandas as pd"
   ]
  },
  {
   "cell_type": "markdown",
   "metadata": {},
   "source": [
    " "
   ]
  },
  {
   "cell_type": "markdown",
   "metadata": {},
   "source": [
    "### Import Data"
   ]
  },
  {
   "cell_type": "code",
   "execution_count": 3,
   "metadata": {
    "collapsed": true
   },
   "outputs": [],
   "source": [
    "file_loc = \"data/example_players.csv\""
   ]
  },
  {
   "cell_type": "code",
   "execution_count": 4,
   "metadata": {
    "collapsed": false
   },
   "outputs": [
    {
     "data": {
      "text/html": [
       "<div>\n",
       "<table border=\"1\" class=\"dataframe\">\n",
       "  <thead>\n",
       "    <tr style=\"text-align: right;\">\n",
       "      <th></th>\n",
       "      <th>Season</th>\n",
       "      <th>Player</th>\n",
       "      <th>Pos</th>\n",
       "      <th>Player_ID</th>\n",
       "      <th>url</th>\n",
       "    </tr>\n",
       "  </thead>\n",
       "  <tbody>\n",
       "    <tr>\n",
       "      <th>0</th>\n",
       "      <td>Inactive</td>\n",
       "      <td>A.J. Price</td>\n",
       "      <td>PG</td>\n",
       "      <td>priceaj01</td>\n",
       "      <td>file:///Users/alexcheng/Downloads/us.sitesucke...</td>\n",
       "    </tr>\n",
       "    <tr>\n",
       "      <th>1</th>\n",
       "      <td>Active</td>\n",
       "      <td>Aaron Brooks</td>\n",
       "      <td>PG</td>\n",
       "      <td>brookaa01</td>\n",
       "      <td>file:///Users/alexcheng/Downloads/us.sitesucke...</td>\n",
       "    </tr>\n",
       "    <tr>\n",
       "      <th>2</th>\n",
       "      <td>Active</td>\n",
       "      <td>Aaron Gordon</td>\n",
       "      <td>SF</td>\n",
       "      <td>gordoaa01</td>\n",
       "      <td>file:///Users/alexcheng/Downloads/us.sitesucke...</td>\n",
       "    </tr>\n",
       "    <tr>\n",
       "      <th>3</th>\n",
       "      <td>Active</td>\n",
       "      <td>Aaron Harrison</td>\n",
       "      <td>SG</td>\n",
       "      <td>harriaa01</td>\n",
       "      <td>file:///Users/alexcheng/Downloads/us.sitesucke...</td>\n",
       "    </tr>\n",
       "    <tr>\n",
       "      <th>4</th>\n",
       "      <td>Active</td>\n",
       "      <td>Adreian Payne</td>\n",
       "      <td>PF</td>\n",
       "      <td>paynead01</td>\n",
       "      <td>file:///Users/alexcheng/Downloads/us.sitesucke...</td>\n",
       "    </tr>\n",
       "  </tbody>\n",
       "</table>\n",
       "</div>"
      ],
      "text/plain": [
       "     Season          Player Pos  Player_ID  \\\n",
       "0  Inactive      A.J. Price  PG  priceaj01   \n",
       "1    Active    Aaron Brooks  PG  brookaa01   \n",
       "2    Active    Aaron Gordon  SF  gordoaa01   \n",
       "3    Active  Aaron Harrison  SG  harriaa01   \n",
       "4    Active   Adreian Payne  PF  paynead01   \n",
       "\n",
       "                                                 url  \n",
       "0  file:///Users/alexcheng/Downloads/us.sitesucke...  \n",
       "1  file:///Users/alexcheng/Downloads/us.sitesucke...  \n",
       "2  file:///Users/alexcheng/Downloads/us.sitesucke...  \n",
       "3  file:///Users/alexcheng/Downloads/us.sitesucke...  \n",
       "4  file:///Users/alexcheng/Downloads/us.sitesucke...  "
      ]
     },
     "execution_count": 4,
     "metadata": {},
     "output_type": "execute_result"
    }
   ],
   "source": [
    "player_stats = pd.read_csv(file_loc)\n",
    "player_stats.head()"
   ]
  },
  {
   "cell_type": "markdown",
   "metadata": {},
   "source": [
    " "
   ]
  },
  {
   "cell_type": "markdown",
   "metadata": {},
   "source": [
    "### Web Scrape"
   ]
  },
  {
   "cell_type": "code",
   "execution_count": 5,
   "metadata": {
    "collapsed": false
   },
   "outputs": [],
   "source": [
    "# Create a list of URLs to feed the web scraper\n",
    "url_list = list(player_stats['url'])"
   ]
  },
  {
   "cell_type": "code",
   "execution_count": 6,
   "metadata": {
    "collapsed": true
   },
   "outputs": [],
   "source": [
    "# Temporary list used to save scraped data in memory\n",
    "tmp_list = []"
   ]
  },
  {
   "cell_type": "code",
   "execution_count": 7,
   "metadata": {
    "collapsed": false,
    "scrolled": true
   },
   "outputs": [
    {
     "ename": "AttributeError",
     "evalue": "'NoneType' object has no attribute 'is_displayed'",
     "output_type": "error",
     "traceback": [
      "\u001b[0;31m---------------------------------------------------------------------------\u001b[0m",
      "\u001b[0;31mAttributeError\u001b[0m                            Traceback (most recent call last)",
      "\u001b[0;32m<ipython-input-7-7c3a6c38dc4c>\u001b[0m in \u001b[0;36m<module>\u001b[0;34m()\u001b[0m\n\u001b[1;32m      4\u001b[0m     \u001b[0mper_100\u001b[0m \u001b[0;34m=\u001b[0m \u001b[0mget_100\u001b[0m\u001b[0;34m(\u001b[0m\u001b[0murl\u001b[0m\u001b[0;34m)\u001b[0m\u001b[0;34m\u001b[0m\u001b[0m\n\u001b[1;32m      5\u001b[0m     \u001b[0mshooting\u001b[0m \u001b[0;34m=\u001b[0m \u001b[0mget_shooting\u001b[0m\u001b[0;34m(\u001b[0m\u001b[0murl\u001b[0m\u001b[0;34m)\u001b[0m\u001b[0;34m\u001b[0m\u001b[0m\n\u001b[0;32m----> 6\u001b[0;31m     \u001b[0madvanced\u001b[0m \u001b[0;34m=\u001b[0m \u001b[0mget_advanced\u001b[0m\u001b[0;34m(\u001b[0m\u001b[0murl\u001b[0m\u001b[0;34m)\u001b[0m\u001b[0;34m\u001b[0m\u001b[0m\n\u001b[0m\u001b[1;32m      7\u001b[0m \u001b[0;34m\u001b[0m\u001b[0m\n\u001b[1;32m      8\u001b[0m     \u001b[0;31m# Build dataframe in order\u001b[0m\u001b[0;34m\u001b[0m\u001b[0;34m\u001b[0m\u001b[0m\n",
      "\u001b[0;32m/Users/alexcheng/Dropbox/GitHub/nba_type_repo/NBA_Player_Types/lib/web_scrape.pyc\u001b[0m in \u001b[0;36mget_advanced\u001b[0;34m(url)\u001b[0m\n\u001b[1;32m    149\u001b[0m \u001b[0;34m\u001b[0m\u001b[0m\n\u001b[1;32m    150\u001b[0m     WebDriverWait(driver, 30).until(EC.element_to_be_clickable(\n\u001b[0;32m--> 151\u001b[0;31m             (By.XPATH, \"\"\"//*[@id=\"all_advanced\"]/div[1]/div/ul/li[1]/div/ul/li[4]/button\"\"\"))).click()\n\u001b[0m\u001b[1;32m    152\u001b[0m \u001b[0;34m\u001b[0m\u001b[0m\n\u001b[1;32m    153\u001b[0m     WebDriverWait(driver, 30).until(EC.element_to_be_clickable(\n",
      "\u001b[0;32m/Users/alexcheng/anaconda/lib/python2.7/site-packages/selenium/webdriver/support/wait.pyc\u001b[0m in \u001b[0;36muntil\u001b[0;34m(self, method, message)\u001b[0m\n\u001b[1;32m     69\u001b[0m         \u001b[0;32mwhile\u001b[0m \u001b[0mTrue\u001b[0m\u001b[0;34m:\u001b[0m\u001b[0;34m\u001b[0m\u001b[0m\n\u001b[1;32m     70\u001b[0m             \u001b[0;32mtry\u001b[0m\u001b[0;34m:\u001b[0m\u001b[0;34m\u001b[0m\u001b[0m\n\u001b[0;32m---> 71\u001b[0;31m                 \u001b[0mvalue\u001b[0m \u001b[0;34m=\u001b[0m \u001b[0mmethod\u001b[0m\u001b[0;34m(\u001b[0m\u001b[0mself\u001b[0m\u001b[0;34m.\u001b[0m\u001b[0m_driver\u001b[0m\u001b[0;34m)\u001b[0m\u001b[0;34m\u001b[0m\u001b[0m\n\u001b[0m\u001b[1;32m     72\u001b[0m                 \u001b[0;32mif\u001b[0m \u001b[0mvalue\u001b[0m\u001b[0;34m:\u001b[0m\u001b[0;34m\u001b[0m\u001b[0m\n\u001b[1;32m     73\u001b[0m                     \u001b[0;32mreturn\u001b[0m \u001b[0mvalue\u001b[0m\u001b[0;34m\u001b[0m\u001b[0m\n",
      "\u001b[0;32m/Users/alexcheng/anaconda/lib/python2.7/site-packages/selenium/webdriver/support/expected_conditions.pyc\u001b[0m in \u001b[0;36m__call__\u001b[0;34m(self, driver)\u001b[0m\n\u001b[1;32m    211\u001b[0m \u001b[0;34m\u001b[0m\u001b[0m\n\u001b[1;32m    212\u001b[0m     \u001b[0;32mdef\u001b[0m \u001b[0m__call__\u001b[0m\u001b[0;34m(\u001b[0m\u001b[0mself\u001b[0m\u001b[0;34m,\u001b[0m \u001b[0mdriver\u001b[0m\u001b[0;34m)\u001b[0m\u001b[0;34m:\u001b[0m\u001b[0;34m\u001b[0m\u001b[0m\n\u001b[0;32m--> 213\u001b[0;31m         \u001b[0melement\u001b[0m \u001b[0;34m=\u001b[0m \u001b[0mvisibility_of_element_located\u001b[0m\u001b[0;34m(\u001b[0m\u001b[0mself\u001b[0m\u001b[0;34m.\u001b[0m\u001b[0mlocator\u001b[0m\u001b[0;34m)\u001b[0m\u001b[0;34m(\u001b[0m\u001b[0mdriver\u001b[0m\u001b[0;34m)\u001b[0m\u001b[0;34m\u001b[0m\u001b[0m\n\u001b[0m\u001b[1;32m    214\u001b[0m         \u001b[0;32mif\u001b[0m \u001b[0melement\u001b[0m \u001b[0;32mand\u001b[0m \u001b[0melement\u001b[0m\u001b[0;34m.\u001b[0m\u001b[0mis_enabled\u001b[0m\u001b[0;34m(\u001b[0m\u001b[0;34m)\u001b[0m\u001b[0;34m:\u001b[0m\u001b[0;34m\u001b[0m\u001b[0m\n\u001b[1;32m    215\u001b[0m             \u001b[0;32mreturn\u001b[0m \u001b[0melement\u001b[0m\u001b[0;34m\u001b[0m\u001b[0m\n",
      "\u001b[0;32m/Users/alexcheng/anaconda/lib/python2.7/site-packages/selenium/webdriver/support/expected_conditions.pyc\u001b[0m in \u001b[0;36m__call__\u001b[0;34m(self, driver)\u001b[0m\n\u001b[1;32m     76\u001b[0m     \u001b[0;32mdef\u001b[0m \u001b[0m__call__\u001b[0m\u001b[0;34m(\u001b[0m\u001b[0mself\u001b[0m\u001b[0;34m,\u001b[0m \u001b[0mdriver\u001b[0m\u001b[0;34m)\u001b[0m\u001b[0;34m:\u001b[0m\u001b[0;34m\u001b[0m\u001b[0m\n\u001b[1;32m     77\u001b[0m         \u001b[0;32mtry\u001b[0m\u001b[0;34m:\u001b[0m\u001b[0;34m\u001b[0m\u001b[0m\n\u001b[0;32m---> 78\u001b[0;31m             \u001b[0;32mreturn\u001b[0m \u001b[0m_element_if_visible\u001b[0m\u001b[0;34m(\u001b[0m\u001b[0m_find_element\u001b[0m\u001b[0;34m(\u001b[0m\u001b[0mdriver\u001b[0m\u001b[0;34m,\u001b[0m \u001b[0mself\u001b[0m\u001b[0;34m.\u001b[0m\u001b[0mlocator\u001b[0m\u001b[0;34m)\u001b[0m\u001b[0;34m)\u001b[0m\u001b[0;34m\u001b[0m\u001b[0m\n\u001b[0m\u001b[1;32m     79\u001b[0m         \u001b[0;32mexcept\u001b[0m \u001b[0mStaleElementReferenceException\u001b[0m\u001b[0;34m:\u001b[0m\u001b[0;34m\u001b[0m\u001b[0m\n\u001b[1;32m     80\u001b[0m             \u001b[0;32mreturn\u001b[0m \u001b[0mFalse\u001b[0m\u001b[0;34m\u001b[0m\u001b[0m\n",
      "\u001b[0;32m/Users/alexcheng/anaconda/lib/python2.7/site-packages/selenium/webdriver/support/expected_conditions.pyc\u001b[0m in \u001b[0;36m_element_if_visible\u001b[0;34m(element, visibility)\u001b[0m\n\u001b[1;32m     96\u001b[0m \u001b[0;34m\u001b[0m\u001b[0m\n\u001b[1;32m     97\u001b[0m \u001b[0;32mdef\u001b[0m \u001b[0m_element_if_visible\u001b[0m\u001b[0;34m(\u001b[0m\u001b[0melement\u001b[0m\u001b[0;34m,\u001b[0m \u001b[0mvisibility\u001b[0m\u001b[0;34m=\u001b[0m\u001b[0mTrue\u001b[0m\u001b[0;34m)\u001b[0m\u001b[0;34m:\u001b[0m\u001b[0;34m\u001b[0m\u001b[0m\n\u001b[0;32m---> 98\u001b[0;31m     \u001b[0;32mreturn\u001b[0m \u001b[0melement\u001b[0m \u001b[0;32mif\u001b[0m \u001b[0melement\u001b[0m\u001b[0;34m.\u001b[0m\u001b[0mis_displayed\u001b[0m\u001b[0;34m(\u001b[0m\u001b[0;34m)\u001b[0m \u001b[0;34m==\u001b[0m \u001b[0mvisibility\u001b[0m \u001b[0;32melse\u001b[0m \u001b[0mFalse\u001b[0m\u001b[0;34m\u001b[0m\u001b[0m\n\u001b[0m\u001b[1;32m     99\u001b[0m \u001b[0;34m\u001b[0m\u001b[0m\n\u001b[1;32m    100\u001b[0m \u001b[0;34m\u001b[0m\u001b[0m\n",
      "\u001b[0;31mAttributeError\u001b[0m: 'NoneType' object has no attribute 'is_displayed'"
     ]
    }
   ],
   "source": [
    "# Web Scraping\n",
    "for url in url_list:\n",
    "    # Select which tables to scrape from\n",
    "    per_100 = get_100(url)\n",
    "    shooting = get_shooting(url)\n",
    "    advanced = get_advanced(url)\n",
    "    \n",
    "    # Build dataframe in order\n",
    "    df = [per_100, shooting, advanced]\n",
    "    player_stats = []\n",
    "    for sublist in df:\n",
    "        for val in sublist:\n",
    "            player_stats.append(val)\n",
    "    \n",
    "    # Save to temporary list\n",
    "    tmp_list.append(player_stats)"
   ]
  },
  {
   "cell_type": "code",
   "execution_count": null,
   "metadata": {
    "collapsed": false
   },
   "outputs": [],
   "source": [
    "# Retrieve columns\n",
    "per_100_cols = get_100_cols()\n",
    "shoot_cols = get_shoot_cols()\n",
    "advanced_cols = get_adv_cols()\n",
    "\n",
    "tmp_list1 = [per_100_cols, shoot_cols, advanced_cols]\n",
    "cols = []\n",
    "for sublist in tmp_list1:\n",
    "    for val in sublist:\n",
    "        cols.append(val)"
   ]
  },
  {
   "cell_type": "code",
   "execution_count": null,
   "metadata": {
    "collapsed": false
   },
   "outputs": [],
   "source": [
    "# Build dataframe\n",
    "cleaned_stats = pd.DataFrame(tmp_list, columns=cols)\n",
    "cleaned_stats.head()"
   ]
  },
  {
   "cell_type": "code",
   "execution_count": null,
   "metadata": {
    "collapsed": false
   },
   "outputs": [],
   "source": [
    "# Merge dataframes to combine names \n",
    "cumulative_player_stats = pd.merge(player_stats, cleaned_stats, on='Player_ID', how='right')"
   ]
  },
  {
   "cell_type": "code",
   "execution_count": null,
   "metadata": {
    "collapsed": true
   },
   "outputs": [],
   "source": [
    "file1_loc = \"data/example_player_stats.csv\"\n",
    "\n",
    "# Save to CSV\n",
    "cumulative_player_stats.to_csv(file1_loc)"
   ]
  },
  {
   "cell_type": "code",
   "execution_count": null,
   "metadata": {
    "collapsed": true
   },
   "outputs": [],
   "source": []
  }
 ],
 "metadata": {
  "anaconda-cloud": {},
  "kernelspec": {
   "display_name": "Python 2",
   "language": "python",
   "name": "python2"
  },
  "language_info": {
   "codemirror_mode": {
    "name": "ipython",
    "version": 2
   },
   "file_extension": ".py",
   "mimetype": "text/x-python",
   "name": "python",
   "nbconvert_exporter": "python",
   "pygments_lexer": "ipython2",
   "version": "2.7.13"
  }
 },
 "nbformat": 4,
 "nbformat_minor": 0
}
